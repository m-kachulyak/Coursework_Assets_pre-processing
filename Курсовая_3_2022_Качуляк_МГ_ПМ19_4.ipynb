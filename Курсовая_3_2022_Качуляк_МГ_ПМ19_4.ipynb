{
  "cells": [
    {
      "cell_type": "markdown",
      "source": [
        "# Установка пакетов/библиотек"
      ],
      "metadata": {
        "id": "0MPEFk22mh7h"
      },
      "id": "0MPEFk22mh7h"
    },
    {
      "cell_type": "code",
      "execution_count": 232,
      "id": "f55708a3",
      "metadata": {
        "id": "f55708a3"
      },
      "outputs": [],
      "source": [
        "import pandas as pd\n",
        "import numpy as np\n",
        "import seaborn as sns\n",
        "import matplotlib.pyplot as plt\n",
        "import warnings\n",
        "warnings.simplefilter(action='ignore', category=FutureWarning)\n",
        "\n",
        "from sklearn import metrics\n",
        "import time\n",
        "from sklearn.neighbors import KNeighborsClassifier\n",
        "from sklearn.model_selection import train_test_split"
      ]
    },
    {
      "cell_type": "code",
      "source": [
        "from google.colab import drive\n",
        "drive.mount('/content/drive')"
      ],
      "metadata": {
        "colab": {
          "base_uri": "https://localhost:8080/"
        },
        "id": "g6nL9ZnemL23",
        "outputId": "7b0a6ef6-c049-4783-dcf0-ebb53eabe510"
      },
      "id": "g6nL9ZnemL23",
      "execution_count": 233,
      "outputs": [
        {
          "output_type": "stream",
          "name": "stdout",
          "text": [
            "Drive already mounted at /content/drive; to attempt to forcibly remount, call drive.mount(\"/content/drive\", force_remount=True).\n"
          ]
        }
      ]
    },
    {
      "cell_type": "markdown",
      "source": [
        "# Аналитическая обработка данных"
      ],
      "metadata": {
        "id": "xkVodnuJmoQI"
      },
      "id": "xkVodnuJmoQI"
    },
    {
      "cell_type": "code",
      "execution_count": 275,
      "id": "70c1593d",
      "metadata": {
        "id": "70c1593d"
      },
      "outputs": [],
      "source": [
        "df = pd.read_csv('/content/drive/MyDrive/Last Курсач/data.csv')\n",
        "df.columns = ['Bankrupt'] + ['x_{}'.format(x) for x in range(1, len(df.columns))]"
      ]
    },
    {
      "cell_type": "code",
      "source": [
        "df.head()"
      ],
      "metadata": {
        "id": "awqmYUf9K34G",
        "colab": {
          "base_uri": "https://localhost:8080/",
          "height": 172
        },
        "outputId": "b318765f-87df-4301-aa13-6495cf6d0a4b"
      },
      "id": "awqmYUf9K34G",
      "execution_count": 276,
      "outputs": [
        {
          "output_type": "execute_result",
          "data": {
            "text/plain": [
              "   Bankrupt       x_1       x_2       x_3       x_4       x_5       x_6  \\\n",
              "0         1  0.370594  0.424389  0.405750  0.601457  0.601457  0.998969   \n",
              "1         1  0.464291  0.538214  0.516730  0.610235  0.610235  0.998946   \n",
              "2         1  0.426071  0.499019  0.472295  0.601450  0.601364  0.998857   \n",
              "3         1  0.399844  0.451265  0.457733  0.583541  0.583541  0.998700   \n",
              "4         1  0.465022  0.538432  0.522298  0.598783  0.598783  0.998973   \n",
              "\n",
              "        x_7       x_8       x_9  ...      x_86      x_87      x_88      x_89  \\\n",
              "0  0.796887  0.808809  0.302646  ...  0.716845  0.009219  0.622879  0.601453   \n",
              "1  0.797380  0.809301  0.303556  ...  0.795297  0.008323  0.623652  0.610237   \n",
              "2  0.796403  0.808388  0.302035  ...  0.774670  0.040003  0.623841  0.601449   \n",
              "3  0.796967  0.808966  0.303350  ...  0.739555  0.003252  0.622929  0.583538   \n",
              "4  0.797366  0.809304  0.303475  ...  0.795016  0.003878  0.623521  0.598782   \n",
              "\n",
              "       x_90      x_91      x_92      x_93  x_94      x_95  \n",
              "0  0.827890  0.290202  0.026601  0.564050     1  0.016469  \n",
              "1  0.839969  0.283846  0.264577  0.570175     1  0.020794  \n",
              "2  0.836774  0.290189  0.026555  0.563706     1  0.016474  \n",
              "3  0.834697  0.281721  0.026697  0.564663     1  0.023982  \n",
              "4  0.839973  0.278514  0.024752  0.575617     1  0.035490  \n",
              "\n",
              "[5 rows x 96 columns]"
            ],
            "text/html": [
              "\n",
              "  <div id=\"df-2f321454-169a-4c91-93bf-f8158bd7bf4e\">\n",
              "    <div class=\"colab-df-container\">\n",
              "      <div>\n",
              "<style scoped>\n",
              "    .dataframe tbody tr th:only-of-type {\n",
              "        vertical-align: middle;\n",
              "    }\n",
              "\n",
              "    .dataframe tbody tr th {\n",
              "        vertical-align: top;\n",
              "    }\n",
              "\n",
              "    .dataframe thead th {\n",
              "        text-align: right;\n",
              "    }\n",
              "</style>\n",
              "<table border=\"1\" class=\"dataframe\">\n",
              "  <thead>\n",
              "    <tr style=\"text-align: right;\">\n",
              "      <th></th>\n",
              "      <th>Bankrupt</th>\n",
              "      <th>x_1</th>\n",
              "      <th>x_2</th>\n",
              "      <th>x_3</th>\n",
              "      <th>x_4</th>\n",
              "      <th>x_5</th>\n",
              "      <th>x_6</th>\n",
              "      <th>x_7</th>\n",
              "      <th>x_8</th>\n",
              "      <th>x_9</th>\n",
              "      <th>...</th>\n",
              "      <th>x_86</th>\n",
              "      <th>x_87</th>\n",
              "      <th>x_88</th>\n",
              "      <th>x_89</th>\n",
              "      <th>x_90</th>\n",
              "      <th>x_91</th>\n",
              "      <th>x_92</th>\n",
              "      <th>x_93</th>\n",
              "      <th>x_94</th>\n",
              "      <th>x_95</th>\n",
              "    </tr>\n",
              "  </thead>\n",
              "  <tbody>\n",
              "    <tr>\n",
              "      <th>0</th>\n",
              "      <td>1</td>\n",
              "      <td>0.370594</td>\n",
              "      <td>0.424389</td>\n",
              "      <td>0.405750</td>\n",
              "      <td>0.601457</td>\n",
              "      <td>0.601457</td>\n",
              "      <td>0.998969</td>\n",
              "      <td>0.796887</td>\n",
              "      <td>0.808809</td>\n",
              "      <td>0.302646</td>\n",
              "      <td>...</td>\n",
              "      <td>0.716845</td>\n",
              "      <td>0.009219</td>\n",
              "      <td>0.622879</td>\n",
              "      <td>0.601453</td>\n",
              "      <td>0.827890</td>\n",
              "      <td>0.290202</td>\n",
              "      <td>0.026601</td>\n",
              "      <td>0.564050</td>\n",
              "      <td>1</td>\n",
              "      <td>0.016469</td>\n",
              "    </tr>\n",
              "    <tr>\n",
              "      <th>1</th>\n",
              "      <td>1</td>\n",
              "      <td>0.464291</td>\n",
              "      <td>0.538214</td>\n",
              "      <td>0.516730</td>\n",
              "      <td>0.610235</td>\n",
              "      <td>0.610235</td>\n",
              "      <td>0.998946</td>\n",
              "      <td>0.797380</td>\n",
              "      <td>0.809301</td>\n",
              "      <td>0.303556</td>\n",
              "      <td>...</td>\n",
              "      <td>0.795297</td>\n",
              "      <td>0.008323</td>\n",
              "      <td>0.623652</td>\n",
              "      <td>0.610237</td>\n",
              "      <td>0.839969</td>\n",
              "      <td>0.283846</td>\n",
              "      <td>0.264577</td>\n",
              "      <td>0.570175</td>\n",
              "      <td>1</td>\n",
              "      <td>0.020794</td>\n",
              "    </tr>\n",
              "    <tr>\n",
              "      <th>2</th>\n",
              "      <td>1</td>\n",
              "      <td>0.426071</td>\n",
              "      <td>0.499019</td>\n",
              "      <td>0.472295</td>\n",
              "      <td>0.601450</td>\n",
              "      <td>0.601364</td>\n",
              "      <td>0.998857</td>\n",
              "      <td>0.796403</td>\n",
              "      <td>0.808388</td>\n",
              "      <td>0.302035</td>\n",
              "      <td>...</td>\n",
              "      <td>0.774670</td>\n",
              "      <td>0.040003</td>\n",
              "      <td>0.623841</td>\n",
              "      <td>0.601449</td>\n",
              "      <td>0.836774</td>\n",
              "      <td>0.290189</td>\n",
              "      <td>0.026555</td>\n",
              "      <td>0.563706</td>\n",
              "      <td>1</td>\n",
              "      <td>0.016474</td>\n",
              "    </tr>\n",
              "    <tr>\n",
              "      <th>3</th>\n",
              "      <td>1</td>\n",
              "      <td>0.399844</td>\n",
              "      <td>0.451265</td>\n",
              "      <td>0.457733</td>\n",
              "      <td>0.583541</td>\n",
              "      <td>0.583541</td>\n",
              "      <td>0.998700</td>\n",
              "      <td>0.796967</td>\n",
              "      <td>0.808966</td>\n",
              "      <td>0.303350</td>\n",
              "      <td>...</td>\n",
              "      <td>0.739555</td>\n",
              "      <td>0.003252</td>\n",
              "      <td>0.622929</td>\n",
              "      <td>0.583538</td>\n",
              "      <td>0.834697</td>\n",
              "      <td>0.281721</td>\n",
              "      <td>0.026697</td>\n",
              "      <td>0.564663</td>\n",
              "      <td>1</td>\n",
              "      <td>0.023982</td>\n",
              "    </tr>\n",
              "    <tr>\n",
              "      <th>4</th>\n",
              "      <td>1</td>\n",
              "      <td>0.465022</td>\n",
              "      <td>0.538432</td>\n",
              "      <td>0.522298</td>\n",
              "      <td>0.598783</td>\n",
              "      <td>0.598783</td>\n",
              "      <td>0.998973</td>\n",
              "      <td>0.797366</td>\n",
              "      <td>0.809304</td>\n",
              "      <td>0.303475</td>\n",
              "      <td>...</td>\n",
              "      <td>0.795016</td>\n",
              "      <td>0.003878</td>\n",
              "      <td>0.623521</td>\n",
              "      <td>0.598782</td>\n",
              "      <td>0.839973</td>\n",
              "      <td>0.278514</td>\n",
              "      <td>0.024752</td>\n",
              "      <td>0.575617</td>\n",
              "      <td>1</td>\n",
              "      <td>0.035490</td>\n",
              "    </tr>\n",
              "  </tbody>\n",
              "</table>\n",
              "<p>5 rows × 96 columns</p>\n",
              "</div>\n",
              "      <button class=\"colab-df-convert\" onclick=\"convertToInteractive('df-2f321454-169a-4c91-93bf-f8158bd7bf4e')\"\n",
              "              title=\"Convert this dataframe to an interactive table.\"\n",
              "              style=\"display:none;\">\n",
              "        \n",
              "  <svg xmlns=\"http://www.w3.org/2000/svg\" height=\"24px\"viewBox=\"0 0 24 24\"\n",
              "       width=\"24px\">\n",
              "    <path d=\"M0 0h24v24H0V0z\" fill=\"none\"/>\n",
              "    <path d=\"M18.56 5.44l.94 2.06.94-2.06 2.06-.94-2.06-.94-.94-2.06-.94 2.06-2.06.94zm-11 1L8.5 8.5l.94-2.06 2.06-.94-2.06-.94L8.5 2.5l-.94 2.06-2.06.94zm10 10l.94 2.06.94-2.06 2.06-.94-2.06-.94-.94-2.06-.94 2.06-2.06.94z\"/><path d=\"M17.41 7.96l-1.37-1.37c-.4-.4-.92-.59-1.43-.59-.52 0-1.04.2-1.43.59L10.3 9.45l-7.72 7.72c-.78.78-.78 2.05 0 2.83L4 21.41c.39.39.9.59 1.41.59.51 0 1.02-.2 1.41-.59l7.78-7.78 2.81-2.81c.8-.78.8-2.07 0-2.86zM5.41 20L4 18.59l7.72-7.72 1.47 1.35L5.41 20z\"/>\n",
              "  </svg>\n",
              "      </button>\n",
              "      \n",
              "  <style>\n",
              "    .colab-df-container {\n",
              "      display:flex;\n",
              "      flex-wrap:wrap;\n",
              "      gap: 12px;\n",
              "    }\n",
              "\n",
              "    .colab-df-convert {\n",
              "      background-color: #E8F0FE;\n",
              "      border: none;\n",
              "      border-radius: 50%;\n",
              "      cursor: pointer;\n",
              "      display: none;\n",
              "      fill: #1967D2;\n",
              "      height: 32px;\n",
              "      padding: 0 0 0 0;\n",
              "      width: 32px;\n",
              "    }\n",
              "\n",
              "    .colab-df-convert:hover {\n",
              "      background-color: #E2EBFA;\n",
              "      box-shadow: 0px 1px 2px rgba(60, 64, 67, 0.3), 0px 1px 3px 1px rgba(60, 64, 67, 0.15);\n",
              "      fill: #174EA6;\n",
              "    }\n",
              "\n",
              "    [theme=dark] .colab-df-convert {\n",
              "      background-color: #3B4455;\n",
              "      fill: #D2E3FC;\n",
              "    }\n",
              "\n",
              "    [theme=dark] .colab-df-convert:hover {\n",
              "      background-color: #434B5C;\n",
              "      box-shadow: 0px 1px 3px 1px rgba(0, 0, 0, 0.15);\n",
              "      filter: drop-shadow(0px 1px 2px rgba(0, 0, 0, 0.3));\n",
              "      fill: #FFFFFF;\n",
              "    }\n",
              "  </style>\n",
              "\n",
              "      <script>\n",
              "        const buttonEl =\n",
              "          document.querySelector('#df-2f321454-169a-4c91-93bf-f8158bd7bf4e button.colab-df-convert');\n",
              "        buttonEl.style.display =\n",
              "          google.colab.kernel.accessAllowed ? 'block' : 'none';\n",
              "\n",
              "        async function convertToInteractive(key) {\n",
              "          const element = document.querySelector('#df-2f321454-169a-4c91-93bf-f8158bd7bf4e');\n",
              "          const dataTable =\n",
              "            await google.colab.kernel.invokeFunction('convertToInteractive',\n",
              "                                                     [key], {});\n",
              "          if (!dataTable) return;\n",
              "\n",
              "          const docLinkHtml = 'Like what you see? Visit the ' +\n",
              "            '<a target=\"_blank\" href=https://colab.research.google.com/notebooks/data_table.ipynb>data table notebook</a>'\n",
              "            + ' to learn more about interactive tables.';\n",
              "          element.innerHTML = '';\n",
              "          dataTable['output_type'] = 'display_data';\n",
              "          await google.colab.output.renderOutput(dataTable, element);\n",
              "          const docLink = document.createElement('div');\n",
              "          docLink.innerHTML = docLinkHtml;\n",
              "          element.appendChild(docLink);\n",
              "        }\n",
              "      </script>\n",
              "    </div>\n",
              "  </div>\n",
              "  "
            ]
          },
          "metadata": {},
          "execution_count": 276
        }
      ]
    },
    {
      "cell_type": "markdown",
      "source": [
        "## 1. Первичная проверка точности модели\n",
        "\n",
        "Для сравнения результатов точности модели будем использовать обычную регрессионную модель на основе ближайших соседей KNN\n",
        "\n",
        "Для нас важно меньшее значение Precision ( TP/(TP+FP) ), чем большее значение Recall ( TP/(TP+FN) ), тк в нашей задаче оценки активов компаний важнее получить больше ложно предсказанных банкротов, чем вовсе их пропустить\n",
        "\n",
        "Оценка F1 может быть интерпретирована как гармоническое среднее точности и отзыва, где оценка F1 достигает своего наилучшего значения при 1 и худшего балла 0.\n",
        "\n",
        "F1 = 2 * (precision * recall) / (precision + recall)"
      ],
      "metadata": {
        "id": "btK5R5ChhTz9"
      },
      "id": "btK5R5ChhTz9"
    },
    {
      "cell_type": "code",
      "source": [
        "reg,acc,rec,F1,prec,t = [], [], [], [], [], []\n",
        "\n",
        "def make_model(df, name = ''):\n",
        "  results = pd.DataFrame(columns = ['stage'])\n",
        "  X = df.drop(['Bankrupt'], axis = 1)\n",
        "  y = df.Bankrupt\n",
        "  x_train, x_test, y_train, y_test = train_test_split(X, y, test_size = 0.2)\n",
        "\n",
        "  KNC = KNeighborsClassifier()\n",
        "  start_time = time.time()\n",
        "  KNC.fit(x_train, y_train)\n",
        "  y_pred = KNC.predict(x_test)\n",
        "  \n",
        "  t.append(time.time() - start_time)\n",
        "  reg.append(name)\n",
        "  acc.append(metrics.accuracy_score(y_test, y_pred))\n",
        "  prec.append(metrics.precision_score(y_test, y_pred, average=\"macro\"))\n",
        "  rec.append(metrics.recall_score(y_test, y_pred, average=\"macro\"))\n",
        "  F1.append(metrics.f1_score(y_test, y_pred, average=\"macro\"))\n",
        "\n",
        "  results['stage'] = reg\n",
        "  results['accuracy_to_max'] = acc\n",
        "  results['recall_to_max'] = rec\n",
        "  results['F1_to_max'] = F1\n",
        "  results['precision_to_min'] = prec\n",
        "  results['time'] = t\n",
        "  return results\n"
      ],
      "metadata": {
        "id": "9cP0FIFchbsX"
      },
      "id": "9cP0FIFchbsX",
      "execution_count": 277,
      "outputs": []
    },
    {
      "cell_type": "code",
      "source": [
        "make_model(df, name = 'Исходные данные')"
      ],
      "metadata": {
        "colab": {
          "base_uri": "https://localhost:8080/",
          "height": 61
        },
        "id": "wqnnSY7Khbu9",
        "outputId": "0ab07167-a430-483e-9af1-839a29cfaab8"
      },
      "id": "wqnnSY7Khbu9",
      "execution_count": 278,
      "outputs": [
        {
          "output_type": "execute_result",
          "data": {
            "text/plain": [
              "             stage  accuracy_to_max  recall_to_max  F1_to_max  \\\n",
              "0  Исходные данные         0.964809       0.499241   0.491045   \n",
              "\n",
              "   precision_to_min      time  \n",
              "0          0.483113  0.289464  "
            ],
            "text/html": [
              "\n",
              "  <div id=\"df-d9d959e5-409f-42ad-8cb0-e02207744934\">\n",
              "    <div class=\"colab-df-container\">\n",
              "      <div>\n",
              "<style scoped>\n",
              "    .dataframe tbody tr th:only-of-type {\n",
              "        vertical-align: middle;\n",
              "    }\n",
              "\n",
              "    .dataframe tbody tr th {\n",
              "        vertical-align: top;\n",
              "    }\n",
              "\n",
              "    .dataframe thead th {\n",
              "        text-align: right;\n",
              "    }\n",
              "</style>\n",
              "<table border=\"1\" class=\"dataframe\">\n",
              "  <thead>\n",
              "    <tr style=\"text-align: right;\">\n",
              "      <th></th>\n",
              "      <th>stage</th>\n",
              "      <th>accuracy_to_max</th>\n",
              "      <th>recall_to_max</th>\n",
              "      <th>F1_to_max</th>\n",
              "      <th>precision_to_min</th>\n",
              "      <th>time</th>\n",
              "    </tr>\n",
              "  </thead>\n",
              "  <tbody>\n",
              "    <tr>\n",
              "      <th>0</th>\n",
              "      <td>Исходные данные</td>\n",
              "      <td>0.964809</td>\n",
              "      <td>0.499241</td>\n",
              "      <td>0.491045</td>\n",
              "      <td>0.483113</td>\n",
              "      <td>0.289464</td>\n",
              "    </tr>\n",
              "  </tbody>\n",
              "</table>\n",
              "</div>\n",
              "      <button class=\"colab-df-convert\" onclick=\"convertToInteractive('df-d9d959e5-409f-42ad-8cb0-e02207744934')\"\n",
              "              title=\"Convert this dataframe to an interactive table.\"\n",
              "              style=\"display:none;\">\n",
              "        \n",
              "  <svg xmlns=\"http://www.w3.org/2000/svg\" height=\"24px\"viewBox=\"0 0 24 24\"\n",
              "       width=\"24px\">\n",
              "    <path d=\"M0 0h24v24H0V0z\" fill=\"none\"/>\n",
              "    <path d=\"M18.56 5.44l.94 2.06.94-2.06 2.06-.94-2.06-.94-.94-2.06-.94 2.06-2.06.94zm-11 1L8.5 8.5l.94-2.06 2.06-.94-2.06-.94L8.5 2.5l-.94 2.06-2.06.94zm10 10l.94 2.06.94-2.06 2.06-.94-2.06-.94-.94-2.06-.94 2.06-2.06.94z\"/><path d=\"M17.41 7.96l-1.37-1.37c-.4-.4-.92-.59-1.43-.59-.52 0-1.04.2-1.43.59L10.3 9.45l-7.72 7.72c-.78.78-.78 2.05 0 2.83L4 21.41c.39.39.9.59 1.41.59.51 0 1.02-.2 1.41-.59l7.78-7.78 2.81-2.81c.8-.78.8-2.07 0-2.86zM5.41 20L4 18.59l7.72-7.72 1.47 1.35L5.41 20z\"/>\n",
              "  </svg>\n",
              "      </button>\n",
              "      \n",
              "  <style>\n",
              "    .colab-df-container {\n",
              "      display:flex;\n",
              "      flex-wrap:wrap;\n",
              "      gap: 12px;\n",
              "    }\n",
              "\n",
              "    .colab-df-convert {\n",
              "      background-color: #E8F0FE;\n",
              "      border: none;\n",
              "      border-radius: 50%;\n",
              "      cursor: pointer;\n",
              "      display: none;\n",
              "      fill: #1967D2;\n",
              "      height: 32px;\n",
              "      padding: 0 0 0 0;\n",
              "      width: 32px;\n",
              "    }\n",
              "\n",
              "    .colab-df-convert:hover {\n",
              "      background-color: #E2EBFA;\n",
              "      box-shadow: 0px 1px 2px rgba(60, 64, 67, 0.3), 0px 1px 3px 1px rgba(60, 64, 67, 0.15);\n",
              "      fill: #174EA6;\n",
              "    }\n",
              "\n",
              "    [theme=dark] .colab-df-convert {\n",
              "      background-color: #3B4455;\n",
              "      fill: #D2E3FC;\n",
              "    }\n",
              "\n",
              "    [theme=dark] .colab-df-convert:hover {\n",
              "      background-color: #434B5C;\n",
              "      box-shadow: 0px 1px 3px 1px rgba(0, 0, 0, 0.15);\n",
              "      filter: drop-shadow(0px 1px 2px rgba(0, 0, 0, 0.3));\n",
              "      fill: #FFFFFF;\n",
              "    }\n",
              "  </style>\n",
              "\n",
              "      <script>\n",
              "        const buttonEl =\n",
              "          document.querySelector('#df-d9d959e5-409f-42ad-8cb0-e02207744934 button.colab-df-convert');\n",
              "        buttonEl.style.display =\n",
              "          google.colab.kernel.accessAllowed ? 'block' : 'none';\n",
              "\n",
              "        async function convertToInteractive(key) {\n",
              "          const element = document.querySelector('#df-d9d959e5-409f-42ad-8cb0-e02207744934');\n",
              "          const dataTable =\n",
              "            await google.colab.kernel.invokeFunction('convertToInteractive',\n",
              "                                                     [key], {});\n",
              "          if (!dataTable) return;\n",
              "\n",
              "          const docLinkHtml = 'Like what you see? Visit the ' +\n",
              "            '<a target=\"_blank\" href=https://colab.research.google.com/notebooks/data_table.ipynb>data table notebook</a>'\n",
              "            + ' to learn more about interactive tables.';\n",
              "          element.innerHTML = '';\n",
              "          dataTable['output_type'] = 'display_data';\n",
              "          await google.colab.output.renderOutput(dataTable, element);\n",
              "          const docLink = document.createElement('div');\n",
              "          docLink.innerHTML = docLinkHtml;\n",
              "          element.appendChild(docLink);\n",
              "        }\n",
              "      </script>\n",
              "    </div>\n",
              "  </div>\n",
              "  "
            ]
          },
          "metadata": {},
          "execution_count": 278
        }
      ]
    },
    {
      "cell_type": "markdown",
      "id": "a901aa13",
      "metadata": {
        "id": "a901aa13"
      },
      "source": [
        "## 2. Описательная статистика: размер, типы переменных, пустые значения, уникальные имена и дубликаты"
      ]
    },
    {
      "cell_type": "markdown",
      "source": [
        "\n",
        "\n",
        "*   **Целевая переменная** - статус компании (банкрот/ не банкрот)\n",
        "*   **Основная задача** - классификация\n",
        "\n",
        "\n"
      ],
      "metadata": {
        "id": "dufM0U_VK7OO"
      },
      "id": "dufM0U_VK7OO"
    },
    {
      "cell_type": "code",
      "execution_count": 279,
      "id": "57f596ed",
      "metadata": {
        "colab": {
          "base_uri": "https://localhost:8080/"
        },
        "id": "57f596ed",
        "outputId": "e27d0b3b-69bb-4637-aa3c-a3f33fe6265e"
      },
      "outputs": [
        {
          "output_type": "execute_result",
          "data": {
            "text/plain": [
              "(6819, 96)"
            ]
          },
          "metadata": {},
          "execution_count": 279
        }
      ],
      "source": [
        "df.shape # размер"
      ]
    },
    {
      "cell_type": "code",
      "execution_count": 280,
      "id": "00f8315f",
      "metadata": {
        "collapsed": true,
        "colab": {
          "base_uri": "https://localhost:8080/"
        },
        "id": "00f8315f",
        "outputId": "217e959d-1652-40e6-9a21-f2c21d6abdd0"
      },
      "outputs": [
        {
          "output_type": "stream",
          "name": "stdout",
          "text": [
            "<class 'pandas.core.frame.DataFrame'>\n",
            "RangeIndex: 6819 entries, 0 to 6818\n",
            "Data columns (total 96 columns):\n",
            " #   Column    Non-Null Count  Dtype  \n",
            "---  ------    --------------  -----  \n",
            " 0   Bankrupt  6819 non-null   int64  \n",
            " 1   x_1       6819 non-null   float64\n",
            " 2   x_2       6819 non-null   float64\n",
            " 3   x_3       6819 non-null   float64\n",
            " 4   x_4       6819 non-null   float64\n",
            " 5   x_5       6819 non-null   float64\n",
            " 6   x_6       6819 non-null   float64\n",
            " 7   x_7       6819 non-null   float64\n",
            " 8   x_8       6819 non-null   float64\n",
            " 9   x_9       6819 non-null   float64\n",
            " 10  x_10      6819 non-null   float64\n",
            " 11  x_11      6819 non-null   float64\n",
            " 12  x_12      6819 non-null   float64\n",
            " 13  x_13      6819 non-null   float64\n",
            " 14  x_14      6819 non-null   float64\n",
            " 15  x_15      6819 non-null   float64\n",
            " 16  x_16      6819 non-null   float64\n",
            " 17  x_17      6819 non-null   float64\n",
            " 18  x_18      6819 non-null   float64\n",
            " 19  x_19      6819 non-null   float64\n",
            " 20  x_20      6819 non-null   float64\n",
            " 21  x_21      6819 non-null   float64\n",
            " 22  x_22      6819 non-null   float64\n",
            " 23  x_23      6819 non-null   float64\n",
            " 24  x_24      6819 non-null   float64\n",
            " 25  x_25      6819 non-null   float64\n",
            " 26  x_26      6819 non-null   float64\n",
            " 27  x_27      6819 non-null   float64\n",
            " 28  x_28      6819 non-null   float64\n",
            " 29  x_29      6819 non-null   float64\n",
            " 30  x_30      6819 non-null   float64\n",
            " 31  x_31      6819 non-null   float64\n",
            " 32  x_32      6819 non-null   float64\n",
            " 33  x_33      6819 non-null   float64\n",
            " 34  x_34      6819 non-null   float64\n",
            " 35  x_35      6819 non-null   float64\n",
            " 36  x_36      6819 non-null   float64\n",
            " 37  x_37      6819 non-null   float64\n",
            " 38  x_38      6819 non-null   float64\n",
            " 39  x_39      6819 non-null   float64\n",
            " 40  x_40      6819 non-null   float64\n",
            " 41  x_41      6819 non-null   float64\n",
            " 42  x_42      6819 non-null   float64\n",
            " 43  x_43      6819 non-null   float64\n",
            " 44  x_44      6819 non-null   float64\n",
            " 45  x_45      6819 non-null   float64\n",
            " 46  x_46      6819 non-null   float64\n",
            " 47  x_47      6819 non-null   float64\n",
            " 48  x_48      6819 non-null   float64\n",
            " 49  x_49      6819 non-null   float64\n",
            " 50  x_50      6819 non-null   float64\n",
            " 51  x_51      6819 non-null   float64\n",
            " 52  x_52      6819 non-null   float64\n",
            " 53  x_53      6819 non-null   float64\n",
            " 54  x_54      6819 non-null   float64\n",
            " 55  x_55      6819 non-null   float64\n",
            " 56  x_56      6819 non-null   float64\n",
            " 57  x_57      6819 non-null   float64\n",
            " 58  x_58      6819 non-null   float64\n",
            " 59  x_59      6819 non-null   float64\n",
            " 60  x_60      6819 non-null   float64\n",
            " 61  x_61      6819 non-null   float64\n",
            " 62  x_62      6819 non-null   float64\n",
            " 63  x_63      6819 non-null   float64\n",
            " 64  x_64      6819 non-null   float64\n",
            " 65  x_65      6819 non-null   float64\n",
            " 66  x_66      6819 non-null   float64\n",
            " 67  x_67      6819 non-null   float64\n",
            " 68  x_68      6819 non-null   float64\n",
            " 69  x_69      6819 non-null   float64\n",
            " 70  x_70      6819 non-null   float64\n",
            " 71  x_71      6819 non-null   float64\n",
            " 72  x_72      6819 non-null   float64\n",
            " 73  x_73      6819 non-null   float64\n",
            " 74  x_74      6819 non-null   float64\n",
            " 75  x_75      6819 non-null   float64\n",
            " 76  x_76      6819 non-null   float64\n",
            " 77  x_77      6819 non-null   float64\n",
            " 78  x_78      6819 non-null   float64\n",
            " 79  x_79      6819 non-null   float64\n",
            " 80  x_80      6819 non-null   float64\n",
            " 81  x_81      6819 non-null   float64\n",
            " 82  x_82      6819 non-null   float64\n",
            " 83  x_83      6819 non-null   float64\n",
            " 84  x_84      6819 non-null   float64\n",
            " 85  x_85      6819 non-null   int64  \n",
            " 86  x_86      6819 non-null   float64\n",
            " 87  x_87      6819 non-null   float64\n",
            " 88  x_88      6819 non-null   float64\n",
            " 89  x_89      6819 non-null   float64\n",
            " 90  x_90      6819 non-null   float64\n",
            " 91  x_91      6819 non-null   float64\n",
            " 92  x_92      6819 non-null   float64\n",
            " 93  x_93      6819 non-null   float64\n",
            " 94  x_94      6819 non-null   int64  \n",
            " 95  x_95      6819 non-null   float64\n",
            "dtypes: float64(93), int64(3)\n",
            "memory usage: 5.0 MB\n"
          ]
        }
      ],
      "source": [
        "df.info() # информация о типе данных и количестве пропусков"
      ]
    },
    {
      "cell_type": "code",
      "source": [
        "def nulls_table(df):        # проверка количества пропусков\n",
        "  gg = df.isnull().sum()/len(df)*100\n",
        "  dd = pd.DataFrame({'column':gg.index, 'nulls_%': gg.values}).sort_values(by = 'nulls_%', ascending=False)\n",
        "  return dd[dd['nulls_%']>0]\n",
        "\n",
        "nulls_table(df)"
      ],
      "metadata": {
        "colab": {
          "base_uri": "https://localhost:8080/",
          "height": 49
        },
        "id": "T5A2AWO_vq8c",
        "outputId": "b07106c9-9201-481a-a780-1d0a18f48417"
      },
      "id": "T5A2AWO_vq8c",
      "execution_count": 281,
      "outputs": [
        {
          "output_type": "execute_result",
          "data": {
            "text/plain": [
              "Empty DataFrame\n",
              "Columns: [column, nulls_%]\n",
              "Index: []"
            ],
            "text/html": [
              "\n",
              "  <div id=\"df-77a05ef1-23b1-40c9-9d0b-5d0072df62cd\">\n",
              "    <div class=\"colab-df-container\">\n",
              "      <div>\n",
              "<style scoped>\n",
              "    .dataframe tbody tr th:only-of-type {\n",
              "        vertical-align: middle;\n",
              "    }\n",
              "\n",
              "    .dataframe tbody tr th {\n",
              "        vertical-align: top;\n",
              "    }\n",
              "\n",
              "    .dataframe thead th {\n",
              "        text-align: right;\n",
              "    }\n",
              "</style>\n",
              "<table border=\"1\" class=\"dataframe\">\n",
              "  <thead>\n",
              "    <tr style=\"text-align: right;\">\n",
              "      <th></th>\n",
              "      <th>column</th>\n",
              "      <th>nulls_%</th>\n",
              "    </tr>\n",
              "  </thead>\n",
              "  <tbody>\n",
              "  </tbody>\n",
              "</table>\n",
              "</div>\n",
              "      <button class=\"colab-df-convert\" onclick=\"convertToInteractive('df-77a05ef1-23b1-40c9-9d0b-5d0072df62cd')\"\n",
              "              title=\"Convert this dataframe to an interactive table.\"\n",
              "              style=\"display:none;\">\n",
              "        \n",
              "  <svg xmlns=\"http://www.w3.org/2000/svg\" height=\"24px\"viewBox=\"0 0 24 24\"\n",
              "       width=\"24px\">\n",
              "    <path d=\"M0 0h24v24H0V0z\" fill=\"none\"/>\n",
              "    <path d=\"M18.56 5.44l.94 2.06.94-2.06 2.06-.94-2.06-.94-.94-2.06-.94 2.06-2.06.94zm-11 1L8.5 8.5l.94-2.06 2.06-.94-2.06-.94L8.5 2.5l-.94 2.06-2.06.94zm10 10l.94 2.06.94-2.06 2.06-.94-2.06-.94-.94-2.06-.94 2.06-2.06.94z\"/><path d=\"M17.41 7.96l-1.37-1.37c-.4-.4-.92-.59-1.43-.59-.52 0-1.04.2-1.43.59L10.3 9.45l-7.72 7.72c-.78.78-.78 2.05 0 2.83L4 21.41c.39.39.9.59 1.41.59.51 0 1.02-.2 1.41-.59l7.78-7.78 2.81-2.81c.8-.78.8-2.07 0-2.86zM5.41 20L4 18.59l7.72-7.72 1.47 1.35L5.41 20z\"/>\n",
              "  </svg>\n",
              "      </button>\n",
              "      \n",
              "  <style>\n",
              "    .colab-df-container {\n",
              "      display:flex;\n",
              "      flex-wrap:wrap;\n",
              "      gap: 12px;\n",
              "    }\n",
              "\n",
              "    .colab-df-convert {\n",
              "      background-color: #E8F0FE;\n",
              "      border: none;\n",
              "      border-radius: 50%;\n",
              "      cursor: pointer;\n",
              "      display: none;\n",
              "      fill: #1967D2;\n",
              "      height: 32px;\n",
              "      padding: 0 0 0 0;\n",
              "      width: 32px;\n",
              "    }\n",
              "\n",
              "    .colab-df-convert:hover {\n",
              "      background-color: #E2EBFA;\n",
              "      box-shadow: 0px 1px 2px rgba(60, 64, 67, 0.3), 0px 1px 3px 1px rgba(60, 64, 67, 0.15);\n",
              "      fill: #174EA6;\n",
              "    }\n",
              "\n",
              "    [theme=dark] .colab-df-convert {\n",
              "      background-color: #3B4455;\n",
              "      fill: #D2E3FC;\n",
              "    }\n",
              "\n",
              "    [theme=dark] .colab-df-convert:hover {\n",
              "      background-color: #434B5C;\n",
              "      box-shadow: 0px 1px 3px 1px rgba(0, 0, 0, 0.15);\n",
              "      filter: drop-shadow(0px 1px 2px rgba(0, 0, 0, 0.3));\n",
              "      fill: #FFFFFF;\n",
              "    }\n",
              "  </style>\n",
              "\n",
              "      <script>\n",
              "        const buttonEl =\n",
              "          document.querySelector('#df-77a05ef1-23b1-40c9-9d0b-5d0072df62cd button.colab-df-convert');\n",
              "        buttonEl.style.display =\n",
              "          google.colab.kernel.accessAllowed ? 'block' : 'none';\n",
              "\n",
              "        async function convertToInteractive(key) {\n",
              "          const element = document.querySelector('#df-77a05ef1-23b1-40c9-9d0b-5d0072df62cd');\n",
              "          const dataTable =\n",
              "            await google.colab.kernel.invokeFunction('convertToInteractive',\n",
              "                                                     [key], {});\n",
              "          if (!dataTable) return;\n",
              "\n",
              "          const docLinkHtml = 'Like what you see? Visit the ' +\n",
              "            '<a target=\"_blank\" href=https://colab.research.google.com/notebooks/data_table.ipynb>data table notebook</a>'\n",
              "            + ' to learn more about interactive tables.';\n",
              "          element.innerHTML = '';\n",
              "          dataTable['output_type'] = 'display_data';\n",
              "          await google.colab.output.renderOutput(dataTable, element);\n",
              "          const docLink = document.createElement('div');\n",
              "          docLink.innerHTML = docLinkHtml;\n",
              "          element.appendChild(docLink);\n",
              "        }\n",
              "      </script>\n",
              "    </div>\n",
              "  </div>\n",
              "  "
            ]
          },
          "metadata": {},
          "execution_count": 281
        }
      ]
    },
    {
      "cell_type": "code",
      "execution_count": 282,
      "id": "51de9fc3",
      "metadata": {
        "colab": {
          "base_uri": "https://localhost:8080/"
        },
        "id": "51de9fc3",
        "outputId": "f83eef37-46a7-45ca-d3d7-7313212ec7af"
      },
      "outputs": [
        {
          "output_type": "execute_result",
          "data": {
            "text/plain": [
              "0"
            ]
          },
          "metadata": {},
          "execution_count": 282
        }
      ],
      "source": [
        "df.duplicated().sum() # наличие дубликатов"
      ]
    },
    {
      "cell_type": "code",
      "execution_count": 283,
      "id": "4e5f6593",
      "metadata": {
        "colab": {
          "base_uri": "https://localhost:8080/"
        },
        "id": "4e5f6593",
        "outputId": "129870c6-e112-420c-95c7-52bcf8aa81af"
      },
      "outputs": [
        {
          "output_type": "execute_result",
          "data": {
            "text/plain": [
              "['x_94']"
            ]
          },
          "metadata": {},
          "execution_count": 283
        }
      ],
      "source": [
        "# Удаление неинформативных признаков с помощью поиска уникальных значений\n",
        "to_del = []\n",
        "for col in df.columns:\n",
        "  if len(df[col].unique()) == 1:\n",
        "    to_del.append(col)\n",
        "\n",
        "to_del"
      ]
    },
    {
      "cell_type": "code",
      "source": [
        "df = df.drop(to_del, axis = 1)"
      ],
      "metadata": {
        "id": "I1G4lXKfytpP"
      },
      "id": "I1G4lXKfytpP",
      "execution_count": 284,
      "outputs": []
    },
    {
      "cell_type": "code",
      "source": [
        "make_model(df, name = '-первичная обработка')"
      ],
      "metadata": {
        "colab": {
          "base_uri": "https://localhost:8080/",
          "height": 83
        },
        "id": "PFXFW2erbQAt",
        "outputId": "fcaf2623-fc5c-4900-9938-99ba33d4e0fb"
      },
      "id": "PFXFW2erbQAt",
      "execution_count": 285,
      "outputs": [
        {
          "output_type": "execute_result",
          "data": {
            "text/plain": [
              "                  stage  accuracy_to_max  recall_to_max  F1_to_max  \\\n",
              "0       Исходные данные         0.964809       0.499241   0.491045   \n",
              "1  -первичная обработка         0.964809       0.509879   0.511038   \n",
              "\n",
              "   precision_to_min      time  \n",
              "0          0.483113  0.289464  \n",
              "1          0.649767  0.288611  "
            ],
            "text/html": [
              "\n",
              "  <div id=\"df-0f3d0280-03e0-45ae-89fe-f7e4a15cf268\">\n",
              "    <div class=\"colab-df-container\">\n",
              "      <div>\n",
              "<style scoped>\n",
              "    .dataframe tbody tr th:only-of-type {\n",
              "        vertical-align: middle;\n",
              "    }\n",
              "\n",
              "    .dataframe tbody tr th {\n",
              "        vertical-align: top;\n",
              "    }\n",
              "\n",
              "    .dataframe thead th {\n",
              "        text-align: right;\n",
              "    }\n",
              "</style>\n",
              "<table border=\"1\" class=\"dataframe\">\n",
              "  <thead>\n",
              "    <tr style=\"text-align: right;\">\n",
              "      <th></th>\n",
              "      <th>stage</th>\n",
              "      <th>accuracy_to_max</th>\n",
              "      <th>recall_to_max</th>\n",
              "      <th>F1_to_max</th>\n",
              "      <th>precision_to_min</th>\n",
              "      <th>time</th>\n",
              "    </tr>\n",
              "  </thead>\n",
              "  <tbody>\n",
              "    <tr>\n",
              "      <th>0</th>\n",
              "      <td>Исходные данные</td>\n",
              "      <td>0.964809</td>\n",
              "      <td>0.499241</td>\n",
              "      <td>0.491045</td>\n",
              "      <td>0.483113</td>\n",
              "      <td>0.289464</td>\n",
              "    </tr>\n",
              "    <tr>\n",
              "      <th>1</th>\n",
              "      <td>-первичная обработка</td>\n",
              "      <td>0.964809</td>\n",
              "      <td>0.509879</td>\n",
              "      <td>0.511038</td>\n",
              "      <td>0.649767</td>\n",
              "      <td>0.288611</td>\n",
              "    </tr>\n",
              "  </tbody>\n",
              "</table>\n",
              "</div>\n",
              "      <button class=\"colab-df-convert\" onclick=\"convertToInteractive('df-0f3d0280-03e0-45ae-89fe-f7e4a15cf268')\"\n",
              "              title=\"Convert this dataframe to an interactive table.\"\n",
              "              style=\"display:none;\">\n",
              "        \n",
              "  <svg xmlns=\"http://www.w3.org/2000/svg\" height=\"24px\"viewBox=\"0 0 24 24\"\n",
              "       width=\"24px\">\n",
              "    <path d=\"M0 0h24v24H0V0z\" fill=\"none\"/>\n",
              "    <path d=\"M18.56 5.44l.94 2.06.94-2.06 2.06-.94-2.06-.94-.94-2.06-.94 2.06-2.06.94zm-11 1L8.5 8.5l.94-2.06 2.06-.94-2.06-.94L8.5 2.5l-.94 2.06-2.06.94zm10 10l.94 2.06.94-2.06 2.06-.94-2.06-.94-.94-2.06-.94 2.06-2.06.94z\"/><path d=\"M17.41 7.96l-1.37-1.37c-.4-.4-.92-.59-1.43-.59-.52 0-1.04.2-1.43.59L10.3 9.45l-7.72 7.72c-.78.78-.78 2.05 0 2.83L4 21.41c.39.39.9.59 1.41.59.51 0 1.02-.2 1.41-.59l7.78-7.78 2.81-2.81c.8-.78.8-2.07 0-2.86zM5.41 20L4 18.59l7.72-7.72 1.47 1.35L5.41 20z\"/>\n",
              "  </svg>\n",
              "      </button>\n",
              "      \n",
              "  <style>\n",
              "    .colab-df-container {\n",
              "      display:flex;\n",
              "      flex-wrap:wrap;\n",
              "      gap: 12px;\n",
              "    }\n",
              "\n",
              "    .colab-df-convert {\n",
              "      background-color: #E8F0FE;\n",
              "      border: none;\n",
              "      border-radius: 50%;\n",
              "      cursor: pointer;\n",
              "      display: none;\n",
              "      fill: #1967D2;\n",
              "      height: 32px;\n",
              "      padding: 0 0 0 0;\n",
              "      width: 32px;\n",
              "    }\n",
              "\n",
              "    .colab-df-convert:hover {\n",
              "      background-color: #E2EBFA;\n",
              "      box-shadow: 0px 1px 2px rgba(60, 64, 67, 0.3), 0px 1px 3px 1px rgba(60, 64, 67, 0.15);\n",
              "      fill: #174EA6;\n",
              "    }\n",
              "\n",
              "    [theme=dark] .colab-df-convert {\n",
              "      background-color: #3B4455;\n",
              "      fill: #D2E3FC;\n",
              "    }\n",
              "\n",
              "    [theme=dark] .colab-df-convert:hover {\n",
              "      background-color: #434B5C;\n",
              "      box-shadow: 0px 1px 3px 1px rgba(0, 0, 0, 0.15);\n",
              "      filter: drop-shadow(0px 1px 2px rgba(0, 0, 0, 0.3));\n",
              "      fill: #FFFFFF;\n",
              "    }\n",
              "  </style>\n",
              "\n",
              "      <script>\n",
              "        const buttonEl =\n",
              "          document.querySelector('#df-0f3d0280-03e0-45ae-89fe-f7e4a15cf268 button.colab-df-convert');\n",
              "        buttonEl.style.display =\n",
              "          google.colab.kernel.accessAllowed ? 'block' : 'none';\n",
              "\n",
              "        async function convertToInteractive(key) {\n",
              "          const element = document.querySelector('#df-0f3d0280-03e0-45ae-89fe-f7e4a15cf268');\n",
              "          const dataTable =\n",
              "            await google.colab.kernel.invokeFunction('convertToInteractive',\n",
              "                                                     [key], {});\n",
              "          if (!dataTable) return;\n",
              "\n",
              "          const docLinkHtml = 'Like what you see? Visit the ' +\n",
              "            '<a target=\"_blank\" href=https://colab.research.google.com/notebooks/data_table.ipynb>data table notebook</a>'\n",
              "            + ' to learn more about interactive tables.';\n",
              "          element.innerHTML = '';\n",
              "          dataTable['output_type'] = 'display_data';\n",
              "          await google.colab.output.renderOutput(dataTable, element);\n",
              "          const docLink = document.createElement('div');\n",
              "          docLink.innerHTML = docLinkHtml;\n",
              "          element.appendChild(docLink);\n",
              "        }\n",
              "      </script>\n",
              "    </div>\n",
              "  </div>\n",
              "  "
            ]
          },
          "metadata": {},
          "execution_count": 285
        }
      ]
    },
    {
      "cell_type": "markdown",
      "id": "b18da7c9",
      "metadata": {
        "id": "b18da7c9"
      },
      "source": [
        "## Сбалансированность данных\n",
        "\n",
        "Учитывая задачу проекта, и теперь, когда у нас есть общий обзор наших данных, нам нужно сосредоточить наше внимание на признаке, который мы планируем предсказывать: какое количество компаний является финансово стабильными и нестабильными"
      ]
    },
    {
      "cell_type": "code",
      "execution_count": 286,
      "id": "0e2f085f",
      "metadata": {
        "colab": {
          "base_uri": "https://localhost:8080/"
        },
        "id": "0e2f085f",
        "outputId": "3dbcb8e8-cba2-4425-8133-52790dfa448d"
      },
      "outputs": [
        {
          "output_type": "stream",
          "name": "stdout",
          "text": [
            "0    6599\n",
            "1     220\n",
            "Name: Bankrupt, dtype: int64\n",
            "------------------------------\n",
            "Финансово стабильные компании:  96.77 % от данных\n",
            "Финансово не стабильные компании:  3.23 % от данных\n"
          ]
        }
      ],
      "source": [
        "print(df['Bankrupt'].value_counts())\n",
        "print('-'* 30)\n",
        "print('Финансово стабильные компании: ', round(df['Bankrupt'].value_counts()[0]/len(df) * 100, 2), '% от данных')\n",
        "print('Финансово не стабильные компании: ', round(df['Bankrupt'].value_counts()[1]/len(df) * 100, 2), '% от данных')"
      ]
    },
    {
      "cell_type": "code",
      "execution_count": 287,
      "id": "f485039d",
      "metadata": {
        "id": "f485039d",
        "colab": {
          "base_uri": "https://localhost:8080/"
        },
        "outputId": "26e46dad-15c6-41d3-a154-6da6aaaf6582"
      },
      "outputs": [
        {
          "output_type": "stream",
          "name": "stderr",
          "text": [
            "<ipython-input-287-786f2a3a8ce7>:2: RuntimeWarning: More than 20 figures have been opened. Figures created through the pyplot interface (`matplotlib.pyplot.figure`) are retained until explicitly closed and may consume too much memory. (To control this warning, see the rcParam `figure.max_open_warning`).\n",
            "  plt.figure(figsize = (10,5))\n"
          ]
        }
      ],
      "source": [
        "sns.set_theme(context = 'paper')\n",
        "plt.figure(figsize = (10,5))\n",
        "sns.countplot(df['Bankrupt'])\n",
        "plt.title('Class Distributions \\n (0: Fin. Stable || 1: Fin. Unstable)', fontsize=14)\n",
        "plt.show()"
      ]
    },
    {
      "cell_type": "markdown",
      "source": [
        "Замечаем, что реальные данные плохо сбалансированны, что при решении задачи регрессии модель будет наивно предсказывать класс большинства\n",
        "\n",
        "Вернемся к балансированию данны чуть позже, после обработки выбрасов"
      ],
      "metadata": {
        "id": "AMiLEOADIvt3"
      },
      "id": "AMiLEOADIvt3"
    },
    {
      "cell_type": "markdown",
      "source": [
        "## 3. Удаление выбросов"
      ],
      "metadata": {
        "id": "hUcfc3ommzMA"
      },
      "id": "hUcfc3ommzMA"
    },
    {
      "cell_type": "code",
      "source": [
        "df.hist(figsize = (25,20), bins = 100)\n",
        "plt.show() # Гистрограммы признаков"
      ],
      "metadata": {
        "id": "geuHT8zmqOfw",
        "colab": {
          "base_uri": "https://localhost:8080/"
        },
        "outputId": "a015f154-eb30-4b61-a2a8-7cc60558f4ff"
      },
      "id": "geuHT8zmqOfw",
      "execution_count": 288,
      "outputs": [
        {
          "output_type": "stream",
          "name": "stderr",
          "text": [
            "/usr/local/lib/python3.8/dist-packages/pandas/plotting/_matplotlib/tools.py:218: RuntimeWarning: More than 20 figures have been opened. Figures created through the pyplot interface (`matplotlib.pyplot.figure`) are retained until explicitly closed and may consume too much memory. (To control this warning, see the rcParam `figure.max_open_warning`).\n",
            "  fig = plt.figure(**fig_kw)\n"
          ]
        }
      ]
    },
    {
      "cell_type": "code",
      "execution_count": 289,
      "id": "53ac5398",
      "metadata": {
        "id": "53ac5398",
        "colab": {
          "base_uri": "https://localhost:8080/"
        },
        "outputId": "2f3b5f35-bc01-486f-b989-e03b68d97695"
      },
      "outputs": [
        {
          "output_type": "stream",
          "name": "stderr",
          "text": [
            "<ipython-input-289-9c120a45d502>:1: RuntimeWarning: More than 20 figures have been opened. Figures created through the pyplot interface (`matplotlib.pyplot.figure`) are retained until explicitly closed and may consume too much memory. (To control this warning, see the rcParam `figure.max_open_warning`).\n",
            "  plt.figure(figsize = (20,20))\n"
          ]
        }
      ],
      "source": [
        "plt.figure(figsize = (20,20))\n",
        "ax =sns.boxplot(data = df, orient=\"h\")\n",
        "ax.set_title('Bank Data Boxplots', fontsize = 18)\n",
        "ax.set(xscale=\"log\")\n",
        "plt.show() # Ящики с усами (боксплоты)"
      ]
    },
    {
      "cell_type": "markdown",
      "source": [
        "Заметим, что большое количество признаков имеют отклонений (выбросов) - > удалим их"
      ],
      "metadata": {
        "id": "93nUzOGSKB60"
      },
      "id": "93nUzOGSKB60"
    },
    {
      "cell_type": "code",
      "execution_count": 290,
      "id": "432025af",
      "metadata": {
        "id": "432025af"
      },
      "outputs": [],
      "source": [
        "def outliers_removal(feature,feature_name,dataset):\n",
        "    q25, q75 = np.percentile(feature, 25), np.percentile(feature, 75)\n",
        "    #print('Quartile 25: {} | Quartile 75: {}'.format(q25, q75))\n",
        "    urange = q75 - q25\n",
        "    #print('urange: {}'.format(urange))\n",
        "    \n",
        "    feat_cut_off = urange * 1.5\n",
        "    feat_lower, feat_upper = q25 - feat_cut_off, q75 + feat_cut_off\n",
        "    #print(feature_name +' Lower: {}'.format(feat_lower))\n",
        "    #print(feature_name +' Upper: {}'.format(feat_upper))\n",
        "\n",
        "    df.loc[df[feature_name] > feat_upper, feature_name] = np.nan\n",
        "    df.loc[df[feature_name] < feat_lower, feature_name] = np.nan\n",
        "    #print('-' * 65)\n",
        "    return dataset"
      ]
    },
    {
      "cell_type": "code",
      "source": [
        "for col in df.loc[:, df.columns != 'Bankrupt']:\n",
        "    new_df = outliers_removal(df[col], str(col), df)"
      ],
      "metadata": {
        "id": "fkq3Mfd7wjfa"
      },
      "id": "fkq3Mfd7wjfa",
      "execution_count": 291,
      "outputs": []
    },
    {
      "cell_type": "code",
      "source": [
        "nulls_table(df) # процент отсутствующих значений"
      ],
      "metadata": {
        "colab": {
          "base_uri": "https://localhost:8080/",
          "height": 303
        },
        "id": "6Qifm4D_187H",
        "outputId": "0e795bbf-2a58-406e-cb19-aa084c0e05a4"
      },
      "id": "6Qifm4D_187H",
      "execution_count": 292,
      "outputs": [
        {
          "output_type": "execute_result",
          "data": {
            "text/plain": [
              "   column    nulls_%\n",
              "92   x_92  22.041355\n",
              "93   x_93  20.838833\n",
              "49   x_49  20.794838\n",
              "71   x_71  20.516205\n",
              "29   x_29  20.252236\n",
              "..    ...        ...\n",
              "64   x_64   0.586596\n",
              "38   x_38   0.439947\n",
              "37   x_37   0.439947\n",
              "85   x_85   0.117319\n",
              "55   x_55   0.029330\n",
              "\n",
              "[89 rows x 2 columns]"
            ],
            "text/html": [
              "\n",
              "  <div id=\"df-8ee9a702-7dd1-44db-8c70-144f37ad6f39\">\n",
              "    <div class=\"colab-df-container\">\n",
              "      <div>\n",
              "<style scoped>\n",
              "    .dataframe tbody tr th:only-of-type {\n",
              "        vertical-align: middle;\n",
              "    }\n",
              "\n",
              "    .dataframe tbody tr th {\n",
              "        vertical-align: top;\n",
              "    }\n",
              "\n",
              "    .dataframe thead th {\n",
              "        text-align: right;\n",
              "    }\n",
              "</style>\n",
              "<table border=\"1\" class=\"dataframe\">\n",
              "  <thead>\n",
              "    <tr style=\"text-align: right;\">\n",
              "      <th></th>\n",
              "      <th>column</th>\n",
              "      <th>nulls_%</th>\n",
              "    </tr>\n",
              "  </thead>\n",
              "  <tbody>\n",
              "    <tr>\n",
              "      <th>92</th>\n",
              "      <td>x_92</td>\n",
              "      <td>22.041355</td>\n",
              "    </tr>\n",
              "    <tr>\n",
              "      <th>93</th>\n",
              "      <td>x_93</td>\n",
              "      <td>20.838833</td>\n",
              "    </tr>\n",
              "    <tr>\n",
              "      <th>49</th>\n",
              "      <td>x_49</td>\n",
              "      <td>20.794838</td>\n",
              "    </tr>\n",
              "    <tr>\n",
              "      <th>71</th>\n",
              "      <td>x_71</td>\n",
              "      <td>20.516205</td>\n",
              "    </tr>\n",
              "    <tr>\n",
              "      <th>29</th>\n",
              "      <td>x_29</td>\n",
              "      <td>20.252236</td>\n",
              "    </tr>\n",
              "    <tr>\n",
              "      <th>...</th>\n",
              "      <td>...</td>\n",
              "      <td>...</td>\n",
              "    </tr>\n",
              "    <tr>\n",
              "      <th>64</th>\n",
              "      <td>x_64</td>\n",
              "      <td>0.586596</td>\n",
              "    </tr>\n",
              "    <tr>\n",
              "      <th>38</th>\n",
              "      <td>x_38</td>\n",
              "      <td>0.439947</td>\n",
              "    </tr>\n",
              "    <tr>\n",
              "      <th>37</th>\n",
              "      <td>x_37</td>\n",
              "      <td>0.439947</td>\n",
              "    </tr>\n",
              "    <tr>\n",
              "      <th>85</th>\n",
              "      <td>x_85</td>\n",
              "      <td>0.117319</td>\n",
              "    </tr>\n",
              "    <tr>\n",
              "      <th>55</th>\n",
              "      <td>x_55</td>\n",
              "      <td>0.029330</td>\n",
              "    </tr>\n",
              "  </tbody>\n",
              "</table>\n",
              "<p>89 rows × 2 columns</p>\n",
              "</div>\n",
              "      <button class=\"colab-df-convert\" onclick=\"convertToInteractive('df-8ee9a702-7dd1-44db-8c70-144f37ad6f39')\"\n",
              "              title=\"Convert this dataframe to an interactive table.\"\n",
              "              style=\"display:none;\">\n",
              "        \n",
              "  <svg xmlns=\"http://www.w3.org/2000/svg\" height=\"24px\"viewBox=\"0 0 24 24\"\n",
              "       width=\"24px\">\n",
              "    <path d=\"M0 0h24v24H0V0z\" fill=\"none\"/>\n",
              "    <path d=\"M18.56 5.44l.94 2.06.94-2.06 2.06-.94-2.06-.94-.94-2.06-.94 2.06-2.06.94zm-11 1L8.5 8.5l.94-2.06 2.06-.94-2.06-.94L8.5 2.5l-.94 2.06-2.06.94zm10 10l.94 2.06.94-2.06 2.06-.94-2.06-.94-.94-2.06-.94 2.06-2.06.94z\"/><path d=\"M17.41 7.96l-1.37-1.37c-.4-.4-.92-.59-1.43-.59-.52 0-1.04.2-1.43.59L10.3 9.45l-7.72 7.72c-.78.78-.78 2.05 0 2.83L4 21.41c.39.39.9.59 1.41.59.51 0 1.02-.2 1.41-.59l7.78-7.78 2.81-2.81c.8-.78.8-2.07 0-2.86zM5.41 20L4 18.59l7.72-7.72 1.47 1.35L5.41 20z\"/>\n",
              "  </svg>\n",
              "      </button>\n",
              "      \n",
              "  <style>\n",
              "    .colab-df-container {\n",
              "      display:flex;\n",
              "      flex-wrap:wrap;\n",
              "      gap: 12px;\n",
              "    }\n",
              "\n",
              "    .colab-df-convert {\n",
              "      background-color: #E8F0FE;\n",
              "      border: none;\n",
              "      border-radius: 50%;\n",
              "      cursor: pointer;\n",
              "      display: none;\n",
              "      fill: #1967D2;\n",
              "      height: 32px;\n",
              "      padding: 0 0 0 0;\n",
              "      width: 32px;\n",
              "    }\n",
              "\n",
              "    .colab-df-convert:hover {\n",
              "      background-color: #E2EBFA;\n",
              "      box-shadow: 0px 1px 2px rgba(60, 64, 67, 0.3), 0px 1px 3px 1px rgba(60, 64, 67, 0.15);\n",
              "      fill: #174EA6;\n",
              "    }\n",
              "\n",
              "    [theme=dark] .colab-df-convert {\n",
              "      background-color: #3B4455;\n",
              "      fill: #D2E3FC;\n",
              "    }\n",
              "\n",
              "    [theme=dark] .colab-df-convert:hover {\n",
              "      background-color: #434B5C;\n",
              "      box-shadow: 0px 1px 3px 1px rgba(0, 0, 0, 0.15);\n",
              "      filter: drop-shadow(0px 1px 2px rgba(0, 0, 0, 0.3));\n",
              "      fill: #FFFFFF;\n",
              "    }\n",
              "  </style>\n",
              "\n",
              "      <script>\n",
              "        const buttonEl =\n",
              "          document.querySelector('#df-8ee9a702-7dd1-44db-8c70-144f37ad6f39 button.colab-df-convert');\n",
              "        buttonEl.style.display =\n",
              "          google.colab.kernel.accessAllowed ? 'block' : 'none';\n",
              "\n",
              "        async function convertToInteractive(key) {\n",
              "          const element = document.querySelector('#df-8ee9a702-7dd1-44db-8c70-144f37ad6f39');\n",
              "          const dataTable =\n",
              "            await google.colab.kernel.invokeFunction('convertToInteractive',\n",
              "                                                     [key], {});\n",
              "          if (!dataTable) return;\n",
              "\n",
              "          const docLinkHtml = 'Like what you see? Visit the ' +\n",
              "            '<a target=\"_blank\" href=https://colab.research.google.com/notebooks/data_table.ipynb>data table notebook</a>'\n",
              "            + ' to learn more about interactive tables.';\n",
              "          element.innerHTML = '';\n",
              "          dataTable['output_type'] = 'display_data';\n",
              "          await google.colab.output.renderOutput(dataTable, element);\n",
              "          const docLink = document.createElement('div');\n",
              "          docLink.innerHTML = docLinkHtml;\n",
              "          element.appendChild(docLink);\n",
              "        }\n",
              "      </script>\n",
              "    </div>\n",
              "  </div>\n",
              "  "
            ]
          },
          "metadata": {},
          "execution_count": 292
        }
      ]
    },
    {
      "cell_type": "code",
      "execution_count": 293,
      "id": "b25e4ac7",
      "metadata": {
        "id": "b25e4ac7",
        "colab": {
          "base_uri": "https://localhost:8080/"
        },
        "outputId": "dd561552-7d4d-4df2-ded4-d3275fcc5fd9"
      },
      "outputs": [
        {
          "output_type": "execute_result",
          "data": {
            "text/plain": [
              "(6287, 84)"
            ]
          },
          "metadata": {},
          "execution_count": 293
        }
      ],
      "source": [
        "rows = df.shape[0]\n",
        "columns = df.shape[1]\n",
        "\n",
        "# удалим строки, в которых количество NaN элементов превышает 20% общего объема данных\n",
        "df = df.dropna(thresh = round(columns*0.8, 0))\n",
        "# удалим столбцы, в которых количество NaN элементов превышает 20% общего объема данных\n",
        "df = df.dropna(axis = 1, thresh = round(rows*0.8, 0))\n",
        "\n",
        "df.shape"
      ]
    },
    {
      "cell_type": "code",
      "source": [
        "nulls_table(df)"
      ],
      "metadata": {
        "colab": {
          "base_uri": "https://localhost:8080/",
          "height": 303
        },
        "id": "AEq-CAWT6jEI",
        "outputId": "7cc9aa5d-a461-4c84-ce77-86a12d98e786"
      },
      "id": "AEq-CAWT6jEI",
      "execution_count": 294,
      "outputs": [
        {
          "output_type": "execute_result",
          "data": {
            "text/plain": [
              "   column    nulls_%\n",
              "27   x_28  13.233657\n",
              "24   x_25  12.979163\n",
              "25   x_26  12.899634\n",
              "26   x_27  12.883728\n",
              "68   x_75  12.613329\n",
              "..    ...        ...\n",
              "49   x_54   0.556704\n",
              "55   x_60   0.524893\n",
              "70   x_77   0.493081\n",
              "58   x_64   0.493081\n",
              "50   x_55   0.015906\n",
              "\n",
              "[75 rows x 2 columns]"
            ],
            "text/html": [
              "\n",
              "  <div id=\"df-dec5944d-472c-47ff-be3f-336b1f39d71b\">\n",
              "    <div class=\"colab-df-container\">\n",
              "      <div>\n",
              "<style scoped>\n",
              "    .dataframe tbody tr th:only-of-type {\n",
              "        vertical-align: middle;\n",
              "    }\n",
              "\n",
              "    .dataframe tbody tr th {\n",
              "        vertical-align: top;\n",
              "    }\n",
              "\n",
              "    .dataframe thead th {\n",
              "        text-align: right;\n",
              "    }\n",
              "</style>\n",
              "<table border=\"1\" class=\"dataframe\">\n",
              "  <thead>\n",
              "    <tr style=\"text-align: right;\">\n",
              "      <th></th>\n",
              "      <th>column</th>\n",
              "      <th>nulls_%</th>\n",
              "    </tr>\n",
              "  </thead>\n",
              "  <tbody>\n",
              "    <tr>\n",
              "      <th>27</th>\n",
              "      <td>x_28</td>\n",
              "      <td>13.233657</td>\n",
              "    </tr>\n",
              "    <tr>\n",
              "      <th>24</th>\n",
              "      <td>x_25</td>\n",
              "      <td>12.979163</td>\n",
              "    </tr>\n",
              "    <tr>\n",
              "      <th>25</th>\n",
              "      <td>x_26</td>\n",
              "      <td>12.899634</td>\n",
              "    </tr>\n",
              "    <tr>\n",
              "      <th>26</th>\n",
              "      <td>x_27</td>\n",
              "      <td>12.883728</td>\n",
              "    </tr>\n",
              "    <tr>\n",
              "      <th>68</th>\n",
              "      <td>x_75</td>\n",
              "      <td>12.613329</td>\n",
              "    </tr>\n",
              "    <tr>\n",
              "      <th>...</th>\n",
              "      <td>...</td>\n",
              "      <td>...</td>\n",
              "    </tr>\n",
              "    <tr>\n",
              "      <th>49</th>\n",
              "      <td>x_54</td>\n",
              "      <td>0.556704</td>\n",
              "    </tr>\n",
              "    <tr>\n",
              "      <th>55</th>\n",
              "      <td>x_60</td>\n",
              "      <td>0.524893</td>\n",
              "    </tr>\n",
              "    <tr>\n",
              "      <th>70</th>\n",
              "      <td>x_77</td>\n",
              "      <td>0.493081</td>\n",
              "    </tr>\n",
              "    <tr>\n",
              "      <th>58</th>\n",
              "      <td>x_64</td>\n",
              "      <td>0.493081</td>\n",
              "    </tr>\n",
              "    <tr>\n",
              "      <th>50</th>\n",
              "      <td>x_55</td>\n",
              "      <td>0.015906</td>\n",
              "    </tr>\n",
              "  </tbody>\n",
              "</table>\n",
              "<p>75 rows × 2 columns</p>\n",
              "</div>\n",
              "      <button class=\"colab-df-convert\" onclick=\"convertToInteractive('df-dec5944d-472c-47ff-be3f-336b1f39d71b')\"\n",
              "              title=\"Convert this dataframe to an interactive table.\"\n",
              "              style=\"display:none;\">\n",
              "        \n",
              "  <svg xmlns=\"http://www.w3.org/2000/svg\" height=\"24px\"viewBox=\"0 0 24 24\"\n",
              "       width=\"24px\">\n",
              "    <path d=\"M0 0h24v24H0V0z\" fill=\"none\"/>\n",
              "    <path d=\"M18.56 5.44l.94 2.06.94-2.06 2.06-.94-2.06-.94-.94-2.06-.94 2.06-2.06.94zm-11 1L8.5 8.5l.94-2.06 2.06-.94-2.06-.94L8.5 2.5l-.94 2.06-2.06.94zm10 10l.94 2.06.94-2.06 2.06-.94-2.06-.94-.94-2.06-.94 2.06-2.06.94z\"/><path d=\"M17.41 7.96l-1.37-1.37c-.4-.4-.92-.59-1.43-.59-.52 0-1.04.2-1.43.59L10.3 9.45l-7.72 7.72c-.78.78-.78 2.05 0 2.83L4 21.41c.39.39.9.59 1.41.59.51 0 1.02-.2 1.41-.59l7.78-7.78 2.81-2.81c.8-.78.8-2.07 0-2.86zM5.41 20L4 18.59l7.72-7.72 1.47 1.35L5.41 20z\"/>\n",
              "  </svg>\n",
              "      </button>\n",
              "      \n",
              "  <style>\n",
              "    .colab-df-container {\n",
              "      display:flex;\n",
              "      flex-wrap:wrap;\n",
              "      gap: 12px;\n",
              "    }\n",
              "\n",
              "    .colab-df-convert {\n",
              "      background-color: #E8F0FE;\n",
              "      border: none;\n",
              "      border-radius: 50%;\n",
              "      cursor: pointer;\n",
              "      display: none;\n",
              "      fill: #1967D2;\n",
              "      height: 32px;\n",
              "      padding: 0 0 0 0;\n",
              "      width: 32px;\n",
              "    }\n",
              "\n",
              "    .colab-df-convert:hover {\n",
              "      background-color: #E2EBFA;\n",
              "      box-shadow: 0px 1px 2px rgba(60, 64, 67, 0.3), 0px 1px 3px 1px rgba(60, 64, 67, 0.15);\n",
              "      fill: #174EA6;\n",
              "    }\n",
              "\n",
              "    [theme=dark] .colab-df-convert {\n",
              "      background-color: #3B4455;\n",
              "      fill: #D2E3FC;\n",
              "    }\n",
              "\n",
              "    [theme=dark] .colab-df-convert:hover {\n",
              "      background-color: #434B5C;\n",
              "      box-shadow: 0px 1px 3px 1px rgba(0, 0, 0, 0.15);\n",
              "      filter: drop-shadow(0px 1px 2px rgba(0, 0, 0, 0.3));\n",
              "      fill: #FFFFFF;\n",
              "    }\n",
              "  </style>\n",
              "\n",
              "      <script>\n",
              "        const buttonEl =\n",
              "          document.querySelector('#df-dec5944d-472c-47ff-be3f-336b1f39d71b button.colab-df-convert');\n",
              "        buttonEl.style.display =\n",
              "          google.colab.kernel.accessAllowed ? 'block' : 'none';\n",
              "\n",
              "        async function convertToInteractive(key) {\n",
              "          const element = document.querySelector('#df-dec5944d-472c-47ff-be3f-336b1f39d71b');\n",
              "          const dataTable =\n",
              "            await google.colab.kernel.invokeFunction('convertToInteractive',\n",
              "                                                     [key], {});\n",
              "          if (!dataTable) return;\n",
              "\n",
              "          const docLinkHtml = 'Like what you see? Visit the ' +\n",
              "            '<a target=\"_blank\" href=https://colab.research.google.com/notebooks/data_table.ipynb>data table notebook</a>'\n",
              "            + ' to learn more about interactive tables.';\n",
              "          element.innerHTML = '';\n",
              "          dataTable['output_type'] = 'display_data';\n",
              "          await google.colab.output.renderOutput(dataTable, element);\n",
              "          const docLink = document.createElement('div');\n",
              "          docLink.innerHTML = docLinkHtml;\n",
              "          element.appendChild(docLink);\n",
              "        }\n",
              "      </script>\n",
              "    </div>\n",
              "  </div>\n",
              "  "
            ]
          },
          "metadata": {},
          "execution_count": 294
        }
      ]
    },
    {
      "cell_type": "code",
      "execution_count": 295,
      "id": "5dfb0eb5",
      "metadata": {
        "id": "5dfb0eb5"
      },
      "outputs": [],
      "source": [
        "for i in df.columns:\n",
        "    df[i] = df[i].fillna(df[i].mean()) # Замена числовых признаков на среднее"
      ]
    },
    {
      "cell_type": "code",
      "source": [
        "nulls_table(df)"
      ],
      "metadata": {
        "colab": {
          "base_uri": "https://localhost:8080/",
          "height": 49
        },
        "id": "uVzDDnAC-sk0",
        "outputId": "3e4a51f6-314f-4b1c-db2c-32528c83e147"
      },
      "id": "uVzDDnAC-sk0",
      "execution_count": 296,
      "outputs": [
        {
          "output_type": "execute_result",
          "data": {
            "text/plain": [
              "Empty DataFrame\n",
              "Columns: [column, nulls_%]\n",
              "Index: []"
            ],
            "text/html": [
              "\n",
              "  <div id=\"df-9a663854-a168-49c7-a235-383469eb0d66\">\n",
              "    <div class=\"colab-df-container\">\n",
              "      <div>\n",
              "<style scoped>\n",
              "    .dataframe tbody tr th:only-of-type {\n",
              "        vertical-align: middle;\n",
              "    }\n",
              "\n",
              "    .dataframe tbody tr th {\n",
              "        vertical-align: top;\n",
              "    }\n",
              "\n",
              "    .dataframe thead th {\n",
              "        text-align: right;\n",
              "    }\n",
              "</style>\n",
              "<table border=\"1\" class=\"dataframe\">\n",
              "  <thead>\n",
              "    <tr style=\"text-align: right;\">\n",
              "      <th></th>\n",
              "      <th>column</th>\n",
              "      <th>nulls_%</th>\n",
              "    </tr>\n",
              "  </thead>\n",
              "  <tbody>\n",
              "  </tbody>\n",
              "</table>\n",
              "</div>\n",
              "      <button class=\"colab-df-convert\" onclick=\"convertToInteractive('df-9a663854-a168-49c7-a235-383469eb0d66')\"\n",
              "              title=\"Convert this dataframe to an interactive table.\"\n",
              "              style=\"display:none;\">\n",
              "        \n",
              "  <svg xmlns=\"http://www.w3.org/2000/svg\" height=\"24px\"viewBox=\"0 0 24 24\"\n",
              "       width=\"24px\">\n",
              "    <path d=\"M0 0h24v24H0V0z\" fill=\"none\"/>\n",
              "    <path d=\"M18.56 5.44l.94 2.06.94-2.06 2.06-.94-2.06-.94-.94-2.06-.94 2.06-2.06.94zm-11 1L8.5 8.5l.94-2.06 2.06-.94-2.06-.94L8.5 2.5l-.94 2.06-2.06.94zm10 10l.94 2.06.94-2.06 2.06-.94-2.06-.94-.94-2.06-.94 2.06-2.06.94z\"/><path d=\"M17.41 7.96l-1.37-1.37c-.4-.4-.92-.59-1.43-.59-.52 0-1.04.2-1.43.59L10.3 9.45l-7.72 7.72c-.78.78-.78 2.05 0 2.83L4 21.41c.39.39.9.59 1.41.59.51 0 1.02-.2 1.41-.59l7.78-7.78 2.81-2.81c.8-.78.8-2.07 0-2.86zM5.41 20L4 18.59l7.72-7.72 1.47 1.35L5.41 20z\"/>\n",
              "  </svg>\n",
              "      </button>\n",
              "      \n",
              "  <style>\n",
              "    .colab-df-container {\n",
              "      display:flex;\n",
              "      flex-wrap:wrap;\n",
              "      gap: 12px;\n",
              "    }\n",
              "\n",
              "    .colab-df-convert {\n",
              "      background-color: #E8F0FE;\n",
              "      border: none;\n",
              "      border-radius: 50%;\n",
              "      cursor: pointer;\n",
              "      display: none;\n",
              "      fill: #1967D2;\n",
              "      height: 32px;\n",
              "      padding: 0 0 0 0;\n",
              "      width: 32px;\n",
              "    }\n",
              "\n",
              "    .colab-df-convert:hover {\n",
              "      background-color: #E2EBFA;\n",
              "      box-shadow: 0px 1px 2px rgba(60, 64, 67, 0.3), 0px 1px 3px 1px rgba(60, 64, 67, 0.15);\n",
              "      fill: #174EA6;\n",
              "    }\n",
              "\n",
              "    [theme=dark] .colab-df-convert {\n",
              "      background-color: #3B4455;\n",
              "      fill: #D2E3FC;\n",
              "    }\n",
              "\n",
              "    [theme=dark] .colab-df-convert:hover {\n",
              "      background-color: #434B5C;\n",
              "      box-shadow: 0px 1px 3px 1px rgba(0, 0, 0, 0.15);\n",
              "      filter: drop-shadow(0px 1px 2px rgba(0, 0, 0, 0.3));\n",
              "      fill: #FFFFFF;\n",
              "    }\n",
              "  </style>\n",
              "\n",
              "      <script>\n",
              "        const buttonEl =\n",
              "          document.querySelector('#df-9a663854-a168-49c7-a235-383469eb0d66 button.colab-df-convert');\n",
              "        buttonEl.style.display =\n",
              "          google.colab.kernel.accessAllowed ? 'block' : 'none';\n",
              "\n",
              "        async function convertToInteractive(key) {\n",
              "          const element = document.querySelector('#df-9a663854-a168-49c7-a235-383469eb0d66');\n",
              "          const dataTable =\n",
              "            await google.colab.kernel.invokeFunction('convertToInteractive',\n",
              "                                                     [key], {});\n",
              "          if (!dataTable) return;\n",
              "\n",
              "          const docLinkHtml = 'Like what you see? Visit the ' +\n",
              "            '<a target=\"_blank\" href=https://colab.research.google.com/notebooks/data_table.ipynb>data table notebook</a>'\n",
              "            + ' to learn more about interactive tables.';\n",
              "          element.innerHTML = '';\n",
              "          dataTable['output_type'] = 'display_data';\n",
              "          await google.colab.output.renderOutput(dataTable, element);\n",
              "          const docLink = document.createElement('div');\n",
              "          docLink.innerHTML = docLinkHtml;\n",
              "          element.appendChild(docLink);\n",
              "        }\n",
              "      </script>\n",
              "    </div>\n",
              "  </div>\n",
              "  "
            ]
          },
          "metadata": {},
          "execution_count": 296
        }
      ]
    },
    {
      "cell_type": "code",
      "source": [
        "plt.figure(figsize = (20,20))\n",
        "ax =sns.boxplot(data = df, orient=\"h\")\n",
        "ax.set_title('Bank Data Boxplots', fontsize = 18)\n",
        "ax.set(xscale=\"log\")\n",
        "plt.show() # Ящики с усами (боксплоты)"
      ],
      "metadata": {
        "id": "yVTnNjN99JRu",
        "colab": {
          "base_uri": "https://localhost:8080/"
        },
        "outputId": "b168d602-6cca-4b6a-f9b7-5d0b2806ce4b"
      },
      "id": "yVTnNjN99JRu",
      "execution_count": 297,
      "outputs": [
        {
          "output_type": "stream",
          "name": "stderr",
          "text": [
            "<ipython-input-297-9c120a45d502>:1: RuntimeWarning: More than 20 figures have been opened. Figures created through the pyplot interface (`matplotlib.pyplot.figure`) are retained until explicitly closed and may consume too much memory. (To control this warning, see the rcParam `figure.max_open_warning`).\n",
            "  plt.figure(figsize = (20,20))\n"
          ]
        }
      ]
    },
    {
      "cell_type": "code",
      "source": [
        "# Снова проверим и удалим неинформативные признаки с помощью поиска уникальных значений (тк после удаления выбрасов и замены пропусков такие признаки могли появиться)\n",
        "to_del = []\n",
        "for col in df.columns:\n",
        "  if len(df[col].unique()) == 1:\n",
        "    to_del.append(col)\n",
        "\n",
        "to_del"
      ],
      "metadata": {
        "colab": {
          "base_uri": "https://localhost:8080/"
        },
        "id": "Lea5bM-8clK6",
        "outputId": "2c8e3d4a-d0ec-453a-b1c1-704ef63a3c9e"
      },
      "id": "Lea5bM-8clK6",
      "execution_count": 298,
      "outputs": [
        {
          "output_type": "execute_result",
          "data": {
            "text/plain": [
              "['x_85']"
            ]
          },
          "metadata": {},
          "execution_count": 298
        }
      ]
    },
    {
      "cell_type": "code",
      "source": [
        "df = df.drop(to_del, axis = 1)"
      ],
      "metadata": {
        "id": "75lN4n1FcqRd"
      },
      "id": "75lN4n1FcqRd",
      "execution_count": 299,
      "outputs": []
    },
    {
      "cell_type": "code",
      "source": [
        "make_model(df, name = '-выбросы и пропуски')"
      ],
      "metadata": {
        "colab": {
          "base_uri": "https://localhost:8080/",
          "height": 105
        },
        "id": "l6gbObb7b1lZ",
        "outputId": "94014d56-e406-4799-dfe1-c6bec6ea46af"
      },
      "id": "l6gbObb7b1lZ",
      "execution_count": 300,
      "outputs": [
        {
          "output_type": "execute_result",
          "data": {
            "text/plain": [
              "                  stage  accuracy_to_max  recall_to_max  F1_to_max  \\\n",
              "0       Исходные данные         0.964809       0.499241   0.491045   \n",
              "1  -первичная обработка         0.964809       0.509879   0.511038   \n",
              "2   -выбросы и пропуски         0.975358       0.499593   0.493763   \n",
              "\n",
              "   precision_to_min      time  \n",
              "0          0.483113  0.289464  \n",
              "1          0.649767  0.288611  \n",
              "2          0.488067  0.322488  "
            ],
            "text/html": [
              "\n",
              "  <div id=\"df-27d123f1-064f-4f8c-a9f7-c83fcacffd9f\">\n",
              "    <div class=\"colab-df-container\">\n",
              "      <div>\n",
              "<style scoped>\n",
              "    .dataframe tbody tr th:only-of-type {\n",
              "        vertical-align: middle;\n",
              "    }\n",
              "\n",
              "    .dataframe tbody tr th {\n",
              "        vertical-align: top;\n",
              "    }\n",
              "\n",
              "    .dataframe thead th {\n",
              "        text-align: right;\n",
              "    }\n",
              "</style>\n",
              "<table border=\"1\" class=\"dataframe\">\n",
              "  <thead>\n",
              "    <tr style=\"text-align: right;\">\n",
              "      <th></th>\n",
              "      <th>stage</th>\n",
              "      <th>accuracy_to_max</th>\n",
              "      <th>recall_to_max</th>\n",
              "      <th>F1_to_max</th>\n",
              "      <th>precision_to_min</th>\n",
              "      <th>time</th>\n",
              "    </tr>\n",
              "  </thead>\n",
              "  <tbody>\n",
              "    <tr>\n",
              "      <th>0</th>\n",
              "      <td>Исходные данные</td>\n",
              "      <td>0.964809</td>\n",
              "      <td>0.499241</td>\n",
              "      <td>0.491045</td>\n",
              "      <td>0.483113</td>\n",
              "      <td>0.289464</td>\n",
              "    </tr>\n",
              "    <tr>\n",
              "      <th>1</th>\n",
              "      <td>-первичная обработка</td>\n",
              "      <td>0.964809</td>\n",
              "      <td>0.509879</td>\n",
              "      <td>0.511038</td>\n",
              "      <td>0.649767</td>\n",
              "      <td>0.288611</td>\n",
              "    </tr>\n",
              "    <tr>\n",
              "      <th>2</th>\n",
              "      <td>-выбросы и пропуски</td>\n",
              "      <td>0.975358</td>\n",
              "      <td>0.499593</td>\n",
              "      <td>0.493763</td>\n",
              "      <td>0.488067</td>\n",
              "      <td>0.322488</td>\n",
              "    </tr>\n",
              "  </tbody>\n",
              "</table>\n",
              "</div>\n",
              "      <button class=\"colab-df-convert\" onclick=\"convertToInteractive('df-27d123f1-064f-4f8c-a9f7-c83fcacffd9f')\"\n",
              "              title=\"Convert this dataframe to an interactive table.\"\n",
              "              style=\"display:none;\">\n",
              "        \n",
              "  <svg xmlns=\"http://www.w3.org/2000/svg\" height=\"24px\"viewBox=\"0 0 24 24\"\n",
              "       width=\"24px\">\n",
              "    <path d=\"M0 0h24v24H0V0z\" fill=\"none\"/>\n",
              "    <path d=\"M18.56 5.44l.94 2.06.94-2.06 2.06-.94-2.06-.94-.94-2.06-.94 2.06-2.06.94zm-11 1L8.5 8.5l.94-2.06 2.06-.94-2.06-.94L8.5 2.5l-.94 2.06-2.06.94zm10 10l.94 2.06.94-2.06 2.06-.94-2.06-.94-.94-2.06-.94 2.06-2.06.94z\"/><path d=\"M17.41 7.96l-1.37-1.37c-.4-.4-.92-.59-1.43-.59-.52 0-1.04.2-1.43.59L10.3 9.45l-7.72 7.72c-.78.78-.78 2.05 0 2.83L4 21.41c.39.39.9.59 1.41.59.51 0 1.02-.2 1.41-.59l7.78-7.78 2.81-2.81c.8-.78.8-2.07 0-2.86zM5.41 20L4 18.59l7.72-7.72 1.47 1.35L5.41 20z\"/>\n",
              "  </svg>\n",
              "      </button>\n",
              "      \n",
              "  <style>\n",
              "    .colab-df-container {\n",
              "      display:flex;\n",
              "      flex-wrap:wrap;\n",
              "      gap: 12px;\n",
              "    }\n",
              "\n",
              "    .colab-df-convert {\n",
              "      background-color: #E8F0FE;\n",
              "      border: none;\n",
              "      border-radius: 50%;\n",
              "      cursor: pointer;\n",
              "      display: none;\n",
              "      fill: #1967D2;\n",
              "      height: 32px;\n",
              "      padding: 0 0 0 0;\n",
              "      width: 32px;\n",
              "    }\n",
              "\n",
              "    .colab-df-convert:hover {\n",
              "      background-color: #E2EBFA;\n",
              "      box-shadow: 0px 1px 2px rgba(60, 64, 67, 0.3), 0px 1px 3px 1px rgba(60, 64, 67, 0.15);\n",
              "      fill: #174EA6;\n",
              "    }\n",
              "\n",
              "    [theme=dark] .colab-df-convert {\n",
              "      background-color: #3B4455;\n",
              "      fill: #D2E3FC;\n",
              "    }\n",
              "\n",
              "    [theme=dark] .colab-df-convert:hover {\n",
              "      background-color: #434B5C;\n",
              "      box-shadow: 0px 1px 3px 1px rgba(0, 0, 0, 0.15);\n",
              "      filter: drop-shadow(0px 1px 2px rgba(0, 0, 0, 0.3));\n",
              "      fill: #FFFFFF;\n",
              "    }\n",
              "  </style>\n",
              "\n",
              "      <script>\n",
              "        const buttonEl =\n",
              "          document.querySelector('#df-27d123f1-064f-4f8c-a9f7-c83fcacffd9f button.colab-df-convert');\n",
              "        buttonEl.style.display =\n",
              "          google.colab.kernel.accessAllowed ? 'block' : 'none';\n",
              "\n",
              "        async function convertToInteractive(key) {\n",
              "          const element = document.querySelector('#df-27d123f1-064f-4f8c-a9f7-c83fcacffd9f');\n",
              "          const dataTable =\n",
              "            await google.colab.kernel.invokeFunction('convertToInteractive',\n",
              "                                                     [key], {});\n",
              "          if (!dataTable) return;\n",
              "\n",
              "          const docLinkHtml = 'Like what you see? Visit the ' +\n",
              "            '<a target=\"_blank\" href=https://colab.research.google.com/notebooks/data_table.ipynb>data table notebook</a>'\n",
              "            + ' to learn more about interactive tables.';\n",
              "          element.innerHTML = '';\n",
              "          dataTable['output_type'] = 'display_data';\n",
              "          await google.colab.output.renderOutput(dataTable, element);\n",
              "          const docLink = document.createElement('div');\n",
              "          docLink.innerHTML = docLinkHtml;\n",
              "          element.appendChild(docLink);\n",
              "        }\n",
              "      </script>\n",
              "    </div>\n",
              "  </div>\n",
              "  "
            ]
          },
          "metadata": {},
          "execution_count": 300
        }
      ]
    },
    {
      "cell_type": "markdown",
      "source": [
        "# Работа с признаками"
      ],
      "metadata": {
        "id": "nDYFrONThxKG"
      },
      "id": "nDYFrONThxKG"
    },
    {
      "cell_type": "markdown",
      "source": [
        "## 4. Коррелирующие признаки"
      ],
      "metadata": {
        "id": "nWFHQ0qinX0X"
      },
      "id": "nWFHQ0qinX0X"
    },
    {
      "cell_type": "code",
      "execution_count": 301,
      "id": "bae77394",
      "metadata": {
        "id": "bae77394",
        "colab": {
          "base_uri": "https://localhost:8080/"
        },
        "outputId": "a62b3b4f-7f09-40d9-b900-828534be3816"
      },
      "outputs": [
        {
          "output_type": "stream",
          "name": "stderr",
          "text": [
            "<ipython-input-301-acc43e0b18c4>:1: RuntimeWarning: More than 20 figures have been opened. Figures created through the pyplot interface (`matplotlib.pyplot.figure`) are retained until explicitly closed and may consume too much memory. (To control this warning, see the rcParam `figure.max_open_warning`).\n",
            "  f, ax = plt.subplots(figsize=(30, 25))\n"
          ]
        }
      ],
      "source": [
        "f, ax = plt.subplots(figsize=(30, 25))\n",
        "mat = df.corr('spearman')\n",
        "mask = np.triu(np.ones_like(mat, dtype=bool))\n",
        "cmap = sns.diverging_palette(230, 20, as_cmap=True)\n",
        "sns.heatmap(mat, mask=mask, cmap=cmap, vmax=1, center=0,\n",
        "            square=True, linewidths=.5, cbar_kws={\"shrink\": .5})\n",
        "plt.show()"
      ]
    },
    {
      "cell_type": "code",
      "execution_count": 302,
      "id": "294b7cad",
      "metadata": {
        "colab": {
          "base_uri": "https://localhost:8080/"
        },
        "id": "294b7cad",
        "outputId": "e1118d92-51af-4782-eaa5-1b07e3f3cad8"
      },
      "outputs": [
        {
          "output_type": "stream",
          "name": "stderr",
          "text": [
            "<ipython-input-302-f5b1a5ec98f5>:2: DeprecationWarning: `np.bool` is a deprecated alias for the builtin `bool`. To silence this warning, use `bool` by itself. Doing this will not modify any behavior and is safe. If you specifically wanted the numpy scalar type, use `np.bool_` here.\n",
            "Deprecated in NumPy 1.20; for more details and guidance: https://numpy.org/devdocs/release/1.20.0-notes.html#deprecations\n",
            "  upper = corr_matrix.where(np.triu(np.ones(corr_matrix.shape), k=1).astype(np.bool))\n"
          ]
        }
      ],
      "source": [
        "corr_matrix = df.corr().abs()\n",
        "upper = corr_matrix.where(np.triu(np.ones(corr_matrix.shape), k=1).astype(np.bool))\n",
        "to_drop = [column for column in upper.columns if any(upper[column] > 0.8)]"
      ]
    },
    {
      "cell_type": "code",
      "source": [
        "df.shape"
      ],
      "metadata": {
        "colab": {
          "base_uri": "https://localhost:8080/"
        },
        "id": "oDX992cxOyz0",
        "outputId": "685d9af6-17bc-4284-da83-8b137073c47e"
      },
      "id": "oDX992cxOyz0",
      "execution_count": 303,
      "outputs": [
        {
          "output_type": "execute_result",
          "data": {
            "text/plain": [
              "(6287, 83)"
            ]
          },
          "metadata": {},
          "execution_count": 303
        }
      ]
    },
    {
      "cell_type": "code",
      "source": [
        "len(to_drop)"
      ],
      "metadata": {
        "id": "bEYSw4yiCoU5",
        "colab": {
          "base_uri": "https://localhost:8080/"
        },
        "outputId": "c2b63a93-d75f-4a9d-afed-6d57d812f8cb"
      },
      "id": "bEYSw4yiCoU5",
      "execution_count": 304,
      "outputs": [
        {
          "output_type": "execute_result",
          "data": {
            "text/plain": [
              "29"
            ]
          },
          "metadata": {},
          "execution_count": 304
        }
      ]
    },
    {
      "cell_type": "code",
      "execution_count": 305,
      "id": "54de87d7",
      "metadata": {
        "id": "54de87d7",
        "colab": {
          "base_uri": "https://localhost:8080/"
        },
        "outputId": "7041a99e-a73e-48d5-9a15-2847eecda264"
      },
      "outputs": [
        {
          "output_type": "execute_result",
          "data": {
            "text/plain": [
              "(6287, 54)"
            ]
          },
          "metadata": {},
          "execution_count": 305
        }
      ],
      "source": [
        "# Удаляем коррелирующие признаки\n",
        "df = df.drop(to_drop, axis = 1)\n",
        "df.shape"
      ]
    },
    {
      "cell_type": "code",
      "source": [
        "make_model(df, name = '-коррелирующие признаки')"
      ],
      "metadata": {
        "colab": {
          "base_uri": "https://localhost:8080/",
          "height": 171
        },
        "id": "UKF1WyI7cJdR",
        "outputId": "dfeb3d05-c449-4df0-a49d-8d88b5c48751"
      },
      "id": "UKF1WyI7cJdR",
      "execution_count": 306,
      "outputs": [
        {
          "output_type": "stream",
          "name": "stderr",
          "text": [
            "/usr/local/lib/python3.8/dist-packages/sklearn/metrics/_classification.py:1318: UndefinedMetricWarning: Precision is ill-defined and being set to 0.0 in labels with no predicted samples. Use `zero_division` parameter to control this behavior.\n",
            "  _warn_prf(average, modifier, msg_start, len(result))\n"
          ]
        },
        {
          "output_type": "execute_result",
          "data": {
            "text/plain": [
              "                     stage  accuracy_to_max  recall_to_max  F1_to_max  \\\n",
              "0          Исходные данные         0.964809       0.499241   0.491045   \n",
              "1     -первичная обработка         0.964809       0.509879   0.511038   \n",
              "2      -выбросы и пропуски         0.975358       0.499593   0.493763   \n",
              "3  -коррелирующие признаки         0.975358       0.500000   0.493763   \n",
              "\n",
              "   precision_to_min      time  \n",
              "0          0.483113  0.289464  \n",
              "1          0.649767  0.288611  \n",
              "2          0.488067  0.322488  \n",
              "3          0.487679  0.260597  "
            ],
            "text/html": [
              "\n",
              "  <div id=\"df-5629918b-4822-47d7-b7f7-b0307c2c8248\">\n",
              "    <div class=\"colab-df-container\">\n",
              "      <div>\n",
              "<style scoped>\n",
              "    .dataframe tbody tr th:only-of-type {\n",
              "        vertical-align: middle;\n",
              "    }\n",
              "\n",
              "    .dataframe tbody tr th {\n",
              "        vertical-align: top;\n",
              "    }\n",
              "\n",
              "    .dataframe thead th {\n",
              "        text-align: right;\n",
              "    }\n",
              "</style>\n",
              "<table border=\"1\" class=\"dataframe\">\n",
              "  <thead>\n",
              "    <tr style=\"text-align: right;\">\n",
              "      <th></th>\n",
              "      <th>stage</th>\n",
              "      <th>accuracy_to_max</th>\n",
              "      <th>recall_to_max</th>\n",
              "      <th>F1_to_max</th>\n",
              "      <th>precision_to_min</th>\n",
              "      <th>time</th>\n",
              "    </tr>\n",
              "  </thead>\n",
              "  <tbody>\n",
              "    <tr>\n",
              "      <th>0</th>\n",
              "      <td>Исходные данные</td>\n",
              "      <td>0.964809</td>\n",
              "      <td>0.499241</td>\n",
              "      <td>0.491045</td>\n",
              "      <td>0.483113</td>\n",
              "      <td>0.289464</td>\n",
              "    </tr>\n",
              "    <tr>\n",
              "      <th>1</th>\n",
              "      <td>-первичная обработка</td>\n",
              "      <td>0.964809</td>\n",
              "      <td>0.509879</td>\n",
              "      <td>0.511038</td>\n",
              "      <td>0.649767</td>\n",
              "      <td>0.288611</td>\n",
              "    </tr>\n",
              "    <tr>\n",
              "      <th>2</th>\n",
              "      <td>-выбросы и пропуски</td>\n",
              "      <td>0.975358</td>\n",
              "      <td>0.499593</td>\n",
              "      <td>0.493763</td>\n",
              "      <td>0.488067</td>\n",
              "      <td>0.322488</td>\n",
              "    </tr>\n",
              "    <tr>\n",
              "      <th>3</th>\n",
              "      <td>-коррелирующие признаки</td>\n",
              "      <td>0.975358</td>\n",
              "      <td>0.500000</td>\n",
              "      <td>0.493763</td>\n",
              "      <td>0.487679</td>\n",
              "      <td>0.260597</td>\n",
              "    </tr>\n",
              "  </tbody>\n",
              "</table>\n",
              "</div>\n",
              "      <button class=\"colab-df-convert\" onclick=\"convertToInteractive('df-5629918b-4822-47d7-b7f7-b0307c2c8248')\"\n",
              "              title=\"Convert this dataframe to an interactive table.\"\n",
              "              style=\"display:none;\">\n",
              "        \n",
              "  <svg xmlns=\"http://www.w3.org/2000/svg\" height=\"24px\"viewBox=\"0 0 24 24\"\n",
              "       width=\"24px\">\n",
              "    <path d=\"M0 0h24v24H0V0z\" fill=\"none\"/>\n",
              "    <path d=\"M18.56 5.44l.94 2.06.94-2.06 2.06-.94-2.06-.94-.94-2.06-.94 2.06-2.06.94zm-11 1L8.5 8.5l.94-2.06 2.06-.94-2.06-.94L8.5 2.5l-.94 2.06-2.06.94zm10 10l.94 2.06.94-2.06 2.06-.94-2.06-.94-.94-2.06-.94 2.06-2.06.94z\"/><path d=\"M17.41 7.96l-1.37-1.37c-.4-.4-.92-.59-1.43-.59-.52 0-1.04.2-1.43.59L10.3 9.45l-7.72 7.72c-.78.78-.78 2.05 0 2.83L4 21.41c.39.39.9.59 1.41.59.51 0 1.02-.2 1.41-.59l7.78-7.78 2.81-2.81c.8-.78.8-2.07 0-2.86zM5.41 20L4 18.59l7.72-7.72 1.47 1.35L5.41 20z\"/>\n",
              "  </svg>\n",
              "      </button>\n",
              "      \n",
              "  <style>\n",
              "    .colab-df-container {\n",
              "      display:flex;\n",
              "      flex-wrap:wrap;\n",
              "      gap: 12px;\n",
              "    }\n",
              "\n",
              "    .colab-df-convert {\n",
              "      background-color: #E8F0FE;\n",
              "      border: none;\n",
              "      border-radius: 50%;\n",
              "      cursor: pointer;\n",
              "      display: none;\n",
              "      fill: #1967D2;\n",
              "      height: 32px;\n",
              "      padding: 0 0 0 0;\n",
              "      width: 32px;\n",
              "    }\n",
              "\n",
              "    .colab-df-convert:hover {\n",
              "      background-color: #E2EBFA;\n",
              "      box-shadow: 0px 1px 2px rgba(60, 64, 67, 0.3), 0px 1px 3px 1px rgba(60, 64, 67, 0.15);\n",
              "      fill: #174EA6;\n",
              "    }\n",
              "\n",
              "    [theme=dark] .colab-df-convert {\n",
              "      background-color: #3B4455;\n",
              "      fill: #D2E3FC;\n",
              "    }\n",
              "\n",
              "    [theme=dark] .colab-df-convert:hover {\n",
              "      background-color: #434B5C;\n",
              "      box-shadow: 0px 1px 3px 1px rgba(0, 0, 0, 0.15);\n",
              "      filter: drop-shadow(0px 1px 2px rgba(0, 0, 0, 0.3));\n",
              "      fill: #FFFFFF;\n",
              "    }\n",
              "  </style>\n",
              "\n",
              "      <script>\n",
              "        const buttonEl =\n",
              "          document.querySelector('#df-5629918b-4822-47d7-b7f7-b0307c2c8248 button.colab-df-convert');\n",
              "        buttonEl.style.display =\n",
              "          google.colab.kernel.accessAllowed ? 'block' : 'none';\n",
              "\n",
              "        async function convertToInteractive(key) {\n",
              "          const element = document.querySelector('#df-5629918b-4822-47d7-b7f7-b0307c2c8248');\n",
              "          const dataTable =\n",
              "            await google.colab.kernel.invokeFunction('convertToInteractive',\n",
              "                                                     [key], {});\n",
              "          if (!dataTable) return;\n",
              "\n",
              "          const docLinkHtml = 'Like what you see? Visit the ' +\n",
              "            '<a target=\"_blank\" href=https://colab.research.google.com/notebooks/data_table.ipynb>data table notebook</a>'\n",
              "            + ' to learn more about interactive tables.';\n",
              "          element.innerHTML = '';\n",
              "          dataTable['output_type'] = 'display_data';\n",
              "          await google.colab.output.renderOutput(dataTable, element);\n",
              "          const docLink = document.createElement('div');\n",
              "          docLink.innerHTML = docLinkHtml;\n",
              "          element.appendChild(docLink);\n",
              "        }\n",
              "      </script>\n",
              "    </div>\n",
              "  </div>\n",
              "  "
            ]
          },
          "metadata": {},
          "execution_count": 306
        }
      ]
    },
    {
      "cell_type": "markdown",
      "source": [
        "## 5. Используем метод взаимной классификации для определения наиболее значимых признаков\n",
        "измеряет зависимость функций от целевого значения"
      ],
      "metadata": {
        "id": "KO-PXsjDMdhW"
      },
      "id": "KO-PXsjDMdhW"
    },
    {
      "cell_type": "code",
      "execution_count": 307,
      "id": "fb2abc9d",
      "metadata": {
        "id": "fb2abc9d"
      },
      "outputs": [],
      "source": [
        "X = df.drop(['Bankrupt'], axis = 1) # факторные переменные\n",
        "y = df.Bankrupt"
      ]
    },
    {
      "cell_type": "code",
      "execution_count": 308,
      "id": "09828cd0",
      "metadata": {
        "id": "09828cd0",
        "colab": {
          "base_uri": "https://localhost:8080/"
        },
        "outputId": "26b0d83b-2439-47ac-c26d-a8c5191dfa45"
      },
      "outputs": [
        {
          "output_type": "stream",
          "name": "stderr",
          "text": [
            "<ipython-input-308-7c5499b9adf1>:3: RuntimeWarning: More than 20 figures have been opened. Figures created through the pyplot interface (`matplotlib.pyplot.figure`) are retained until explicitly closed and may consume too much memory. (To control this warning, see the rcParam `figure.max_open_warning`).\n",
            "  plt.figure(figsize = (15,10))\n"
          ]
        }
      ],
      "source": [
        "from sklearn.feature_selection import mutual_info_classif\n",
        "\n",
        "plt.figure(figsize = (15,10))\n",
        "importances = mutual_info_classif(X, y)\n",
        "feature_importances = pd.Series(importances, X.columns[0:len(df.columns)-1])\n",
        "feature_importances.plot(kind='bar', color='teal')\n",
        "plt.show()"
      ]
    },
    {
      "cell_type": "code",
      "source": [
        "feature_importances = pd.DataFrame({'column':feature_importances.index, 'imortance': feature_importances.values}).sort_values(by = 'imortance')\n",
        "feature_importances.head()"
      ],
      "metadata": {
        "colab": {
          "base_uri": "https://localhost:8080/",
          "height": 148
        },
        "id": "k9XWcmLUldmH",
        "outputId": "4e196246-e049-4485-eb17-07168e35f82e"
      },
      "id": "k9XWcmLUldmH",
      "execution_count": 309,
      "outputs": [
        {
          "output_type": "execute_result",
          "data": {
            "text/plain": [
              "   column  imortance\n",
              "26   x_46        0.0\n",
              "48   x_76        0.0\n",
              "44   x_72        0.0\n",
              "4    x_11        0.0\n",
              "35   x_56        0.0"
            ],
            "text/html": [
              "\n",
              "  <div id=\"df-60074196-8742-4f99-839c-ef5367fb04ae\">\n",
              "    <div class=\"colab-df-container\">\n",
              "      <div>\n",
              "<style scoped>\n",
              "    .dataframe tbody tr th:only-of-type {\n",
              "        vertical-align: middle;\n",
              "    }\n",
              "\n",
              "    .dataframe tbody tr th {\n",
              "        vertical-align: top;\n",
              "    }\n",
              "\n",
              "    .dataframe thead th {\n",
              "        text-align: right;\n",
              "    }\n",
              "</style>\n",
              "<table border=\"1\" class=\"dataframe\">\n",
              "  <thead>\n",
              "    <tr style=\"text-align: right;\">\n",
              "      <th></th>\n",
              "      <th>column</th>\n",
              "      <th>imortance</th>\n",
              "    </tr>\n",
              "  </thead>\n",
              "  <tbody>\n",
              "    <tr>\n",
              "      <th>26</th>\n",
              "      <td>x_46</td>\n",
              "      <td>0.0</td>\n",
              "    </tr>\n",
              "    <tr>\n",
              "      <th>48</th>\n",
              "      <td>x_76</td>\n",
              "      <td>0.0</td>\n",
              "    </tr>\n",
              "    <tr>\n",
              "      <th>44</th>\n",
              "      <td>x_72</td>\n",
              "      <td>0.0</td>\n",
              "    </tr>\n",
              "    <tr>\n",
              "      <th>4</th>\n",
              "      <td>x_11</td>\n",
              "      <td>0.0</td>\n",
              "    </tr>\n",
              "    <tr>\n",
              "      <th>35</th>\n",
              "      <td>x_56</td>\n",
              "      <td>0.0</td>\n",
              "    </tr>\n",
              "  </tbody>\n",
              "</table>\n",
              "</div>\n",
              "      <button class=\"colab-df-convert\" onclick=\"convertToInteractive('df-60074196-8742-4f99-839c-ef5367fb04ae')\"\n",
              "              title=\"Convert this dataframe to an interactive table.\"\n",
              "              style=\"display:none;\">\n",
              "        \n",
              "  <svg xmlns=\"http://www.w3.org/2000/svg\" height=\"24px\"viewBox=\"0 0 24 24\"\n",
              "       width=\"24px\">\n",
              "    <path d=\"M0 0h24v24H0V0z\" fill=\"none\"/>\n",
              "    <path d=\"M18.56 5.44l.94 2.06.94-2.06 2.06-.94-2.06-.94-.94-2.06-.94 2.06-2.06.94zm-11 1L8.5 8.5l.94-2.06 2.06-.94-2.06-.94L8.5 2.5l-.94 2.06-2.06.94zm10 10l.94 2.06.94-2.06 2.06-.94-2.06-.94-.94-2.06-.94 2.06-2.06.94z\"/><path d=\"M17.41 7.96l-1.37-1.37c-.4-.4-.92-.59-1.43-.59-.52 0-1.04.2-1.43.59L10.3 9.45l-7.72 7.72c-.78.78-.78 2.05 0 2.83L4 21.41c.39.39.9.59 1.41.59.51 0 1.02-.2 1.41-.59l7.78-7.78 2.81-2.81c.8-.78.8-2.07 0-2.86zM5.41 20L4 18.59l7.72-7.72 1.47 1.35L5.41 20z\"/>\n",
              "  </svg>\n",
              "      </button>\n",
              "      \n",
              "  <style>\n",
              "    .colab-df-container {\n",
              "      display:flex;\n",
              "      flex-wrap:wrap;\n",
              "      gap: 12px;\n",
              "    }\n",
              "\n",
              "    .colab-df-convert {\n",
              "      background-color: #E8F0FE;\n",
              "      border: none;\n",
              "      border-radius: 50%;\n",
              "      cursor: pointer;\n",
              "      display: none;\n",
              "      fill: #1967D2;\n",
              "      height: 32px;\n",
              "      padding: 0 0 0 0;\n",
              "      width: 32px;\n",
              "    }\n",
              "\n",
              "    .colab-df-convert:hover {\n",
              "      background-color: #E2EBFA;\n",
              "      box-shadow: 0px 1px 2px rgba(60, 64, 67, 0.3), 0px 1px 3px 1px rgba(60, 64, 67, 0.15);\n",
              "      fill: #174EA6;\n",
              "    }\n",
              "\n",
              "    [theme=dark] .colab-df-convert {\n",
              "      background-color: #3B4455;\n",
              "      fill: #D2E3FC;\n",
              "    }\n",
              "\n",
              "    [theme=dark] .colab-df-convert:hover {\n",
              "      background-color: #434B5C;\n",
              "      box-shadow: 0px 1px 3px 1px rgba(0, 0, 0, 0.15);\n",
              "      filter: drop-shadow(0px 1px 2px rgba(0, 0, 0, 0.3));\n",
              "      fill: #FFFFFF;\n",
              "    }\n",
              "  </style>\n",
              "\n",
              "      <script>\n",
              "        const buttonEl =\n",
              "          document.querySelector('#df-60074196-8742-4f99-839c-ef5367fb04ae button.colab-df-convert');\n",
              "        buttonEl.style.display =\n",
              "          google.colab.kernel.accessAllowed ? 'block' : 'none';\n",
              "\n",
              "        async function convertToInteractive(key) {\n",
              "          const element = document.querySelector('#df-60074196-8742-4f99-839c-ef5367fb04ae');\n",
              "          const dataTable =\n",
              "            await google.colab.kernel.invokeFunction('convertToInteractive',\n",
              "                                                     [key], {});\n",
              "          if (!dataTable) return;\n",
              "\n",
              "          const docLinkHtml = 'Like what you see? Visit the ' +\n",
              "            '<a target=\"_blank\" href=https://colab.research.google.com/notebooks/data_table.ipynb>data table notebook</a>'\n",
              "            + ' to learn more about interactive tables.';\n",
              "          element.innerHTML = '';\n",
              "          dataTable['output_type'] = 'display_data';\n",
              "          await google.colab.output.renderOutput(dataTable, element);\n",
              "          const docLink = document.createElement('div');\n",
              "          docLink.innerHTML = docLinkHtml;\n",
              "          element.appendChild(docLink);\n",
              "        }\n",
              "      </script>\n",
              "    </div>\n",
              "  </div>\n",
              "  "
            ]
          },
          "metadata": {},
          "execution_count": 309
        }
      ]
    },
    {
      "cell_type": "code",
      "source": [
        "# Удалим совсем незначимые признаки (важность = 0)\n",
        "unimportant_features = list(feature_importances[feature_importances.imortance == 0].column)\n",
        "unimportant_features"
      ],
      "metadata": {
        "colab": {
          "base_uri": "https://localhost:8080/"
        },
        "id": "tgSJtTiGmMLK",
        "outputId": "6ddbe264-75b8-4334-88e8-162f4e60e537"
      },
      "id": "tgSJtTiGmMLK",
      "execution_count": 310,
      "outputs": [
        {
          "output_type": "execute_result",
          "data": {
            "text/plain": [
              "['x_46', 'x_76', 'x_72', 'x_11', 'x_56', 'x_31', 'x_21']"
            ]
          },
          "metadata": {},
          "execution_count": 310
        }
      ]
    },
    {
      "cell_type": "code",
      "source": [
        "df = df.drop(unimportant_features, axis = 1)"
      ],
      "metadata": {
        "id": "Kh_BZ5iKmMQ5"
      },
      "id": "Kh_BZ5iKmMQ5",
      "execution_count": 311,
      "outputs": []
    },
    {
      "cell_type": "code",
      "source": [
        "df.shape"
      ],
      "metadata": {
        "colab": {
          "base_uri": "https://localhost:8080/"
        },
        "id": "-4Fx6g8-n_H0",
        "outputId": "66216719-4a34-4608-fca6-9a12864edf91"
      },
      "id": "-4Fx6g8-n_H0",
      "execution_count": 312,
      "outputs": [
        {
          "output_type": "execute_result",
          "data": {
            "text/plain": [
              "(6287, 47)"
            ]
          },
          "metadata": {},
          "execution_count": 312
        }
      ]
    },
    {
      "cell_type": "code",
      "execution_count": 313,
      "id": "45d20a85",
      "metadata": {
        "id": "45d20a85",
        "colab": {
          "base_uri": "https://localhost:8080/",
          "height": 192
        },
        "outputId": "81dc837b-4667-4c24-cc7e-a60ae783801a"
      },
      "outputs": [
        {
          "output_type": "stream",
          "name": "stderr",
          "text": [
            "/usr/local/lib/python3.8/dist-packages/sklearn/metrics/_classification.py:1318: UndefinedMetricWarning: Precision is ill-defined and being set to 0.0 in labels with no predicted samples. Use `zero_division` parameter to control this behavior.\n",
            "  _warn_prf(average, modifier, msg_start, len(result))\n"
          ]
        },
        {
          "output_type": "execute_result",
          "data": {
            "text/plain": [
              "                     stage  accuracy_to_max  recall_to_max  F1_to_max  \\\n",
              "0          Исходные данные         0.964809       0.499241   0.491045   \n",
              "1     -первичная обработка         0.964809       0.509879   0.511038   \n",
              "2      -выбросы и пропуски         0.975358       0.499593   0.493763   \n",
              "3  -коррелирующие признаки         0.975358       0.500000   0.493763   \n",
              "4     -незначимые признаки         0.980127       0.500000   0.494982   \n",
              "\n",
              "   precision_to_min      time  \n",
              "0          0.483113  0.289464  \n",
              "1          0.649767  0.288611  \n",
              "2          0.488067  0.322488  \n",
              "3          0.487679  0.260597  \n",
              "4          0.490064  0.224888  "
            ],
            "text/html": [
              "\n",
              "  <div id=\"df-343b6aed-e60b-415e-b758-c0ff0d30fd7f\">\n",
              "    <div class=\"colab-df-container\">\n",
              "      <div>\n",
              "<style scoped>\n",
              "    .dataframe tbody tr th:only-of-type {\n",
              "        vertical-align: middle;\n",
              "    }\n",
              "\n",
              "    .dataframe tbody tr th {\n",
              "        vertical-align: top;\n",
              "    }\n",
              "\n",
              "    .dataframe thead th {\n",
              "        text-align: right;\n",
              "    }\n",
              "</style>\n",
              "<table border=\"1\" class=\"dataframe\">\n",
              "  <thead>\n",
              "    <tr style=\"text-align: right;\">\n",
              "      <th></th>\n",
              "      <th>stage</th>\n",
              "      <th>accuracy_to_max</th>\n",
              "      <th>recall_to_max</th>\n",
              "      <th>F1_to_max</th>\n",
              "      <th>precision_to_min</th>\n",
              "      <th>time</th>\n",
              "    </tr>\n",
              "  </thead>\n",
              "  <tbody>\n",
              "    <tr>\n",
              "      <th>0</th>\n",
              "      <td>Исходные данные</td>\n",
              "      <td>0.964809</td>\n",
              "      <td>0.499241</td>\n",
              "      <td>0.491045</td>\n",
              "      <td>0.483113</td>\n",
              "      <td>0.289464</td>\n",
              "    </tr>\n",
              "    <tr>\n",
              "      <th>1</th>\n",
              "      <td>-первичная обработка</td>\n",
              "      <td>0.964809</td>\n",
              "      <td>0.509879</td>\n",
              "      <td>0.511038</td>\n",
              "      <td>0.649767</td>\n",
              "      <td>0.288611</td>\n",
              "    </tr>\n",
              "    <tr>\n",
              "      <th>2</th>\n",
              "      <td>-выбросы и пропуски</td>\n",
              "      <td>0.975358</td>\n",
              "      <td>0.499593</td>\n",
              "      <td>0.493763</td>\n",
              "      <td>0.488067</td>\n",
              "      <td>0.322488</td>\n",
              "    </tr>\n",
              "    <tr>\n",
              "      <th>3</th>\n",
              "      <td>-коррелирующие признаки</td>\n",
              "      <td>0.975358</td>\n",
              "      <td>0.500000</td>\n",
              "      <td>0.493763</td>\n",
              "      <td>0.487679</td>\n",
              "      <td>0.260597</td>\n",
              "    </tr>\n",
              "    <tr>\n",
              "      <th>4</th>\n",
              "      <td>-незначимые признаки</td>\n",
              "      <td>0.980127</td>\n",
              "      <td>0.500000</td>\n",
              "      <td>0.494982</td>\n",
              "      <td>0.490064</td>\n",
              "      <td>0.224888</td>\n",
              "    </tr>\n",
              "  </tbody>\n",
              "</table>\n",
              "</div>\n",
              "      <button class=\"colab-df-convert\" onclick=\"convertToInteractive('df-343b6aed-e60b-415e-b758-c0ff0d30fd7f')\"\n",
              "              title=\"Convert this dataframe to an interactive table.\"\n",
              "              style=\"display:none;\">\n",
              "        \n",
              "  <svg xmlns=\"http://www.w3.org/2000/svg\" height=\"24px\"viewBox=\"0 0 24 24\"\n",
              "       width=\"24px\">\n",
              "    <path d=\"M0 0h24v24H0V0z\" fill=\"none\"/>\n",
              "    <path d=\"M18.56 5.44l.94 2.06.94-2.06 2.06-.94-2.06-.94-.94-2.06-.94 2.06-2.06.94zm-11 1L8.5 8.5l.94-2.06 2.06-.94-2.06-.94L8.5 2.5l-.94 2.06-2.06.94zm10 10l.94 2.06.94-2.06 2.06-.94-2.06-.94-.94-2.06-.94 2.06-2.06.94z\"/><path d=\"M17.41 7.96l-1.37-1.37c-.4-.4-.92-.59-1.43-.59-.52 0-1.04.2-1.43.59L10.3 9.45l-7.72 7.72c-.78.78-.78 2.05 0 2.83L4 21.41c.39.39.9.59 1.41.59.51 0 1.02-.2 1.41-.59l7.78-7.78 2.81-2.81c.8-.78.8-2.07 0-2.86zM5.41 20L4 18.59l7.72-7.72 1.47 1.35L5.41 20z\"/>\n",
              "  </svg>\n",
              "      </button>\n",
              "      \n",
              "  <style>\n",
              "    .colab-df-container {\n",
              "      display:flex;\n",
              "      flex-wrap:wrap;\n",
              "      gap: 12px;\n",
              "    }\n",
              "\n",
              "    .colab-df-convert {\n",
              "      background-color: #E8F0FE;\n",
              "      border: none;\n",
              "      border-radius: 50%;\n",
              "      cursor: pointer;\n",
              "      display: none;\n",
              "      fill: #1967D2;\n",
              "      height: 32px;\n",
              "      padding: 0 0 0 0;\n",
              "      width: 32px;\n",
              "    }\n",
              "\n",
              "    .colab-df-convert:hover {\n",
              "      background-color: #E2EBFA;\n",
              "      box-shadow: 0px 1px 2px rgba(60, 64, 67, 0.3), 0px 1px 3px 1px rgba(60, 64, 67, 0.15);\n",
              "      fill: #174EA6;\n",
              "    }\n",
              "\n",
              "    [theme=dark] .colab-df-convert {\n",
              "      background-color: #3B4455;\n",
              "      fill: #D2E3FC;\n",
              "    }\n",
              "\n",
              "    [theme=dark] .colab-df-convert:hover {\n",
              "      background-color: #434B5C;\n",
              "      box-shadow: 0px 1px 3px 1px rgba(0, 0, 0, 0.15);\n",
              "      filter: drop-shadow(0px 1px 2px rgba(0, 0, 0, 0.3));\n",
              "      fill: #FFFFFF;\n",
              "    }\n",
              "  </style>\n",
              "\n",
              "      <script>\n",
              "        const buttonEl =\n",
              "          document.querySelector('#df-343b6aed-e60b-415e-b758-c0ff0d30fd7f button.colab-df-convert');\n",
              "        buttonEl.style.display =\n",
              "          google.colab.kernel.accessAllowed ? 'block' : 'none';\n",
              "\n",
              "        async function convertToInteractive(key) {\n",
              "          const element = document.querySelector('#df-343b6aed-e60b-415e-b758-c0ff0d30fd7f');\n",
              "          const dataTable =\n",
              "            await google.colab.kernel.invokeFunction('convertToInteractive',\n",
              "                                                     [key], {});\n",
              "          if (!dataTable) return;\n",
              "\n",
              "          const docLinkHtml = 'Like what you see? Visit the ' +\n",
              "            '<a target=\"_blank\" href=https://colab.research.google.com/notebooks/data_table.ipynb>data table notebook</a>'\n",
              "            + ' to learn more about interactive tables.';\n",
              "          element.innerHTML = '';\n",
              "          dataTable['output_type'] = 'display_data';\n",
              "          await google.colab.output.renderOutput(dataTable, element);\n",
              "          const docLink = document.createElement('div');\n",
              "          docLink.innerHTML = docLinkHtml;\n",
              "          element.appendChild(docLink);\n",
              "        }\n",
              "      </script>\n",
              "    </div>\n",
              "  </div>\n",
              "  "
            ]
          },
          "metadata": {},
          "execution_count": 313
        }
      ],
      "source": [
        "make_model(df, name = '-незначимые признаки')"
      ]
    },
    {
      "cell_type": "markdown",
      "source": [
        "## 00. - Избавление от несбалансированности данных -\n",
        "\n",
        "По результатам проведения теста в конце поняла, что лучше не становится (и precision, и recall растут), поэтому предлагаю полностью исключить проверку на сбалансированность в работе, тк также эта проблема решается и использованием каких-то специальных методов непостредственно при построении модели (углубление в машинное обучение, другая тема курсовой работы)"
      ],
      "metadata": {
        "id": "rMPGcqZEWQ5w"
      },
      "id": "rMPGcqZEWQ5w"
    },
    {
      "cell_type": "code",
      "source": [
        "print('Financially stable: ', round(df['Bankrupt'].value_counts()[0]/len(df) * 100, 2), '% of the dataset')\n",
        "print('Financially unstable: ', round(df['Bankrupt'].value_counts()[1]/len(df) * 100, 2), '% of the dataset')"
      ],
      "metadata": {
        "colab": {
          "base_uri": "https://localhost:8080/"
        },
        "id": "WjMA1fc6WWeL",
        "outputId": "0d37660f-64e8-439e-c646-03f2b8f03866"
      },
      "id": "WjMA1fc6WWeL",
      "execution_count": 314,
      "outputs": [
        {
          "output_type": "stream",
          "name": "stdout",
          "text": [
            "Financially stable:  97.87 % of the dataset\n",
            "Financially unstable:  2.13 % of the dataset\n"
          ]
        }
      ]
    },
    {
      "cell_type": "markdown",
      "source": [
        "**Для баланса и точности предсказания модели принято использовать методы обогащения классов, например, создать синтетические образцы методом SMOTE («Техника передискретизации синтетического меньшинства»)**\n",
        "\n",
        "Он работает, создавая синтетические образцы из младшего класса вместо создания копий. Алгоритм выбирает два или более одинаковых экземпляра (используя меру расстояния) и возмущает один атрибут экземпляра за раз на случайную величину в пределах разницы с соседними экземплярами."
      ],
      "metadata": {
        "id": "CF2GUeRKYzTW"
      },
      "id": "CF2GUeRKYzTW"
    },
    {
      "cell_type": "code",
      "source": [
        "from imblearn.over_sampling import SMOTE\n",
        "X = df.drop(['Bankrupt'], axis = 1)\n",
        "y = df.Bankrupt\n",
        "oversample = SMOTE()\n",
        "X, y = oversample.fit_resample(X, y)\n",
        "\n",
        "df = pd.concat([y, X], axis=1)\n",
        "print(f'{len(df[df.Bankrupt == 1])} случаев банкротсва к {len(df[df.Bankrupt == 0])} не банкротсва')"
      ],
      "metadata": {
        "colab": {
          "base_uri": "https://localhost:8080/"
        },
        "id": "jGMLkUEZcD90",
        "outputId": "5e806ba9-014a-4645-dae1-586f6a04e508"
      },
      "id": "jGMLkUEZcD90",
      "execution_count": 315,
      "outputs": [
        {
          "output_type": "stream",
          "name": "stdout",
          "text": [
            "6153 случаев банкротсва к 6153 не банкротсва\n"
          ]
        }
      ]
    },
    {
      "cell_type": "code",
      "source": [
        "make_model(df, name = '-дисбаланс данных-')"
      ],
      "metadata": {
        "colab": {
          "base_uri": "https://localhost:8080/",
          "height": 170
        },
        "id": "Mu8nH8U6cECz",
        "outputId": "2d9a2954-e7a9-49cf-cadd-5cbb8eae39d8"
      },
      "id": "Mu8nH8U6cECz",
      "execution_count": 317,
      "outputs": [
        {
          "output_type": "execute_result",
          "data": {
            "text/plain": [
              "                     stage  accuracy_to_max  recall_to_max  F1_to_max  \\\n",
              "0          Исходные данные         0.964809       0.499241   0.491045   \n",
              "1     -первичная обработка         0.964809       0.509879   0.511038   \n",
              "2      -выбросы и пропуски         0.975358       0.499593   0.493763   \n",
              "3  -коррелирующие признаки         0.975358       0.500000   0.493763   \n",
              "4     -незначимые признаки         0.980127       0.500000   0.494982   \n",
              "5       -дисбаланс данных-         0.863119       0.863041   0.862777   \n",
              "\n",
              "   precision_to_min      time  \n",
              "0          0.483113  0.289464  \n",
              "1          0.649767  0.288611  \n",
              "2          0.488067  0.322488  \n",
              "3          0.487679  0.260597  \n",
              "4          0.490064  0.224888  \n",
              "5          0.866581  1.114191  "
            ],
            "text/html": [
              "\n",
              "  <div id=\"df-556fb5b6-7cdb-4475-a878-94044ab52915\">\n",
              "    <div class=\"colab-df-container\">\n",
              "      <div>\n",
              "<style scoped>\n",
              "    .dataframe tbody tr th:only-of-type {\n",
              "        vertical-align: middle;\n",
              "    }\n",
              "\n",
              "    .dataframe tbody tr th {\n",
              "        vertical-align: top;\n",
              "    }\n",
              "\n",
              "    .dataframe thead th {\n",
              "        text-align: right;\n",
              "    }\n",
              "</style>\n",
              "<table border=\"1\" class=\"dataframe\">\n",
              "  <thead>\n",
              "    <tr style=\"text-align: right;\">\n",
              "      <th></th>\n",
              "      <th>stage</th>\n",
              "      <th>accuracy_to_max</th>\n",
              "      <th>recall_to_max</th>\n",
              "      <th>F1_to_max</th>\n",
              "      <th>precision_to_min</th>\n",
              "      <th>time</th>\n",
              "    </tr>\n",
              "  </thead>\n",
              "  <tbody>\n",
              "    <tr>\n",
              "      <th>0</th>\n",
              "      <td>Исходные данные</td>\n",
              "      <td>0.964809</td>\n",
              "      <td>0.499241</td>\n",
              "      <td>0.491045</td>\n",
              "      <td>0.483113</td>\n",
              "      <td>0.289464</td>\n",
              "    </tr>\n",
              "    <tr>\n",
              "      <th>1</th>\n",
              "      <td>-первичная обработка</td>\n",
              "      <td>0.964809</td>\n",
              "      <td>0.509879</td>\n",
              "      <td>0.511038</td>\n",
              "      <td>0.649767</td>\n",
              "      <td>0.288611</td>\n",
              "    </tr>\n",
              "    <tr>\n",
              "      <th>2</th>\n",
              "      <td>-выбросы и пропуски</td>\n",
              "      <td>0.975358</td>\n",
              "      <td>0.499593</td>\n",
              "      <td>0.493763</td>\n",
              "      <td>0.488067</td>\n",
              "      <td>0.322488</td>\n",
              "    </tr>\n",
              "    <tr>\n",
              "      <th>3</th>\n",
              "      <td>-коррелирующие признаки</td>\n",
              "      <td>0.975358</td>\n",
              "      <td>0.500000</td>\n",
              "      <td>0.493763</td>\n",
              "      <td>0.487679</td>\n",
              "      <td>0.260597</td>\n",
              "    </tr>\n",
              "    <tr>\n",
              "      <th>4</th>\n",
              "      <td>-незначимые признаки</td>\n",
              "      <td>0.980127</td>\n",
              "      <td>0.500000</td>\n",
              "      <td>0.494982</td>\n",
              "      <td>0.490064</td>\n",
              "      <td>0.224888</td>\n",
              "    </tr>\n",
              "    <tr>\n",
              "      <th>5</th>\n",
              "      <td>-дисбаланс данных-</td>\n",
              "      <td>0.863119</td>\n",
              "      <td>0.863041</td>\n",
              "      <td>0.862777</td>\n",
              "      <td>0.866581</td>\n",
              "      <td>1.114191</td>\n",
              "    </tr>\n",
              "  </tbody>\n",
              "</table>\n",
              "</div>\n",
              "      <button class=\"colab-df-convert\" onclick=\"convertToInteractive('df-556fb5b6-7cdb-4475-a878-94044ab52915')\"\n",
              "              title=\"Convert this dataframe to an interactive table.\"\n",
              "              style=\"display:none;\">\n",
              "        \n",
              "  <svg xmlns=\"http://www.w3.org/2000/svg\" height=\"24px\"viewBox=\"0 0 24 24\"\n",
              "       width=\"24px\">\n",
              "    <path d=\"M0 0h24v24H0V0z\" fill=\"none\"/>\n",
              "    <path d=\"M18.56 5.44l.94 2.06.94-2.06 2.06-.94-2.06-.94-.94-2.06-.94 2.06-2.06.94zm-11 1L8.5 8.5l.94-2.06 2.06-.94-2.06-.94L8.5 2.5l-.94 2.06-2.06.94zm10 10l.94 2.06.94-2.06 2.06-.94-2.06-.94-.94-2.06-.94 2.06-2.06.94z\"/><path d=\"M17.41 7.96l-1.37-1.37c-.4-.4-.92-.59-1.43-.59-.52 0-1.04.2-1.43.59L10.3 9.45l-7.72 7.72c-.78.78-.78 2.05 0 2.83L4 21.41c.39.39.9.59 1.41.59.51 0 1.02-.2 1.41-.59l7.78-7.78 2.81-2.81c.8-.78.8-2.07 0-2.86zM5.41 20L4 18.59l7.72-7.72 1.47 1.35L5.41 20z\"/>\n",
              "  </svg>\n",
              "      </button>\n",
              "      \n",
              "  <style>\n",
              "    .colab-df-container {\n",
              "      display:flex;\n",
              "      flex-wrap:wrap;\n",
              "      gap: 12px;\n",
              "    }\n",
              "\n",
              "    .colab-df-convert {\n",
              "      background-color: #E8F0FE;\n",
              "      border: none;\n",
              "      border-radius: 50%;\n",
              "      cursor: pointer;\n",
              "      display: none;\n",
              "      fill: #1967D2;\n",
              "      height: 32px;\n",
              "      padding: 0 0 0 0;\n",
              "      width: 32px;\n",
              "    }\n",
              "\n",
              "    .colab-df-convert:hover {\n",
              "      background-color: #E2EBFA;\n",
              "      box-shadow: 0px 1px 2px rgba(60, 64, 67, 0.3), 0px 1px 3px 1px rgba(60, 64, 67, 0.15);\n",
              "      fill: #174EA6;\n",
              "    }\n",
              "\n",
              "    [theme=dark] .colab-df-convert {\n",
              "      background-color: #3B4455;\n",
              "      fill: #D2E3FC;\n",
              "    }\n",
              "\n",
              "    [theme=dark] .colab-df-convert:hover {\n",
              "      background-color: #434B5C;\n",
              "      box-shadow: 0px 1px 3px 1px rgba(0, 0, 0, 0.15);\n",
              "      filter: drop-shadow(0px 1px 2px rgba(0, 0, 0, 0.3));\n",
              "      fill: #FFFFFF;\n",
              "    }\n",
              "  </style>\n",
              "\n",
              "      <script>\n",
              "        const buttonEl =\n",
              "          document.querySelector('#df-556fb5b6-7cdb-4475-a878-94044ab52915 button.colab-df-convert');\n",
              "        buttonEl.style.display =\n",
              "          google.colab.kernel.accessAllowed ? 'block' : 'none';\n",
              "\n",
              "        async function convertToInteractive(key) {\n",
              "          const element = document.querySelector('#df-556fb5b6-7cdb-4475-a878-94044ab52915');\n",
              "          const dataTable =\n",
              "            await google.colab.kernel.invokeFunction('convertToInteractive',\n",
              "                                                     [key], {});\n",
              "          if (!dataTable) return;\n",
              "\n",
              "          const docLinkHtml = 'Like what you see? Visit the ' +\n",
              "            '<a target=\"_blank\" href=https://colab.research.google.com/notebooks/data_table.ipynb>data table notebook</a>'\n",
              "            + ' to learn more about interactive tables.';\n",
              "          element.innerHTML = '';\n",
              "          dataTable['output_type'] = 'display_data';\n",
              "          await google.colab.output.renderOutput(dataTable, element);\n",
              "          const docLink = document.createElement('div');\n",
              "          docLink.innerHTML = docLinkHtml;\n",
              "          element.appendChild(docLink);\n",
              "        }\n",
              "      </script>\n",
              "    </div>\n",
              "  </div>\n",
              "  "
            ]
          },
          "metadata": {},
          "execution_count": 317
        }
      ]
    },
    {
      "cell_type": "markdown",
      "source": [
        "# Итог\n",
        "\n",
        "Видим, что в результате (игнорируя ступень \"-дисбаланс данных-\") наша модель улучшила показатели точности и теперь ее можно использовать для модели машинного обучения"
      ],
      "metadata": {
        "id": "aJC2_2eHoU8a"
      },
      "id": "aJC2_2eHoU8a"
    },
    {
      "cell_type": "code",
      "source": [
        "df.tail()"
      ],
      "metadata": {
        "colab": {
          "base_uri": "https://localhost:8080/",
          "height": 172
        },
        "id": "AqSdqfnIhRcq",
        "outputId": "99299bf3-ed56-4b54-e08e-54ad4630685f"
      },
      "id": "AqSdqfnIhRcq",
      "execution_count": 318,
      "outputs": [
        {
          "output_type": "execute_result",
          "data": {
            "text/plain": [
              "       Bankrupt       x_1       x_4       x_6       x_7          x_12  \\\n",
              "12301         1  0.485174  0.595143  0.998915  0.797303  1.427283e+09   \n",
              "12302         1  0.423159  0.602552  0.998971  0.797362  2.139339e+09   \n",
              "12303         1  0.443434  0.604049  0.998922  0.797262  1.734419e+09   \n",
              "12304         1  0.452756  0.600350  0.998997  0.797340  3.999325e+09   \n",
              "12305         1  0.439563  0.596385  0.998977  0.797369  6.412703e+09   \n",
              "\n",
              "           x_13      x_14  x_15      x_16  ...      x_68      x_69      x_70  \\\n",
              "12301  0.461140  0.000498   0.0  0.179593  ...  0.931223  0.002123  0.013878   \n",
              "12302  0.457222  0.000359   0.0  0.151596  ...  0.928390  0.002065  0.047858   \n",
              "12303  0.459171  0.000410   0.0  0.158092  ...  0.921554  0.002108  0.044490   \n",
              "12304  0.461435  0.000466   0.0  0.157032  ...  0.920779  0.002174  0.043242   \n",
              "12305  0.460233  0.000281   0.0  0.146420  ...  0.929207  0.002228  0.029152   \n",
              "\n",
              "           x_73          x_74      x_75      x_79      x_80      x_84  \\\n",
              "12301  0.593868  1.193954e+09  0.671562  0.114046  0.633279  0.039144   \n",
              "12302  0.593931  1.955946e+09  0.671549  0.113694  0.612838  0.042696   \n",
              "12303  0.593934  2.610109e+09  0.671559  0.111796  0.617963  0.041867   \n",
              "12304  0.593925  2.324122e+09  0.671570  0.115299  0.639392  0.042519   \n",
              "12305  0.593873  6.496294e+09  0.671570  0.114012  0.619726  0.052828   \n",
              "\n",
              "           x_87  \n",
              "12301  0.004982  \n",
              "12302  0.000792  \n",
              "12303  0.001462  \n",
              "12304  0.001780  \n",
              "12305  0.000990  \n",
              "\n",
              "[5 rows x 47 columns]"
            ],
            "text/html": [
              "\n",
              "  <div id=\"df-d72f799f-335e-4ec8-aa94-0677e227c1ac\">\n",
              "    <div class=\"colab-df-container\">\n",
              "      <div>\n",
              "<style scoped>\n",
              "    .dataframe tbody tr th:only-of-type {\n",
              "        vertical-align: middle;\n",
              "    }\n",
              "\n",
              "    .dataframe tbody tr th {\n",
              "        vertical-align: top;\n",
              "    }\n",
              "\n",
              "    .dataframe thead th {\n",
              "        text-align: right;\n",
              "    }\n",
              "</style>\n",
              "<table border=\"1\" class=\"dataframe\">\n",
              "  <thead>\n",
              "    <tr style=\"text-align: right;\">\n",
              "      <th></th>\n",
              "      <th>Bankrupt</th>\n",
              "      <th>x_1</th>\n",
              "      <th>x_4</th>\n",
              "      <th>x_6</th>\n",
              "      <th>x_7</th>\n",
              "      <th>x_12</th>\n",
              "      <th>x_13</th>\n",
              "      <th>x_14</th>\n",
              "      <th>x_15</th>\n",
              "      <th>x_16</th>\n",
              "      <th>...</th>\n",
              "      <th>x_68</th>\n",
              "      <th>x_69</th>\n",
              "      <th>x_70</th>\n",
              "      <th>x_73</th>\n",
              "      <th>x_74</th>\n",
              "      <th>x_75</th>\n",
              "      <th>x_79</th>\n",
              "      <th>x_80</th>\n",
              "      <th>x_84</th>\n",
              "      <th>x_87</th>\n",
              "    </tr>\n",
              "  </thead>\n",
              "  <tbody>\n",
              "    <tr>\n",
              "      <th>12301</th>\n",
              "      <td>1</td>\n",
              "      <td>0.485174</td>\n",
              "      <td>0.595143</td>\n",
              "      <td>0.998915</td>\n",
              "      <td>0.797303</td>\n",
              "      <td>1.427283e+09</td>\n",
              "      <td>0.461140</td>\n",
              "      <td>0.000498</td>\n",
              "      <td>0.0</td>\n",
              "      <td>0.179593</td>\n",
              "      <td>...</td>\n",
              "      <td>0.931223</td>\n",
              "      <td>0.002123</td>\n",
              "      <td>0.013878</td>\n",
              "      <td>0.593868</td>\n",
              "      <td>1.193954e+09</td>\n",
              "      <td>0.671562</td>\n",
              "      <td>0.114046</td>\n",
              "      <td>0.633279</td>\n",
              "      <td>0.039144</td>\n",
              "      <td>0.004982</td>\n",
              "    </tr>\n",
              "    <tr>\n",
              "      <th>12302</th>\n",
              "      <td>1</td>\n",
              "      <td>0.423159</td>\n",
              "      <td>0.602552</td>\n",
              "      <td>0.998971</td>\n",
              "      <td>0.797362</td>\n",
              "      <td>2.139339e+09</td>\n",
              "      <td>0.457222</td>\n",
              "      <td>0.000359</td>\n",
              "      <td>0.0</td>\n",
              "      <td>0.151596</td>\n",
              "      <td>...</td>\n",
              "      <td>0.928390</td>\n",
              "      <td>0.002065</td>\n",
              "      <td>0.047858</td>\n",
              "      <td>0.593931</td>\n",
              "      <td>1.955946e+09</td>\n",
              "      <td>0.671549</td>\n",
              "      <td>0.113694</td>\n",
              "      <td>0.612838</td>\n",
              "      <td>0.042696</td>\n",
              "      <td>0.000792</td>\n",
              "    </tr>\n",
              "    <tr>\n",
              "      <th>12303</th>\n",
              "      <td>1</td>\n",
              "      <td>0.443434</td>\n",
              "      <td>0.604049</td>\n",
              "      <td>0.998922</td>\n",
              "      <td>0.797262</td>\n",
              "      <td>1.734419e+09</td>\n",
              "      <td>0.459171</td>\n",
              "      <td>0.000410</td>\n",
              "      <td>0.0</td>\n",
              "      <td>0.158092</td>\n",
              "      <td>...</td>\n",
              "      <td>0.921554</td>\n",
              "      <td>0.002108</td>\n",
              "      <td>0.044490</td>\n",
              "      <td>0.593934</td>\n",
              "      <td>2.610109e+09</td>\n",
              "      <td>0.671559</td>\n",
              "      <td>0.111796</td>\n",
              "      <td>0.617963</td>\n",
              "      <td>0.041867</td>\n",
              "      <td>0.001462</td>\n",
              "    </tr>\n",
              "    <tr>\n",
              "      <th>12304</th>\n",
              "      <td>1</td>\n",
              "      <td>0.452756</td>\n",
              "      <td>0.600350</td>\n",
              "      <td>0.998997</td>\n",
              "      <td>0.797340</td>\n",
              "      <td>3.999325e+09</td>\n",
              "      <td>0.461435</td>\n",
              "      <td>0.000466</td>\n",
              "      <td>0.0</td>\n",
              "      <td>0.157032</td>\n",
              "      <td>...</td>\n",
              "      <td>0.920779</td>\n",
              "      <td>0.002174</td>\n",
              "      <td>0.043242</td>\n",
              "      <td>0.593925</td>\n",
              "      <td>2.324122e+09</td>\n",
              "      <td>0.671570</td>\n",
              "      <td>0.115299</td>\n",
              "      <td>0.639392</td>\n",
              "      <td>0.042519</td>\n",
              "      <td>0.001780</td>\n",
              "    </tr>\n",
              "    <tr>\n",
              "      <th>12305</th>\n",
              "      <td>1</td>\n",
              "      <td>0.439563</td>\n",
              "      <td>0.596385</td>\n",
              "      <td>0.998977</td>\n",
              "      <td>0.797369</td>\n",
              "      <td>6.412703e+09</td>\n",
              "      <td>0.460233</td>\n",
              "      <td>0.000281</td>\n",
              "      <td>0.0</td>\n",
              "      <td>0.146420</td>\n",
              "      <td>...</td>\n",
              "      <td>0.929207</td>\n",
              "      <td>0.002228</td>\n",
              "      <td>0.029152</td>\n",
              "      <td>0.593873</td>\n",
              "      <td>6.496294e+09</td>\n",
              "      <td>0.671570</td>\n",
              "      <td>0.114012</td>\n",
              "      <td>0.619726</td>\n",
              "      <td>0.052828</td>\n",
              "      <td>0.000990</td>\n",
              "    </tr>\n",
              "  </tbody>\n",
              "</table>\n",
              "<p>5 rows × 47 columns</p>\n",
              "</div>\n",
              "      <button class=\"colab-df-convert\" onclick=\"convertToInteractive('df-d72f799f-335e-4ec8-aa94-0677e227c1ac')\"\n",
              "              title=\"Convert this dataframe to an interactive table.\"\n",
              "              style=\"display:none;\">\n",
              "        \n",
              "  <svg xmlns=\"http://www.w3.org/2000/svg\" height=\"24px\"viewBox=\"0 0 24 24\"\n",
              "       width=\"24px\">\n",
              "    <path d=\"M0 0h24v24H0V0z\" fill=\"none\"/>\n",
              "    <path d=\"M18.56 5.44l.94 2.06.94-2.06 2.06-.94-2.06-.94-.94-2.06-.94 2.06-2.06.94zm-11 1L8.5 8.5l.94-2.06 2.06-.94-2.06-.94L8.5 2.5l-.94 2.06-2.06.94zm10 10l.94 2.06.94-2.06 2.06-.94-2.06-.94-.94-2.06-.94 2.06-2.06.94z\"/><path d=\"M17.41 7.96l-1.37-1.37c-.4-.4-.92-.59-1.43-.59-.52 0-1.04.2-1.43.59L10.3 9.45l-7.72 7.72c-.78.78-.78 2.05 0 2.83L4 21.41c.39.39.9.59 1.41.59.51 0 1.02-.2 1.41-.59l7.78-7.78 2.81-2.81c.8-.78.8-2.07 0-2.86zM5.41 20L4 18.59l7.72-7.72 1.47 1.35L5.41 20z\"/>\n",
              "  </svg>\n",
              "      </button>\n",
              "      \n",
              "  <style>\n",
              "    .colab-df-container {\n",
              "      display:flex;\n",
              "      flex-wrap:wrap;\n",
              "      gap: 12px;\n",
              "    }\n",
              "\n",
              "    .colab-df-convert {\n",
              "      background-color: #E8F0FE;\n",
              "      border: none;\n",
              "      border-radius: 50%;\n",
              "      cursor: pointer;\n",
              "      display: none;\n",
              "      fill: #1967D2;\n",
              "      height: 32px;\n",
              "      padding: 0 0 0 0;\n",
              "      width: 32px;\n",
              "    }\n",
              "\n",
              "    .colab-df-convert:hover {\n",
              "      background-color: #E2EBFA;\n",
              "      box-shadow: 0px 1px 2px rgba(60, 64, 67, 0.3), 0px 1px 3px 1px rgba(60, 64, 67, 0.15);\n",
              "      fill: #174EA6;\n",
              "    }\n",
              "\n",
              "    [theme=dark] .colab-df-convert {\n",
              "      background-color: #3B4455;\n",
              "      fill: #D2E3FC;\n",
              "    }\n",
              "\n",
              "    [theme=dark] .colab-df-convert:hover {\n",
              "      background-color: #434B5C;\n",
              "      box-shadow: 0px 1px 3px 1px rgba(0, 0, 0, 0.15);\n",
              "      filter: drop-shadow(0px 1px 2px rgba(0, 0, 0, 0.3));\n",
              "      fill: #FFFFFF;\n",
              "    }\n",
              "  </style>\n",
              "\n",
              "      <script>\n",
              "        const buttonEl =\n",
              "          document.querySelector('#df-d72f799f-335e-4ec8-aa94-0677e227c1ac button.colab-df-convert');\n",
              "        buttonEl.style.display =\n",
              "          google.colab.kernel.accessAllowed ? 'block' : 'none';\n",
              "\n",
              "        async function convertToInteractive(key) {\n",
              "          const element = document.querySelector('#df-d72f799f-335e-4ec8-aa94-0677e227c1ac');\n",
              "          const dataTable =\n",
              "            await google.colab.kernel.invokeFunction('convertToInteractive',\n",
              "                                                     [key], {});\n",
              "          if (!dataTable) return;\n",
              "\n",
              "          const docLinkHtml = 'Like what you see? Visit the ' +\n",
              "            '<a target=\"_blank\" href=https://colab.research.google.com/notebooks/data_table.ipynb>data table notebook</a>'\n",
              "            + ' to learn more about interactive tables.';\n",
              "          element.innerHTML = '';\n",
              "          dataTable['output_type'] = 'display_data';\n",
              "          await google.colab.output.renderOutput(dataTable, element);\n",
              "          const docLink = document.createElement('div');\n",
              "          docLink.innerHTML = docLinkHtml;\n",
              "          element.appendChild(docLink);\n",
              "        }\n",
              "      </script>\n",
              "    </div>\n",
              "  </div>\n",
              "  "
            ]
          },
          "metadata": {},
          "execution_count": 318
        }
      ]
    },
    {
      "cell_type": "code",
      "source": [
        "df.info()"
      ],
      "metadata": {
        "colab": {
          "base_uri": "https://localhost:8080/"
        },
        "id": "u3l7QA2phRlu",
        "outputId": "76042545-de02-40e1-956d-61086fd371c6"
      },
      "id": "u3l7QA2phRlu",
      "execution_count": 319,
      "outputs": [
        {
          "output_type": "stream",
          "name": "stdout",
          "text": [
            "<class 'pandas.core.frame.DataFrame'>\n",
            "RangeIndex: 12306 entries, 0 to 12305\n",
            "Data columns (total 47 columns):\n",
            " #   Column    Non-Null Count  Dtype  \n",
            "---  ------    --------------  -----  \n",
            " 0   Bankrupt  12306 non-null  int64  \n",
            " 1   x_1       12306 non-null  float64\n",
            " 2   x_4       12306 non-null  float64\n",
            " 3   x_6       12306 non-null  float64\n",
            " 4   x_7       12306 non-null  float64\n",
            " 5   x_12      12306 non-null  float64\n",
            " 6   x_13      12306 non-null  float64\n",
            " 7   x_14      12306 non-null  float64\n",
            " 8   x_15      12306 non-null  float64\n",
            " 9   x_16      12306 non-null  float64\n",
            " 10  x_19      12306 non-null  float64\n",
            " 11  x_20      12306 non-null  float64\n",
            " 12  x_24      12306 non-null  float64\n",
            " 13  x_25      12306 non-null  float64\n",
            " 14  x_26      12306 non-null  float64\n",
            " 15  x_30      12306 non-null  float64\n",
            " 16  x_32      12306 non-null  float64\n",
            " 17  x_33      12306 non-null  float64\n",
            " 18  x_34      12306 non-null  float64\n",
            " 19  x_36      12306 non-null  float64\n",
            " 20  x_39      12306 non-null  float64\n",
            " 21  x_40      12306 non-null  float64\n",
            " 22  x_44      12306 non-null  float64\n",
            " 23  x_45      12306 non-null  float64\n",
            " 24  x_47      12306 non-null  float64\n",
            " 25  x_48      12306 non-null  float64\n",
            " 26  x_50      12306 non-null  float64\n",
            " 27  x_51      12306 non-null  float64\n",
            " 28  x_52      12306 non-null  float64\n",
            " 29  x_53      12306 non-null  float64\n",
            " 30  x_54      12306 non-null  float64\n",
            " 31  x_55      12306 non-null  float64\n",
            " 32  x_57      12306 non-null  float64\n",
            " 33  x_59      12306 non-null  float64\n",
            " 34  x_63      12306 non-null  float64\n",
            " 35  x_64      12306 non-null  float64\n",
            " 36  x_67      12306 non-null  float64\n",
            " 37  x_68      12306 non-null  float64\n",
            " 38  x_69      12306 non-null  float64\n",
            " 39  x_70      12306 non-null  float64\n",
            " 40  x_73      12306 non-null  float64\n",
            " 41  x_74      12306 non-null  float64\n",
            " 42  x_75      12306 non-null  float64\n",
            " 43  x_79      12306 non-null  float64\n",
            " 44  x_80      12306 non-null  float64\n",
            " 45  x_84      12306 non-null  float64\n",
            " 46  x_87      12306 non-null  float64\n",
            "dtypes: float64(46), int64(1)\n",
            "memory usage: 4.4 MB\n"
          ]
        }
      ]
    },
    {
      "cell_type": "code",
      "source": [],
      "metadata": {
        "id": "s3VnPqQWhRpo"
      },
      "id": "s3VnPqQWhRpo",
      "execution_count": 319,
      "outputs": []
    }
  ],
  "metadata": {
    "kernelspec": {
      "display_name": "Python 3",
      "language": "python",
      "name": "python3"
    },
    "language_info": {
      "codemirror_mode": {
        "name": "ipython",
        "version": 3
      },
      "file_extension": ".py",
      "mimetype": "text/x-python",
      "name": "python",
      "nbconvert_exporter": "python",
      "pygments_lexer": "ipython3",
      "version": "3.8.8"
    },
    "colab": {
      "provenance": []
    }
  },
  "nbformat": 4,
  "nbformat_minor": 5
}