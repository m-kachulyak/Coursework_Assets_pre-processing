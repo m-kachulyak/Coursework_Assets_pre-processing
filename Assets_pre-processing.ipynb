{
  "cells": [
    {
      "cell_type": "markdown",
      "source": [
        "# Установка пакетов/библиотек"
      ],
      "metadata": {
        "id": "0MPEFk22mh7h"
      },
      "id": "0MPEFk22mh7h"
    },
    {
      "cell_type": "code",
      "execution_count": 1,
      "id": "f55708a3",
      "metadata": {
        "id": "f55708a3"
      },
      "outputs": [],
      "source": [
        "import pandas as pd\n",
        "import numpy as np\n",
        "import seaborn as sns\n",
        "import matplotlib.pyplot as plt\n",
        "import warnings\n",
        "warnings.simplefilter(action='ignore', category=FutureWarning)\n",
        "\n",
        "from sklearn import metrics\n",
        "import time\n",
        "from sklearn.neighbors import KNeighborsClassifier\n",
        "from sklearn.model_selection import train_test_split\n",
        "from sklearn.decomposition import PCA\n",
        "from sklearn.preprocessing import StandardScaler"
      ]
    },
    {
      "cell_type": "code",
      "source": [
        "from google.colab import drive\n",
        "drive.mount('/content/drive')"
      ],
      "metadata": {
        "colab": {
          "base_uri": "https://localhost:8080/"
        },
        "id": "g6nL9ZnemL23",
        "outputId": "97789dbc-a421-4ee3-e156-5949a6ec3374"
      },
      "id": "g6nL9ZnemL23",
      "execution_count": 2,
      "outputs": [
        {
          "output_type": "stream",
          "name": "stdout",
          "text": [
            "Mounted at /content/drive\n"
          ]
        }
      ]
    },
    {
      "cell_type": "markdown",
      "source": [
        "# Аналитическая обработка данных"
      ],
      "metadata": {
        "id": "xkVodnuJmoQI"
      },
      "id": "xkVodnuJmoQI"
    },
    {
      "cell_type": "markdown",
      "source": [
        "* Целю данной работы является предварительный анализ и подготовка данных, предназначенных для дальнейшего решения задачи оценки активов того или иного предприятия или компании. В качестве модельного датасета были выбраны данные о банкротстве ряда компаний из Тайваньского экономического журнала за 2009–2019 годы.  Банкротство было определено на основе правил ведения бизнеса Тайваньской фондовой биржи. "
      ],
      "metadata": {
        "id": "a3dk0mvY89RJ"
      },
      "id": "a3dk0mvY89RJ"
    },
    {
      "cell_type": "markdown",
      "source": [
        "* Предварительная обработка данных – это процесс подготовки необработанных данных и придания им пригодности для модели машинного обучения.\n"
      ],
      "metadata": {
        "id": "O6lJZogd8ztG"
      },
      "id": "O6lJZogd8ztG"
    },
    {
      "cell_type": "code",
      "execution_count": 3,
      "id": "70c1593d",
      "metadata": {
        "id": "70c1593d"
      },
      "outputs": [],
      "source": [
        "df = pd.read_csv('/content/drive/MyDrive/Last Курсач/data.csv')\n",
        "df.columns = ['Bankrupt'] + ['X{}'.format(x) for x in range(1, len(df.columns))]"
      ]
    },
    {
      "cell_type": "code",
      "source": [
        "df.head()"
      ],
      "metadata": {
        "id": "awqmYUf9K34G",
        "colab": {
          "base_uri": "https://localhost:8080/",
          "height": 236
        },
        "outputId": "175d15bb-cf78-4373-fc87-84edae6290f1"
      },
      "id": "awqmYUf9K34G",
      "execution_count": 4,
      "outputs": [
        {
          "output_type": "execute_result",
          "data": {
            "text/plain": [
              "   Bankrupt        X1        X2        X3        X4        X5        X6  \\\n",
              "0         1  0.370594  0.424389  0.405750  0.601457  0.601457  0.998969   \n",
              "1         1  0.464291  0.538214  0.516730  0.610235  0.610235  0.998946   \n",
              "2         1  0.426071  0.499019  0.472295  0.601450  0.601364  0.998857   \n",
              "3         1  0.399844  0.451265  0.457733  0.583541  0.583541  0.998700   \n",
              "4         1  0.465022  0.538432  0.522298  0.598783  0.598783  0.998973   \n",
              "\n",
              "         X7        X8        X9  ...       X86       X87       X88       X89  \\\n",
              "0  0.796887  0.808809  0.302646  ...  0.716845  0.009219  0.622879  0.601453   \n",
              "1  0.797380  0.809301  0.303556  ...  0.795297  0.008323  0.623652  0.610237   \n",
              "2  0.796403  0.808388  0.302035  ...  0.774670  0.040003  0.623841  0.601449   \n",
              "3  0.796967  0.808966  0.303350  ...  0.739555  0.003252  0.622929  0.583538   \n",
              "4  0.797366  0.809304  0.303475  ...  0.795016  0.003878  0.623521  0.598782   \n",
              "\n",
              "        X90       X91       X92       X93  X94       X95  \n",
              "0  0.827890  0.290202  0.026601  0.564050    1  0.016469  \n",
              "1  0.839969  0.283846  0.264577  0.570175    1  0.020794  \n",
              "2  0.836774  0.290189  0.026555  0.563706    1  0.016474  \n",
              "3  0.834697  0.281721  0.026697  0.564663    1  0.023982  \n",
              "4  0.839973  0.278514  0.024752  0.575617    1  0.035490  \n",
              "\n",
              "[5 rows x 96 columns]"
            ],
            "text/html": [
              "\n",
              "  <div id=\"df-b6863c4a-acab-47d1-92ba-1608dafb58c9\">\n",
              "    <div class=\"colab-df-container\">\n",
              "      <div>\n",
              "<style scoped>\n",
              "    .dataframe tbody tr th:only-of-type {\n",
              "        vertical-align: middle;\n",
              "    }\n",
              "\n",
              "    .dataframe tbody tr th {\n",
              "        vertical-align: top;\n",
              "    }\n",
              "\n",
              "    .dataframe thead th {\n",
              "        text-align: right;\n",
              "    }\n",
              "</style>\n",
              "<table border=\"1\" class=\"dataframe\">\n",
              "  <thead>\n",
              "    <tr style=\"text-align: right;\">\n",
              "      <th></th>\n",
              "      <th>Bankrupt</th>\n",
              "      <th>X1</th>\n",
              "      <th>X2</th>\n",
              "      <th>X3</th>\n",
              "      <th>X4</th>\n",
              "      <th>X5</th>\n",
              "      <th>X6</th>\n",
              "      <th>X7</th>\n",
              "      <th>X8</th>\n",
              "      <th>X9</th>\n",
              "      <th>...</th>\n",
              "      <th>X86</th>\n",
              "      <th>X87</th>\n",
              "      <th>X88</th>\n",
              "      <th>X89</th>\n",
              "      <th>X90</th>\n",
              "      <th>X91</th>\n",
              "      <th>X92</th>\n",
              "      <th>X93</th>\n",
              "      <th>X94</th>\n",
              "      <th>X95</th>\n",
              "    </tr>\n",
              "  </thead>\n",
              "  <tbody>\n",
              "    <tr>\n",
              "      <th>0</th>\n",
              "      <td>1</td>\n",
              "      <td>0.370594</td>\n",
              "      <td>0.424389</td>\n",
              "      <td>0.405750</td>\n",
              "      <td>0.601457</td>\n",
              "      <td>0.601457</td>\n",
              "      <td>0.998969</td>\n",
              "      <td>0.796887</td>\n",
              "      <td>0.808809</td>\n",
              "      <td>0.302646</td>\n",
              "      <td>...</td>\n",
              "      <td>0.716845</td>\n",
              "      <td>0.009219</td>\n",
              "      <td>0.622879</td>\n",
              "      <td>0.601453</td>\n",
              "      <td>0.827890</td>\n",
              "      <td>0.290202</td>\n",
              "      <td>0.026601</td>\n",
              "      <td>0.564050</td>\n",
              "      <td>1</td>\n",
              "      <td>0.016469</td>\n",
              "    </tr>\n",
              "    <tr>\n",
              "      <th>1</th>\n",
              "      <td>1</td>\n",
              "      <td>0.464291</td>\n",
              "      <td>0.538214</td>\n",
              "      <td>0.516730</td>\n",
              "      <td>0.610235</td>\n",
              "      <td>0.610235</td>\n",
              "      <td>0.998946</td>\n",
              "      <td>0.797380</td>\n",
              "      <td>0.809301</td>\n",
              "      <td>0.303556</td>\n",
              "      <td>...</td>\n",
              "      <td>0.795297</td>\n",
              "      <td>0.008323</td>\n",
              "      <td>0.623652</td>\n",
              "      <td>0.610237</td>\n",
              "      <td>0.839969</td>\n",
              "      <td>0.283846</td>\n",
              "      <td>0.264577</td>\n",
              "      <td>0.570175</td>\n",
              "      <td>1</td>\n",
              "      <td>0.020794</td>\n",
              "    </tr>\n",
              "    <tr>\n",
              "      <th>2</th>\n",
              "      <td>1</td>\n",
              "      <td>0.426071</td>\n",
              "      <td>0.499019</td>\n",
              "      <td>0.472295</td>\n",
              "      <td>0.601450</td>\n",
              "      <td>0.601364</td>\n",
              "      <td>0.998857</td>\n",
              "      <td>0.796403</td>\n",
              "      <td>0.808388</td>\n",
              "      <td>0.302035</td>\n",
              "      <td>...</td>\n",
              "      <td>0.774670</td>\n",
              "      <td>0.040003</td>\n",
              "      <td>0.623841</td>\n",
              "      <td>0.601449</td>\n",
              "      <td>0.836774</td>\n",
              "      <td>0.290189</td>\n",
              "      <td>0.026555</td>\n",
              "      <td>0.563706</td>\n",
              "      <td>1</td>\n",
              "      <td>0.016474</td>\n",
              "    </tr>\n",
              "    <tr>\n",
              "      <th>3</th>\n",
              "      <td>1</td>\n",
              "      <td>0.399844</td>\n",
              "      <td>0.451265</td>\n",
              "      <td>0.457733</td>\n",
              "      <td>0.583541</td>\n",
              "      <td>0.583541</td>\n",
              "      <td>0.998700</td>\n",
              "      <td>0.796967</td>\n",
              "      <td>0.808966</td>\n",
              "      <td>0.303350</td>\n",
              "      <td>...</td>\n",
              "      <td>0.739555</td>\n",
              "      <td>0.003252</td>\n",
              "      <td>0.622929</td>\n",
              "      <td>0.583538</td>\n",
              "      <td>0.834697</td>\n",
              "      <td>0.281721</td>\n",
              "      <td>0.026697</td>\n",
              "      <td>0.564663</td>\n",
              "      <td>1</td>\n",
              "      <td>0.023982</td>\n",
              "    </tr>\n",
              "    <tr>\n",
              "      <th>4</th>\n",
              "      <td>1</td>\n",
              "      <td>0.465022</td>\n",
              "      <td>0.538432</td>\n",
              "      <td>0.522298</td>\n",
              "      <td>0.598783</td>\n",
              "      <td>0.598783</td>\n",
              "      <td>0.998973</td>\n",
              "      <td>0.797366</td>\n",
              "      <td>0.809304</td>\n",
              "      <td>0.303475</td>\n",
              "      <td>...</td>\n",
              "      <td>0.795016</td>\n",
              "      <td>0.003878</td>\n",
              "      <td>0.623521</td>\n",
              "      <td>0.598782</td>\n",
              "      <td>0.839973</td>\n",
              "      <td>0.278514</td>\n",
              "      <td>0.024752</td>\n",
              "      <td>0.575617</td>\n",
              "      <td>1</td>\n",
              "      <td>0.035490</td>\n",
              "    </tr>\n",
              "  </tbody>\n",
              "</table>\n",
              "<p>5 rows × 96 columns</p>\n",
              "</div>\n",
              "      <button class=\"colab-df-convert\" onclick=\"convertToInteractive('df-b6863c4a-acab-47d1-92ba-1608dafb58c9')\"\n",
              "              title=\"Convert this dataframe to an interactive table.\"\n",
              "              style=\"display:none;\">\n",
              "        \n",
              "  <svg xmlns=\"http://www.w3.org/2000/svg\" height=\"24px\"viewBox=\"0 0 24 24\"\n",
              "       width=\"24px\">\n",
              "    <path d=\"M0 0h24v24H0V0z\" fill=\"none\"/>\n",
              "    <path d=\"M18.56 5.44l.94 2.06.94-2.06 2.06-.94-2.06-.94-.94-2.06-.94 2.06-2.06.94zm-11 1L8.5 8.5l.94-2.06 2.06-.94-2.06-.94L8.5 2.5l-.94 2.06-2.06.94zm10 10l.94 2.06.94-2.06 2.06-.94-2.06-.94-.94-2.06-.94 2.06-2.06.94z\"/><path d=\"M17.41 7.96l-1.37-1.37c-.4-.4-.92-.59-1.43-.59-.52 0-1.04.2-1.43.59L10.3 9.45l-7.72 7.72c-.78.78-.78 2.05 0 2.83L4 21.41c.39.39.9.59 1.41.59.51 0 1.02-.2 1.41-.59l7.78-7.78 2.81-2.81c.8-.78.8-2.07 0-2.86zM5.41 20L4 18.59l7.72-7.72 1.47 1.35L5.41 20z\"/>\n",
              "  </svg>\n",
              "      </button>\n",
              "      \n",
              "  <style>\n",
              "    .colab-df-container {\n",
              "      display:flex;\n",
              "      flex-wrap:wrap;\n",
              "      gap: 12px;\n",
              "    }\n",
              "\n",
              "    .colab-df-convert {\n",
              "      background-color: #E8F0FE;\n",
              "      border: none;\n",
              "      border-radius: 50%;\n",
              "      cursor: pointer;\n",
              "      display: none;\n",
              "      fill: #1967D2;\n",
              "      height: 32px;\n",
              "      padding: 0 0 0 0;\n",
              "      width: 32px;\n",
              "    }\n",
              "\n",
              "    .colab-df-convert:hover {\n",
              "      background-color: #E2EBFA;\n",
              "      box-shadow: 0px 1px 2px rgba(60, 64, 67, 0.3), 0px 1px 3px 1px rgba(60, 64, 67, 0.15);\n",
              "      fill: #174EA6;\n",
              "    }\n",
              "\n",
              "    [theme=dark] .colab-df-convert {\n",
              "      background-color: #3B4455;\n",
              "      fill: #D2E3FC;\n",
              "    }\n",
              "\n",
              "    [theme=dark] .colab-df-convert:hover {\n",
              "      background-color: #434B5C;\n",
              "      box-shadow: 0px 1px 3px 1px rgba(0, 0, 0, 0.15);\n",
              "      filter: drop-shadow(0px 1px 2px rgba(0, 0, 0, 0.3));\n",
              "      fill: #FFFFFF;\n",
              "    }\n",
              "  </style>\n",
              "\n",
              "      <script>\n",
              "        const buttonEl =\n",
              "          document.querySelector('#df-b6863c4a-acab-47d1-92ba-1608dafb58c9 button.colab-df-convert');\n",
              "        buttonEl.style.display =\n",
              "          google.colab.kernel.accessAllowed ? 'block' : 'none';\n",
              "\n",
              "        async function convertToInteractive(key) {\n",
              "          const element = document.querySelector('#df-b6863c4a-acab-47d1-92ba-1608dafb58c9');\n",
              "          const dataTable =\n",
              "            await google.colab.kernel.invokeFunction('convertToInteractive',\n",
              "                                                     [key], {});\n",
              "          if (!dataTable) return;\n",
              "\n",
              "          const docLinkHtml = 'Like what you see? Visit the ' +\n",
              "            '<a target=\"_blank\" href=https://colab.research.google.com/notebooks/data_table.ipynb>data table notebook</a>'\n",
              "            + ' to learn more about interactive tables.';\n",
              "          element.innerHTML = '';\n",
              "          dataTable['output_type'] = 'display_data';\n",
              "          await google.colab.output.renderOutput(dataTable, element);\n",
              "          const docLink = document.createElement('div');\n",
              "          docLink.innerHTML = docLinkHtml;\n",
              "          element.appendChild(docLink);\n",
              "        }\n",
              "      </script>\n",
              "    </div>\n",
              "  </div>\n",
              "  "
            ]
          },
          "metadata": {},
          "execution_count": 4
        }
      ]
    },
    {
      "cell_type": "markdown",
      "source": [
        "## 1. Первичная проверка точности модели\n",
        "\n",
        "Как уже было упомянуто, в качестве примера для решения задачи оценки активов была выбрана задача по прогнозированию банкротства компании – присвоение ряду данных признака «банкрот» или «не банкрот», что является классификацией. \n",
        "\n",
        "Зачастую, для оценки модели используется базовая метрика Accuracy, которая определяет соотношение всех правильно предсказанных категорий к общему количеству всех предсказаний. Но непосредственно для задачи классификации важны и такие метрики, как Recall, Precision и F1."
      ],
      "metadata": {
        "id": "btK5R5ChhTz9"
      },
      "id": "btK5R5ChhTz9"
    },
    {
      "cell_type": "code",
      "source": [
        "reg,acc,rec,F1,prec,t = [], [], [], [], [], []\n",
        "\n",
        "def make_model(df, name = ''):\n",
        "  results = pd.DataFrame(columns = ['stage'])\n",
        "  X = df.drop(['Bankrupt'], axis = 1)\n",
        "  y = df.Bankrupt\n",
        "  x_train, x_test, y_train, y_test = train_test_split(X, y, test_size = 0.2)\n",
        "\n",
        "  KNC = KNeighborsClassifier()\n",
        "  start_time = time.time()\n",
        "  KNC.fit(x_train, y_train)\n",
        "  y_pred = KNC.predict(x_test)\n",
        "  \n",
        "  t.append(time.time() - start_time)\n",
        "  reg.append(name)\n",
        "  acc.append(metrics.accuracy_score(y_test, y_pred))\n",
        "  prec.append(metrics.precision_score(y_test, y_pred, average=\"macro\"))\n",
        "  rec.append(metrics.recall_score(y_test, y_pred, average=\"macro\"))\n",
        "  F1.append(metrics.f1_score(y_test, y_pred, average=\"macro\"))\n",
        "\n",
        "  results['stage'] = reg\n",
        "  results['accuracy_to_max'] = acc\n",
        "  results['recall_to_max'] = rec\n",
        "  results['F1_to_max'] = F1\n",
        "  results['precision_to_min'] = prec\n",
        "  results['time'] = t\n",
        "  return results\n"
      ],
      "metadata": {
        "id": "9cP0FIFchbsX"
      },
      "id": "9cP0FIFchbsX",
      "execution_count": 5,
      "outputs": []
    },
    {
      "cell_type": "markdown",
      "source": [
        "\n",
        "\n",
        "\n",
        "---\n",
        "\n",
        "\n",
        "В представленной для решения задаче оценки активов компаний для нас важно не упустить банкрота и ложно не присвоить ему признак финансово успешной компании. А значит, что **бо’льшее количество ложно-положительных (False Positives)** предсказаний модели будет предпочтительнее бо’льшего числа ложно-отрицательных (False Negatives). Из чего следует, что вместе с высоким значением Accuracy и F1 следует добиваться превалирования Recall над Precision.\n",
        "\n",
        "---\n",
        "\n"
      ],
      "metadata": {
        "id": "aAAIm-UH9R7z"
      },
      "id": "aAAIm-UH9R7z"
    },
    {
      "cell_type": "code",
      "source": [
        "make_model(df, name = 'Исходные данные')"
      ],
      "metadata": {
        "colab": {
          "base_uri": "https://localhost:8080/",
          "height": 81
        },
        "id": "wqnnSY7Khbu9",
        "outputId": "4fa2a9e7-bd81-4b3b-a3b3-9b7772725519"
      },
      "id": "wqnnSY7Khbu9",
      "execution_count": 6,
      "outputs": [
        {
          "output_type": "execute_result",
          "data": {
            "text/plain": [
              "             stage  accuracy_to_max  recall_to_max  F1_to_max  \\\n",
              "0  Исходные данные         0.964809       0.510037   0.511038   \n",
              "\n",
              "   precision_to_min      time  \n",
              "0          0.732746  0.527067  "
            ],
            "text/html": [
              "\n",
              "  <div id=\"df-2a86b605-1181-46ab-9822-133dd1898307\">\n",
              "    <div class=\"colab-df-container\">\n",
              "      <div>\n",
              "<style scoped>\n",
              "    .dataframe tbody tr th:only-of-type {\n",
              "        vertical-align: middle;\n",
              "    }\n",
              "\n",
              "    .dataframe tbody tr th {\n",
              "        vertical-align: top;\n",
              "    }\n",
              "\n",
              "    .dataframe thead th {\n",
              "        text-align: right;\n",
              "    }\n",
              "</style>\n",
              "<table border=\"1\" class=\"dataframe\">\n",
              "  <thead>\n",
              "    <tr style=\"text-align: right;\">\n",
              "      <th></th>\n",
              "      <th>stage</th>\n",
              "      <th>accuracy_to_max</th>\n",
              "      <th>recall_to_max</th>\n",
              "      <th>F1_to_max</th>\n",
              "      <th>precision_to_min</th>\n",
              "      <th>time</th>\n",
              "    </tr>\n",
              "  </thead>\n",
              "  <tbody>\n",
              "    <tr>\n",
              "      <th>0</th>\n",
              "      <td>Исходные данные</td>\n",
              "      <td>0.964809</td>\n",
              "      <td>0.510037</td>\n",
              "      <td>0.511038</td>\n",
              "      <td>0.732746</td>\n",
              "      <td>0.527067</td>\n",
              "    </tr>\n",
              "  </tbody>\n",
              "</table>\n",
              "</div>\n",
              "      <button class=\"colab-df-convert\" onclick=\"convertToInteractive('df-2a86b605-1181-46ab-9822-133dd1898307')\"\n",
              "              title=\"Convert this dataframe to an interactive table.\"\n",
              "              style=\"display:none;\">\n",
              "        \n",
              "  <svg xmlns=\"http://www.w3.org/2000/svg\" height=\"24px\"viewBox=\"0 0 24 24\"\n",
              "       width=\"24px\">\n",
              "    <path d=\"M0 0h24v24H0V0z\" fill=\"none\"/>\n",
              "    <path d=\"M18.56 5.44l.94 2.06.94-2.06 2.06-.94-2.06-.94-.94-2.06-.94 2.06-2.06.94zm-11 1L8.5 8.5l.94-2.06 2.06-.94-2.06-.94L8.5 2.5l-.94 2.06-2.06.94zm10 10l.94 2.06.94-2.06 2.06-.94-2.06-.94-.94-2.06-.94 2.06-2.06.94z\"/><path d=\"M17.41 7.96l-1.37-1.37c-.4-.4-.92-.59-1.43-.59-.52 0-1.04.2-1.43.59L10.3 9.45l-7.72 7.72c-.78.78-.78 2.05 0 2.83L4 21.41c.39.39.9.59 1.41.59.51 0 1.02-.2 1.41-.59l7.78-7.78 2.81-2.81c.8-.78.8-2.07 0-2.86zM5.41 20L4 18.59l7.72-7.72 1.47 1.35L5.41 20z\"/>\n",
              "  </svg>\n",
              "      </button>\n",
              "      \n",
              "  <style>\n",
              "    .colab-df-container {\n",
              "      display:flex;\n",
              "      flex-wrap:wrap;\n",
              "      gap: 12px;\n",
              "    }\n",
              "\n",
              "    .colab-df-convert {\n",
              "      background-color: #E8F0FE;\n",
              "      border: none;\n",
              "      border-radius: 50%;\n",
              "      cursor: pointer;\n",
              "      display: none;\n",
              "      fill: #1967D2;\n",
              "      height: 32px;\n",
              "      padding: 0 0 0 0;\n",
              "      width: 32px;\n",
              "    }\n",
              "\n",
              "    .colab-df-convert:hover {\n",
              "      background-color: #E2EBFA;\n",
              "      box-shadow: 0px 1px 2px rgba(60, 64, 67, 0.3), 0px 1px 3px 1px rgba(60, 64, 67, 0.15);\n",
              "      fill: #174EA6;\n",
              "    }\n",
              "\n",
              "    [theme=dark] .colab-df-convert {\n",
              "      background-color: #3B4455;\n",
              "      fill: #D2E3FC;\n",
              "    }\n",
              "\n",
              "    [theme=dark] .colab-df-convert:hover {\n",
              "      background-color: #434B5C;\n",
              "      box-shadow: 0px 1px 3px 1px rgba(0, 0, 0, 0.15);\n",
              "      filter: drop-shadow(0px 1px 2px rgba(0, 0, 0, 0.3));\n",
              "      fill: #FFFFFF;\n",
              "    }\n",
              "  </style>\n",
              "\n",
              "      <script>\n",
              "        const buttonEl =\n",
              "          document.querySelector('#df-2a86b605-1181-46ab-9822-133dd1898307 button.colab-df-convert');\n",
              "        buttonEl.style.display =\n",
              "          google.colab.kernel.accessAllowed ? 'block' : 'none';\n",
              "\n",
              "        async function convertToInteractive(key) {\n",
              "          const element = document.querySelector('#df-2a86b605-1181-46ab-9822-133dd1898307');\n",
              "          const dataTable =\n",
              "            await google.colab.kernel.invokeFunction('convertToInteractive',\n",
              "                                                     [key], {});\n",
              "          if (!dataTable) return;\n",
              "\n",
              "          const docLinkHtml = 'Like what you see? Visit the ' +\n",
              "            '<a target=\"_blank\" href=https://colab.research.google.com/notebooks/data_table.ipynb>data table notebook</a>'\n",
              "            + ' to learn more about interactive tables.';\n",
              "          element.innerHTML = '';\n",
              "          dataTable['output_type'] = 'display_data';\n",
              "          await google.colab.output.renderOutput(dataTable, element);\n",
              "          const docLink = document.createElement('div');\n",
              "          docLink.innerHTML = docLinkHtml;\n",
              "          element.appendChild(docLink);\n",
              "        }\n",
              "      </script>\n",
              "    </div>\n",
              "  </div>\n",
              "  "
            ]
          },
          "metadata": {},
          "execution_count": 6
        }
      ]
    },
    {
      "cell_type": "markdown",
      "id": "a901aa13",
      "metadata": {
        "id": "a901aa13"
      },
      "source": [
        "## 2. Описательная статистика: размер, типы переменных, пустые значения, уникальные имена и дубликаты"
      ]
    },
    {
      "cell_type": "markdown",
      "source": [
        "\n",
        "\n",
        "*   **Целевая переменная** - статус компании (банкрот/ не банкрот)\n",
        "*   **Основная задача** - классификация\n",
        "\n",
        "\n",
        "\n",
        "---\n",
        "Реальные данные часто являются неполными, непоследовательными, им не хватает определенного поведения или тенденций и, вероятно, содержат много ошибок. Чтобы лучше визуализировать и извлечь скрытый шаблон, необходимо выполнить предварительную обработку данных.\n",
        "\n",
        "\n",
        "---\n",
        "\n",
        "Рассмотрим ряд базовых наиболее эффективных приемов при работе с данными:\n",
        "\n"
      ],
      "metadata": {
        "id": "dufM0U_VK7OO"
      },
      "id": "dufM0U_VK7OO"
    },
    {
      "cell_type": "code",
      "execution_count": 7,
      "id": "57f596ed",
      "metadata": {
        "colab": {
          "base_uri": "https://localhost:8080/"
        },
        "id": "57f596ed",
        "outputId": "48c4f428-aa4f-44f7-f89d-ce5ded75296a"
      },
      "outputs": [
        {
          "output_type": "execute_result",
          "data": {
            "text/plain": [
              "(6819, 96)"
            ]
          },
          "metadata": {},
          "execution_count": 7
        }
      ],
      "source": [
        "df.shape # размер"
      ]
    },
    {
      "cell_type": "code",
      "execution_count": 8,
      "id": "00f8315f",
      "metadata": {
        "collapsed": true,
        "id": "00f8315f"
      },
      "outputs": [],
      "source": [
        "#df.info() # информация о типе данных и количестве пропусков"
      ]
    },
    {
      "cell_type": "code",
      "source": [
        "def nulls_table(df):        # проверка количества пропусков\n",
        "  gg = df.isnull().sum()/len(df)*100\n",
        "  dd = pd.DataFrame({'column':gg.index, 'nulls_%': gg.values}).sort_values(by = 'nulls_%', ascending=False)\n",
        "  return dd[dd['nulls_%']>0]\n",
        "\n",
        "nulls_table(df)"
      ],
      "metadata": {
        "colab": {
          "base_uri": "https://localhost:8080/",
          "height": 49
        },
        "id": "T5A2AWO_vq8c",
        "outputId": "e2bb10f8-bee6-4037-e25f-55666de39980"
      },
      "id": "T5A2AWO_vq8c",
      "execution_count": 9,
      "outputs": [
        {
          "output_type": "execute_result",
          "data": {
            "text/plain": [
              "Empty DataFrame\n",
              "Columns: [column, nulls_%]\n",
              "Index: []"
            ],
            "text/html": [
              "\n",
              "  <div id=\"df-2ffef1c3-8f27-4292-a290-cf64b163e3b7\">\n",
              "    <div class=\"colab-df-container\">\n",
              "      <div>\n",
              "<style scoped>\n",
              "    .dataframe tbody tr th:only-of-type {\n",
              "        vertical-align: middle;\n",
              "    }\n",
              "\n",
              "    .dataframe tbody tr th {\n",
              "        vertical-align: top;\n",
              "    }\n",
              "\n",
              "    .dataframe thead th {\n",
              "        text-align: right;\n",
              "    }\n",
              "</style>\n",
              "<table border=\"1\" class=\"dataframe\">\n",
              "  <thead>\n",
              "    <tr style=\"text-align: right;\">\n",
              "      <th></th>\n",
              "      <th>column</th>\n",
              "      <th>nulls_%</th>\n",
              "    </tr>\n",
              "  </thead>\n",
              "  <tbody>\n",
              "  </tbody>\n",
              "</table>\n",
              "</div>\n",
              "      <button class=\"colab-df-convert\" onclick=\"convertToInteractive('df-2ffef1c3-8f27-4292-a290-cf64b163e3b7')\"\n",
              "              title=\"Convert this dataframe to an interactive table.\"\n",
              "              style=\"display:none;\">\n",
              "        \n",
              "  <svg xmlns=\"http://www.w3.org/2000/svg\" height=\"24px\"viewBox=\"0 0 24 24\"\n",
              "       width=\"24px\">\n",
              "    <path d=\"M0 0h24v24H0V0z\" fill=\"none\"/>\n",
              "    <path d=\"M18.56 5.44l.94 2.06.94-2.06 2.06-.94-2.06-.94-.94-2.06-.94 2.06-2.06.94zm-11 1L8.5 8.5l.94-2.06 2.06-.94-2.06-.94L8.5 2.5l-.94 2.06-2.06.94zm10 10l.94 2.06.94-2.06 2.06-.94-2.06-.94-.94-2.06-.94 2.06-2.06.94z\"/><path d=\"M17.41 7.96l-1.37-1.37c-.4-.4-.92-.59-1.43-.59-.52 0-1.04.2-1.43.59L10.3 9.45l-7.72 7.72c-.78.78-.78 2.05 0 2.83L4 21.41c.39.39.9.59 1.41.59.51 0 1.02-.2 1.41-.59l7.78-7.78 2.81-2.81c.8-.78.8-2.07 0-2.86zM5.41 20L4 18.59l7.72-7.72 1.47 1.35L5.41 20z\"/>\n",
              "  </svg>\n",
              "      </button>\n",
              "      \n",
              "  <style>\n",
              "    .colab-df-container {\n",
              "      display:flex;\n",
              "      flex-wrap:wrap;\n",
              "      gap: 12px;\n",
              "    }\n",
              "\n",
              "    .colab-df-convert {\n",
              "      background-color: #E8F0FE;\n",
              "      border: none;\n",
              "      border-radius: 50%;\n",
              "      cursor: pointer;\n",
              "      display: none;\n",
              "      fill: #1967D2;\n",
              "      height: 32px;\n",
              "      padding: 0 0 0 0;\n",
              "      width: 32px;\n",
              "    }\n",
              "\n",
              "    .colab-df-convert:hover {\n",
              "      background-color: #E2EBFA;\n",
              "      box-shadow: 0px 1px 2px rgba(60, 64, 67, 0.3), 0px 1px 3px 1px rgba(60, 64, 67, 0.15);\n",
              "      fill: #174EA6;\n",
              "    }\n",
              "\n",
              "    [theme=dark] .colab-df-convert {\n",
              "      background-color: #3B4455;\n",
              "      fill: #D2E3FC;\n",
              "    }\n",
              "\n",
              "    [theme=dark] .colab-df-convert:hover {\n",
              "      background-color: #434B5C;\n",
              "      box-shadow: 0px 1px 3px 1px rgba(0, 0, 0, 0.15);\n",
              "      filter: drop-shadow(0px 1px 2px rgba(0, 0, 0, 0.3));\n",
              "      fill: #FFFFFF;\n",
              "    }\n",
              "  </style>\n",
              "\n",
              "      <script>\n",
              "        const buttonEl =\n",
              "          document.querySelector('#df-2ffef1c3-8f27-4292-a290-cf64b163e3b7 button.colab-df-convert');\n",
              "        buttonEl.style.display =\n",
              "          google.colab.kernel.accessAllowed ? 'block' : 'none';\n",
              "\n",
              "        async function convertToInteractive(key) {\n",
              "          const element = document.querySelector('#df-2ffef1c3-8f27-4292-a290-cf64b163e3b7');\n",
              "          const dataTable =\n",
              "            await google.colab.kernel.invokeFunction('convertToInteractive',\n",
              "                                                     [key], {});\n",
              "          if (!dataTable) return;\n",
              "\n",
              "          const docLinkHtml = 'Like what you see? Visit the ' +\n",
              "            '<a target=\"_blank\" href=https://colab.research.google.com/notebooks/data_table.ipynb>data table notebook</a>'\n",
              "            + ' to learn more about interactive tables.';\n",
              "          element.innerHTML = '';\n",
              "          dataTable['output_type'] = 'display_data';\n",
              "          await google.colab.output.renderOutput(dataTable, element);\n",
              "          const docLink = document.createElement('div');\n",
              "          docLink.innerHTML = docLinkHtml;\n",
              "          element.appendChild(docLink);\n",
              "        }\n",
              "      </script>\n",
              "    </div>\n",
              "  </div>\n",
              "  "
            ]
          },
          "metadata": {},
          "execution_count": 9
        }
      ]
    },
    {
      "cell_type": "markdown",
      "source": [
        "При наличии недостающих значений мы использовали бы их замену на среднее значение (в случае с числовыми данными) или медиану (для категориальных переменных)"
      ],
      "metadata": {
        "id": "kGCjpPJF-Fec"
      },
      "id": "kGCjpPJF-Fec"
    },
    {
      "cell_type": "code",
      "execution_count": 10,
      "id": "51de9fc3",
      "metadata": {
        "colab": {
          "base_uri": "https://localhost:8080/"
        },
        "id": "51de9fc3",
        "outputId": "33f18d66-b7e1-4330-e162-cb43861061be"
      },
      "outputs": [
        {
          "output_type": "execute_result",
          "data": {
            "text/plain": [
              "0"
            ]
          },
          "metadata": {},
          "execution_count": 10
        }
      ],
      "source": [
        "df.duplicated().sum() # наличие дубликатов"
      ]
    },
    {
      "cell_type": "code",
      "execution_count": 11,
      "id": "4e5f6593",
      "metadata": {
        "colab": {
          "base_uri": "https://localhost:8080/"
        },
        "id": "4e5f6593",
        "outputId": "894ee17a-6855-4e6d-b7d9-5ea027130567"
      },
      "outputs": [
        {
          "output_type": "execute_result",
          "data": {
            "text/plain": [
              "['X94']"
            ]
          },
          "metadata": {},
          "execution_count": 11
        }
      ],
      "source": [
        "# Удаление неинформативных признаков с помощью поиска уникальных значений\n",
        "to_del = []\n",
        "for col in df.columns:\n",
        "  if len(df[col].unique()) == 1:\n",
        "    to_del.append(col)\n",
        "\n",
        "to_del"
      ]
    },
    {
      "cell_type": "code",
      "source": [
        "df = df.drop(to_del, axis = 1)"
      ],
      "metadata": {
        "id": "I1G4lXKfytpP"
      },
      "id": "I1G4lXKfytpP",
      "execution_count": 12,
      "outputs": []
    },
    {
      "cell_type": "code",
      "source": [
        "make_model(df, name = '-первичная обработка')"
      ],
      "metadata": {
        "colab": {
          "base_uri": "https://localhost:8080/",
          "height": 112
        },
        "id": "PFXFW2erbQAt",
        "outputId": "ccfcd2ca-9511-46a8-c732-2bec37064fd5"
      },
      "id": "PFXFW2erbQAt",
      "execution_count": 13,
      "outputs": [
        {
          "output_type": "execute_result",
          "data": {
            "text/plain": [
              "                  stage  accuracy_to_max  recall_to_max  F1_to_max  \\\n",
              "0       Исходные данные         0.964809       0.510037   0.511038   \n",
              "1  -первичная обработка         0.969208       0.511439   0.514903   \n",
              "\n",
              "   precision_to_min      time  \n",
              "0          0.732746  0.527067  \n",
              "1          0.651972  0.272950  "
            ],
            "text/html": [
              "\n",
              "  <div id=\"df-8596cab8-465d-42af-bab3-86fc1819440b\">\n",
              "    <div class=\"colab-df-container\">\n",
              "      <div>\n",
              "<style scoped>\n",
              "    .dataframe tbody tr th:only-of-type {\n",
              "        vertical-align: middle;\n",
              "    }\n",
              "\n",
              "    .dataframe tbody tr th {\n",
              "        vertical-align: top;\n",
              "    }\n",
              "\n",
              "    .dataframe thead th {\n",
              "        text-align: right;\n",
              "    }\n",
              "</style>\n",
              "<table border=\"1\" class=\"dataframe\">\n",
              "  <thead>\n",
              "    <tr style=\"text-align: right;\">\n",
              "      <th></th>\n",
              "      <th>stage</th>\n",
              "      <th>accuracy_to_max</th>\n",
              "      <th>recall_to_max</th>\n",
              "      <th>F1_to_max</th>\n",
              "      <th>precision_to_min</th>\n",
              "      <th>time</th>\n",
              "    </tr>\n",
              "  </thead>\n",
              "  <tbody>\n",
              "    <tr>\n",
              "      <th>0</th>\n",
              "      <td>Исходные данные</td>\n",
              "      <td>0.964809</td>\n",
              "      <td>0.510037</td>\n",
              "      <td>0.511038</td>\n",
              "      <td>0.732746</td>\n",
              "      <td>0.527067</td>\n",
              "    </tr>\n",
              "    <tr>\n",
              "      <th>1</th>\n",
              "      <td>-первичная обработка</td>\n",
              "      <td>0.969208</td>\n",
              "      <td>0.511439</td>\n",
              "      <td>0.514903</td>\n",
              "      <td>0.651972</td>\n",
              "      <td>0.272950</td>\n",
              "    </tr>\n",
              "  </tbody>\n",
              "</table>\n",
              "</div>\n",
              "      <button class=\"colab-df-convert\" onclick=\"convertToInteractive('df-8596cab8-465d-42af-bab3-86fc1819440b')\"\n",
              "              title=\"Convert this dataframe to an interactive table.\"\n",
              "              style=\"display:none;\">\n",
              "        \n",
              "  <svg xmlns=\"http://www.w3.org/2000/svg\" height=\"24px\"viewBox=\"0 0 24 24\"\n",
              "       width=\"24px\">\n",
              "    <path d=\"M0 0h24v24H0V0z\" fill=\"none\"/>\n",
              "    <path d=\"M18.56 5.44l.94 2.06.94-2.06 2.06-.94-2.06-.94-.94-2.06-.94 2.06-2.06.94zm-11 1L8.5 8.5l.94-2.06 2.06-.94-2.06-.94L8.5 2.5l-.94 2.06-2.06.94zm10 10l.94 2.06.94-2.06 2.06-.94-2.06-.94-.94-2.06-.94 2.06-2.06.94z\"/><path d=\"M17.41 7.96l-1.37-1.37c-.4-.4-.92-.59-1.43-.59-.52 0-1.04.2-1.43.59L10.3 9.45l-7.72 7.72c-.78.78-.78 2.05 0 2.83L4 21.41c.39.39.9.59 1.41.59.51 0 1.02-.2 1.41-.59l7.78-7.78 2.81-2.81c.8-.78.8-2.07 0-2.86zM5.41 20L4 18.59l7.72-7.72 1.47 1.35L5.41 20z\"/>\n",
              "  </svg>\n",
              "      </button>\n",
              "      \n",
              "  <style>\n",
              "    .colab-df-container {\n",
              "      display:flex;\n",
              "      flex-wrap:wrap;\n",
              "      gap: 12px;\n",
              "    }\n",
              "\n",
              "    .colab-df-convert {\n",
              "      background-color: #E8F0FE;\n",
              "      border: none;\n",
              "      border-radius: 50%;\n",
              "      cursor: pointer;\n",
              "      display: none;\n",
              "      fill: #1967D2;\n",
              "      height: 32px;\n",
              "      padding: 0 0 0 0;\n",
              "      width: 32px;\n",
              "    }\n",
              "\n",
              "    .colab-df-convert:hover {\n",
              "      background-color: #E2EBFA;\n",
              "      box-shadow: 0px 1px 2px rgba(60, 64, 67, 0.3), 0px 1px 3px 1px rgba(60, 64, 67, 0.15);\n",
              "      fill: #174EA6;\n",
              "    }\n",
              "\n",
              "    [theme=dark] .colab-df-convert {\n",
              "      background-color: #3B4455;\n",
              "      fill: #D2E3FC;\n",
              "    }\n",
              "\n",
              "    [theme=dark] .colab-df-convert:hover {\n",
              "      background-color: #434B5C;\n",
              "      box-shadow: 0px 1px 3px 1px rgba(0, 0, 0, 0.15);\n",
              "      filter: drop-shadow(0px 1px 2px rgba(0, 0, 0, 0.3));\n",
              "      fill: #FFFFFF;\n",
              "    }\n",
              "  </style>\n",
              "\n",
              "      <script>\n",
              "        const buttonEl =\n",
              "          document.querySelector('#df-8596cab8-465d-42af-bab3-86fc1819440b button.colab-df-convert');\n",
              "        buttonEl.style.display =\n",
              "          google.colab.kernel.accessAllowed ? 'block' : 'none';\n",
              "\n",
              "        async function convertToInteractive(key) {\n",
              "          const element = document.querySelector('#df-8596cab8-465d-42af-bab3-86fc1819440b');\n",
              "          const dataTable =\n",
              "            await google.colab.kernel.invokeFunction('convertToInteractive',\n",
              "                                                     [key], {});\n",
              "          if (!dataTable) return;\n",
              "\n",
              "          const docLinkHtml = 'Like what you see? Visit the ' +\n",
              "            '<a target=\"_blank\" href=https://colab.research.google.com/notebooks/data_table.ipynb>data table notebook</a>'\n",
              "            + ' to learn more about interactive tables.';\n",
              "          element.innerHTML = '';\n",
              "          dataTable['output_type'] = 'display_data';\n",
              "          await google.colab.output.renderOutput(dataTable, element);\n",
              "          const docLink = document.createElement('div');\n",
              "          docLink.innerHTML = docLinkHtml;\n",
              "          element.appendChild(docLink);\n",
              "        }\n",
              "      </script>\n",
              "    </div>\n",
              "  </div>\n",
              "  "
            ]
          },
          "metadata": {},
          "execution_count": 13
        }
      ]
    },
    {
      "cell_type": "markdown",
      "source": [
        "Accuracy выше 90% и, кажется, что при построении модели без какой-либо первичной обработки мы получили, относительно, неплохую модель. Однако, метрики Recall и F1, которые являются ключевыми для нашей задачи, не говорят о высокой точности. "
      ],
      "metadata": {
        "id": "eoPRVw5N-RK8"
      },
      "id": "eoPRVw5N-RK8"
    },
    {
      "cell_type": "markdown",
      "id": "b18da7c9",
      "metadata": {
        "id": "b18da7c9"
      },
      "source": [
        "## Сбалансированность данных\n",
        "\n",
        "Учитывая задачу проекта, и теперь, когда у наc есть общий обзор наших данных, необходимо cоcредоточить внимание на признаке, который мы планируем предcказывать, а именно, определить какое количеcтво компаний является финанcово cтабильными и неcтабильными. Построим гистограмму по прогнозируемому признаку и оценим согласованность данных."
      ]
    },
    {
      "cell_type": "code",
      "execution_count": 14,
      "id": "0e2f085f",
      "metadata": {
        "colab": {
          "base_uri": "https://localhost:8080/"
        },
        "id": "0e2f085f",
        "outputId": "eed76ac6-3fe6-4190-9694-2bc554155423"
      },
      "outputs": [
        {
          "output_type": "stream",
          "name": "stdout",
          "text": [
            "0    6599\n",
            "1     220\n",
            "Name: Bankrupt, dtype: int64\n",
            "------------------------------\n",
            "Финансово стабильные компании:  96.77 % от данных\n",
            "Финансово не стабильные компании:  3.23 % от данных\n"
          ]
        }
      ],
      "source": [
        "print(df['Bankrupt'].value_counts())\n",
        "print('-'* 30)\n",
        "print('Финансово стабильные компании: ', round(df['Bankrupt'].value_counts()[0]/len(df) * 100, 2), '% от данных')\n",
        "print('Финансово не стабильные компании: ', round(df['Bankrupt'].value_counts()[1]/len(df) * 100, 2), '% от данных')"
      ]
    },
    {
      "cell_type": "code",
      "execution_count": 15,
      "id": "f485039d",
      "metadata": {
        "id": "f485039d",
        "colab": {
          "base_uri": "https://localhost:8080/",
          "height": 368
        },
        "outputId": "5c1fe231-cde9-453e-8ef8-08f211174a8d"
      },
      "outputs": [
        {
          "output_type": "display_data",
          "data": {
            "text/plain": [
              "<Figure size 720x360 with 1 Axes>"
            ],
            "image/png": "[encoded data removed]"
          },
          "metadata": {}
        }
      ],
      "source": [
        "sns.set_theme(context = 'paper')\n",
        "plt.figure(figsize = (10,5))\n",
        "sns.countplot(df['Bankrupt'])\n",
        "plt.title('Class Distributions \\n (0: Fin. Stable || 1: Fin. Unstable)', fontsize=14)\n",
        "plt.show()"
      ]
    },
    {
      "cell_type": "markdown",
      "source": [
        "Замечаем, что реальные данные плохо сбалансированы (96.77 % финансово стабильных компаний против 3.23 % банкротов). Это означает, что при решении задачи регрессии модель будет наивно предсказывать класс большинства, а значит, в дальнейшем, данную ситуацию следует обязательно предотвратить."
      ],
      "metadata": {
        "id": "AMiLEOADIvt3"
      },
      "id": "AMiLEOADIvt3"
    },
    {
      "cell_type": "markdown",
      "source": [
        "## 3. Удаление выбросов\n",
        "\n",
        "Визуально оценим отклонения в рядах данных всех имеющихся признаков с помощью построения гистограмм и боксплотов:"
      ],
      "metadata": {
        "id": "hUcfc3ommzMA"
      },
      "id": "hUcfc3ommzMA"
    },
    {
      "cell_type": "code",
      "source": [
        "df.hist(figsize = (35,30), bins = 100)\n",
        "plt.show() # Гистрограммы признаков"
      ],
      "metadata": {
        "id": "geuHT8zmqOfw",
        "colab": {
          "base_uri": "https://localhost:8080/",
          "height": 1000
        },
        "outputId": "9c1d25fd-9c03-4cc5-991a-8316c224eb06"
      },
      "id": "geuHT8zmqOfw",
      "execution_count": 16,
      "outputs": [
        {
          "output_type": "display_data",
          "data": {
            "text/plain": [
              "<Figure size 2520x2160 with 100 Axes>"
            ],
            "image/png": "[encoded data removed]"
          },
          "metadata": {}
        }
      ]
    },
    {
      "cell_type": "code",
      "execution_count": 17,
      "id": "53ac5398",
      "metadata": {
        "id": "53ac5398",
        "colab": {
          "base_uri": "https://localhost:8080/",
          "height": 1000
        },
        "outputId": "f46e7390-86b6-4fd6-c626-0027c1d32cf3"
      },
      "outputs": [
        {
          "output_type": "display_data",
          "data": {
            "text/plain": [
              "<Figure size 1440x1440 with 1 Axes>"
            ],
            "image/png": "[encoded data removed]"
          },
          "metadata": {}
        }
      ],
      "source": [
        "plt.figure(figsize = (20,20))\n",
        "ax =sns.boxplot(data = df, orient=\"h\")\n",
        "ax.set_title('Bank Data Boxplots', fontsize = 18)\n",
        "ax.set(xscale=\"log\")\n",
        "plt.show() # Ящики с усами (боксплоты)"
      ]
    },
    {
      "cell_type": "markdown",
      "source": [
        "Очевидно, что в сырых данные большое количество выбросов \n",
        "\n",
        "Избавимся от них при помощи расчета нижнего и верхнего квантилей и удалим"
      ],
      "metadata": {
        "id": "93nUzOGSKB60"
      },
      "id": "93nUzOGSKB60"
    },
    {
      "cell_type": "code",
      "execution_count": 18,
      "id": "432025af",
      "metadata": {
        "id": "432025af"
      },
      "outputs": [],
      "source": [
        "def outliers_removal(feature,feature_name,dataset):\n",
        "    q25, q75 = np.percentile(feature, 25), np.percentile(feature, 75)\n",
        "    #print('Quartile 25: {} | Quartile 75: {}'.format(q25, q75))\n",
        "    urange = q75 - q25\n",
        "    #print('urange: {}'.format(urange))\n",
        "    \n",
        "    feat_cut_off = urange * 1.5\n",
        "    feat_lower, feat_upper = q25 - feat_cut_off, q75 + feat_cut_off\n",
        "    #print(feature_name +' Lower: {}'.format(feat_lower))\n",
        "    #print(feature_name +' Upper: {}'.format(feat_upper))\n",
        "\n",
        "    df.loc[df[feature_name] > feat_upper, feature_name] = np.nan\n",
        "    df.loc[df[feature_name] < feat_lower, feature_name] = np.nan\n",
        "    #print('-' * 65)\n",
        "    return dataset"
      ]
    },
    {
      "cell_type": "code",
      "source": [
        "for col in df.loc[:, df.columns != 'Bankrupt']:\n",
        "    new_df = outliers_removal(df[col], str(col), df)"
      ],
      "metadata": {
        "id": "fkq3Mfd7wjfa"
      },
      "id": "fkq3Mfd7wjfa",
      "execution_count": 19,
      "outputs": []
    },
    {
      "cell_type": "code",
      "source": [
        "nulls_table(df) # процент отсутствующих значений"
      ],
      "metadata": {
        "colab": {
          "base_uri": "https://localhost:8080/",
          "height": 424
        },
        "id": "6Qifm4D_187H",
        "outputId": "ada599b1-9d67-4466-bd6c-676ea7038f17"
      },
      "id": "6Qifm4D_187H",
      "execution_count": 20,
      "outputs": [
        {
          "output_type": "execute_result",
          "data": {
            "text/plain": [
              "   column    nulls_%\n",
              "92    X92  22.041355\n",
              "93    X93  20.838833\n",
              "49    X49  20.794838\n",
              "71    X71  20.516205\n",
              "29    X29  20.252236\n",
              "..    ...        ...\n",
              "64    X64   0.586596\n",
              "38    X38   0.439947\n",
              "37    X37   0.439947\n",
              "85    X85   0.117319\n",
              "55    X55   0.029330\n",
              "\n",
              "[89 rows x 2 columns]"
            ],
            "text/html": [
              "\n",
              "  <div id=\"df-3033a403-574c-4150-bd3c-ec612c067c4a\">\n",
              "    <div class=\"colab-df-container\">\n",
              "      <div>\n",
              "<style scoped>\n",
              "    .dataframe tbody tr th:only-of-type {\n",
              "        vertical-align: middle;\n",
              "    }\n",
              "\n",
              "    .dataframe tbody tr th {\n",
              "        vertical-align: top;\n",
              "    }\n",
              "\n",
              "    .dataframe thead th {\n",
              "        text-align: right;\n",
              "    }\n",
              "</style>\n",
              "<table border=\"1\" class=\"dataframe\">\n",
              "  <thead>\n",
              "    <tr style=\"text-align: right;\">\n",
              "      <th></th>\n",
              "      <th>column</th>\n",
              "      <th>nulls_%</th>\n",
              "    </tr>\n",
              "  </thead>\n",
              "  <tbody>\n",
              "    <tr>\n",
              "      <th>92</th>\n",
              "      <td>X92</td>\n",
              "      <td>22.041355</td>\n",
              "    </tr>\n",
              "    <tr>\n",
              "      <th>93</th>\n",
              "      <td>X93</td>\n",
              "      <td>20.838833</td>\n",
              "    </tr>\n",
              "    <tr>\n",
              "      <th>49</th>\n",
              "      <td>X49</td>\n",
              "      <td>20.794838</td>\n",
              "    </tr>\n",
              "    <tr>\n",
              "      <th>71</th>\n",
              "      <td>X71</td>\n",
              "      <td>20.516205</td>\n",
              "    </tr>\n",
              "    <tr>\n",
              "      <th>29</th>\n",
              "      <td>X29</td>\n",
              "      <td>20.252236</td>\n",
              "    </tr>\n",
              "    <tr>\n",
              "      <th>...</th>\n",
              "      <td>...</td>\n",
              "      <td>...</td>\n",
              "    </tr>\n",
              "    <tr>\n",
              "      <th>64</th>\n",
              "      <td>X64</td>\n",
              "      <td>0.586596</td>\n",
              "    </tr>\n",
              "    <tr>\n",
              "      <th>38</th>\n",
              "      <td>X38</td>\n",
              "      <td>0.439947</td>\n",
              "    </tr>\n",
              "    <tr>\n",
              "      <th>37</th>\n",
              "      <td>X37</td>\n",
              "      <td>0.439947</td>\n",
              "    </tr>\n",
              "    <tr>\n",
              "      <th>85</th>\n",
              "      <td>X85</td>\n",
              "      <td>0.117319</td>\n",
              "    </tr>\n",
              "    <tr>\n",
              "      <th>55</th>\n",
              "      <td>X55</td>\n",
              "      <td>0.029330</td>\n",
              "    </tr>\n",
              "  </tbody>\n",
              "</table>\n",
              "<p>89 rows × 2 columns</p>\n",
              "</div>\n",
              "      <button class=\"colab-df-convert\" onclick=\"convertToInteractive('df-3033a403-574c-4150-bd3c-ec612c067c4a')\"\n",
              "              title=\"Convert this dataframe to an interactive table.\"\n",
              "              style=\"display:none;\">\n",
              "        \n",
              "  <svg xmlns=\"http://www.w3.org/2000/svg\" height=\"24px\"viewBox=\"0 0 24 24\"\n",
              "       width=\"24px\">\n",
              "    <path d=\"M0 0h24v24H0V0z\" fill=\"none\"/>\n",
              "    <path d=\"M18.56 5.44l.94 2.06.94-2.06 2.06-.94-2.06-.94-.94-2.06-.94 2.06-2.06.94zm-11 1L8.5 8.5l.94-2.06 2.06-.94-2.06-.94L8.5 2.5l-.94 2.06-2.06.94zm10 10l.94 2.06.94-2.06 2.06-.94-2.06-.94-.94-2.06-.94 2.06-2.06.94z\"/><path d=\"M17.41 7.96l-1.37-1.37c-.4-.4-.92-.59-1.43-.59-.52 0-1.04.2-1.43.59L10.3 9.45l-7.72 7.72c-.78.78-.78 2.05 0 2.83L4 21.41c.39.39.9.59 1.41.59.51 0 1.02-.2 1.41-.59l7.78-7.78 2.81-2.81c.8-.78.8-2.07 0-2.86zM5.41 20L4 18.59l7.72-7.72 1.47 1.35L5.41 20z\"/>\n",
              "  </svg>\n",
              "      </button>\n",
              "      \n",
              "  <style>\n",
              "    .colab-df-container {\n",
              "      display:flex;\n",
              "      flex-wrap:wrap;\n",
              "      gap: 12px;\n",
              "    }\n",
              "\n",
              "    .colab-df-convert {\n",
              "      background-color: #E8F0FE;\n",
              "      border: none;\n",
              "      border-radius: 50%;\n",
              "      cursor: pointer;\n",
              "      display: none;\n",
              "      fill: #1967D2;\n",
              "      height: 32px;\n",
              "      padding: 0 0 0 0;\n",
              "      width: 32px;\n",
              "    }\n",
              "\n",
              "    .colab-df-convert:hover {\n",
              "      background-color: #E2EBFA;\n",
              "      box-shadow: 0px 1px 2px rgba(60, 64, 67, 0.3), 0px 1px 3px 1px rgba(60, 64, 67, 0.15);\n",
              "      fill: #174EA6;\n",
              "    }\n",
              "\n",
              "    [theme=dark] .colab-df-convert {\n",
              "      background-color: #3B4455;\n",
              "      fill: #D2E3FC;\n",
              "    }\n",
              "\n",
              "    [theme=dark] .colab-df-convert:hover {\n",
              "      background-color: #434B5C;\n",
              "      box-shadow: 0px 1px 3px 1px rgba(0, 0, 0, 0.15);\n",
              "      filter: drop-shadow(0px 1px 2px rgba(0, 0, 0, 0.3));\n",
              "      fill: #FFFFFF;\n",
              "    }\n",
              "  </style>\n",
              "\n",
              "      <script>\n",
              "        const buttonEl =\n",
              "          document.querySelector('#df-3033a403-574c-4150-bd3c-ec612c067c4a button.colab-df-convert');\n",
              "        buttonEl.style.display =\n",
              "          google.colab.kernel.accessAllowed ? 'block' : 'none';\n",
              "\n",
              "        async function convertToInteractive(key) {\n",
              "          const element = document.querySelector('#df-3033a403-574c-4150-bd3c-ec612c067c4a');\n",
              "          const dataTable =\n",
              "            await google.colab.kernel.invokeFunction('convertToInteractive',\n",
              "                                                     [key], {});\n",
              "          if (!dataTable) return;\n",
              "\n",
              "          const docLinkHtml = 'Like what you see? Visit the ' +\n",
              "            '<a target=\"_blank\" href=https://colab.research.google.com/notebooks/data_table.ipynb>data table notebook</a>'\n",
              "            + ' to learn more about interactive tables.';\n",
              "          element.innerHTML = '';\n",
              "          dataTable['output_type'] = 'display_data';\n",
              "          await google.colab.output.renderOutput(dataTable, element);\n",
              "          const docLink = document.createElement('div');\n",
              "          docLink.innerHTML = docLinkHtml;\n",
              "          element.appendChild(docLink);\n",
              "        }\n",
              "      </script>\n",
              "    </div>\n",
              "  </div>\n",
              "  "
            ]
          },
          "metadata": {},
          "execution_count": 20
        }
      ]
    },
    {
      "cell_type": "code",
      "execution_count": 21,
      "id": "b25e4ac7",
      "metadata": {
        "id": "b25e4ac7",
        "colab": {
          "base_uri": "https://localhost:8080/"
        },
        "outputId": "7f454de2-bde5-4066-f732-98c373f0a394"
      },
      "outputs": [
        {
          "output_type": "execute_result",
          "data": {
            "text/plain": [
              "(6287, 84)"
            ]
          },
          "metadata": {},
          "execution_count": 21
        }
      ],
      "source": [
        "rows = df.shape[0]\n",
        "columns = df.shape[1]\n",
        "\n",
        "# удалим строки, в которых количество NaN элементов превышает 20% общего объема данных\n",
        "df = df.dropna(thresh = round(columns*0.8, 0)).reset_index(drop=True)\n",
        "# удалим столбцы, в которых количество NaN элементов превышает 20% общего объема данных\n",
        "df = df.dropna(axis = 1, thresh = round(rows*0.8, 0))\n",
        "\n",
        "df.shape"
      ]
    },
    {
      "cell_type": "code",
      "source": [
        "nulls_table(df)"
      ],
      "metadata": {
        "colab": {
          "base_uri": "https://localhost:8080/",
          "height": 424
        },
        "id": "AEq-CAWT6jEI",
        "outputId": "17a5a372-b1b0-4565-c059-133835c22004"
      },
      "id": "AEq-CAWT6jEI",
      "execution_count": 22,
      "outputs": [
        {
          "output_type": "execute_result",
          "data": {
            "text/plain": [
              "   column    nulls_%\n",
              "27    X28  13.233657\n",
              "24    X25  12.979163\n",
              "25    X26  12.899634\n",
              "26    X27  12.883728\n",
              "68    X75  12.613329\n",
              "..    ...        ...\n",
              "49    X54   0.556704\n",
              "55    X60   0.524893\n",
              "70    X77   0.493081\n",
              "58    X64   0.493081\n",
              "50    X55   0.015906\n",
              "\n",
              "[75 rows x 2 columns]"
            ],
            "text/html": [
              "\n",
              "  <div id=\"df-bceb7592-6558-449d-a9ac-4f44d15f3759\">\n",
              "    <div class=\"colab-df-container\">\n",
              "      <div>\n",
              "<style scoped>\n",
              "    .dataframe tbody tr th:only-of-type {\n",
              "        vertical-align: middle;\n",
              "    }\n",
              "\n",
              "    .dataframe tbody tr th {\n",
              "        vertical-align: top;\n",
              "    }\n",
              "\n",
              "    .dataframe thead th {\n",
              "        text-align: right;\n",
              "    }\n",
              "</style>\n",
              "<table border=\"1\" class=\"dataframe\">\n",
              "  <thead>\n",
              "    <tr style=\"text-align: right;\">\n",
              "      <th></th>\n",
              "      <th>column</th>\n",
              "      <th>nulls_%</th>\n",
              "    </tr>\n",
              "  </thead>\n",
              "  <tbody>\n",
              "    <tr>\n",
              "      <th>27</th>\n",
              "      <td>X28</td>\n",
              "      <td>13.233657</td>\n",
              "    </tr>\n",
              "    <tr>\n",
              "      <th>24</th>\n",
              "      <td>X25</td>\n",
              "      <td>12.979163</td>\n",
              "    </tr>\n",
              "    <tr>\n",
              "      <th>25</th>\n",
              "      <td>X26</td>\n",
              "      <td>12.899634</td>\n",
              "    </tr>\n",
              "    <tr>\n",
              "      <th>26</th>\n",
              "      <td>X27</td>\n",
              "      <td>12.883728</td>\n",
              "    </tr>\n",
              "    <tr>\n",
              "      <th>68</th>\n",
              "      <td>X75</td>\n",
              "      <td>12.613329</td>\n",
              "    </tr>\n",
              "    <tr>\n",
              "      <th>...</th>\n",
              "      <td>...</td>\n",
              "      <td>...</td>\n",
              "    </tr>\n",
              "    <tr>\n",
              "      <th>49</th>\n",
              "      <td>X54</td>\n",
              "      <td>0.556704</td>\n",
              "    </tr>\n",
              "    <tr>\n",
              "      <th>55</th>\n",
              "      <td>X60</td>\n",
              "      <td>0.524893</td>\n",
              "    </tr>\n",
              "    <tr>\n",
              "      <th>70</th>\n",
              "      <td>X77</td>\n",
              "      <td>0.493081</td>\n",
              "    </tr>\n",
              "    <tr>\n",
              "      <th>58</th>\n",
              "      <td>X64</td>\n",
              "      <td>0.493081</td>\n",
              "    </tr>\n",
              "    <tr>\n",
              "      <th>50</th>\n",
              "      <td>X55</td>\n",
              "      <td>0.015906</td>\n",
              "    </tr>\n",
              "  </tbody>\n",
              "</table>\n",
              "<p>75 rows × 2 columns</p>\n",
              "</div>\n",
              "      <button class=\"colab-df-convert\" onclick=\"convertToInteractive('df-bceb7592-6558-449d-a9ac-4f44d15f3759')\"\n",
              "              title=\"Convert this dataframe to an interactive table.\"\n",
              "              style=\"display:none;\">\n",
              "        \n",
              "  <svg xmlns=\"http://www.w3.org/2000/svg\" height=\"24px\"viewBox=\"0 0 24 24\"\n",
              "       width=\"24px\">\n",
              "    <path d=\"M0 0h24v24H0V0z\" fill=\"none\"/>\n",
              "    <path d=\"M18.56 5.44l.94 2.06.94-2.06 2.06-.94-2.06-.94-.94-2.06-.94 2.06-2.06.94zm-11 1L8.5 8.5l.94-2.06 2.06-.94-2.06-.94L8.5 2.5l-.94 2.06-2.06.94zm10 10l.94 2.06.94-2.06 2.06-.94-2.06-.94-.94-2.06-.94 2.06-2.06.94z\"/><path d=\"M17.41 7.96l-1.37-1.37c-.4-.4-.92-.59-1.43-.59-.52 0-1.04.2-1.43.59L10.3 9.45l-7.72 7.72c-.78.78-.78 2.05 0 2.83L4 21.41c.39.39.9.59 1.41.59.51 0 1.02-.2 1.41-.59l7.78-7.78 2.81-2.81c.8-.78.8-2.07 0-2.86zM5.41 20L4 18.59l7.72-7.72 1.47 1.35L5.41 20z\"/>\n",
              "  </svg>\n",
              "      </button>\n",
              "      \n",
              "  <style>\n",
              "    .colab-df-container {\n",
              "      display:flex;\n",
              "      flex-wrap:wrap;\n",
              "      gap: 12px;\n",
              "    }\n",
              "\n",
              "    .colab-df-convert {\n",
              "      background-color: #E8F0FE;\n",
              "      border: none;\n",
              "      border-radius: 50%;\n",
              "      cursor: pointer;\n",
              "      display: none;\n",
              "      fill: #1967D2;\n",
              "      height: 32px;\n",
              "      padding: 0 0 0 0;\n",
              "      width: 32px;\n",
              "    }\n",
              "\n",
              "    .colab-df-convert:hover {\n",
              "      background-color: #E2EBFA;\n",
              "      box-shadow: 0px 1px 2px rgba(60, 64, 67, 0.3), 0px 1px 3px 1px rgba(60, 64, 67, 0.15);\n",
              "      fill: #174EA6;\n",
              "    }\n",
              "\n",
              "    [theme=dark] .colab-df-convert {\n",
              "      background-color: #3B4455;\n",
              "      fill: #D2E3FC;\n",
              "    }\n",
              "\n",
              "    [theme=dark] .colab-df-convert:hover {\n",
              "      background-color: #434B5C;\n",
              "      box-shadow: 0px 1px 3px 1px rgba(0, 0, 0, 0.15);\n",
              "      filter: drop-shadow(0px 1px 2px rgba(0, 0, 0, 0.3));\n",
              "      fill: #FFFFFF;\n",
              "    }\n",
              "  </style>\n",
              "\n",
              "      <script>\n",
              "        const buttonEl =\n",
              "          document.querySelector('#df-bceb7592-6558-449d-a9ac-4f44d15f3759 button.colab-df-convert');\n",
              "        buttonEl.style.display =\n",
              "          google.colab.kernel.accessAllowed ? 'block' : 'none';\n",
              "\n",
              "        async function convertToInteractive(key) {\n",
              "          const element = document.querySelector('#df-bceb7592-6558-449d-a9ac-4f44d15f3759');\n",
              "          const dataTable =\n",
              "            await google.colab.kernel.invokeFunction('convertToInteractive',\n",
              "                                                     [key], {});\n",
              "          if (!dataTable) return;\n",
              "\n",
              "          const docLinkHtml = 'Like what you see? Visit the ' +\n",
              "            '<a target=\"_blank\" href=https://colab.research.google.com/notebooks/data_table.ipynb>data table notebook</a>'\n",
              "            + ' to learn more about interactive tables.';\n",
              "          element.innerHTML = '';\n",
              "          dataTable['output_type'] = 'display_data';\n",
              "          await google.colab.output.renderOutput(dataTable, element);\n",
              "          const docLink = document.createElement('div');\n",
              "          docLink.innerHTML = docLinkHtml;\n",
              "          element.appendChild(docLink);\n",
              "        }\n",
              "      </script>\n",
              "    </div>\n",
              "  </div>\n",
              "  "
            ]
          },
          "metadata": {},
          "execution_count": 22
        }
      ]
    },
    {
      "cell_type": "markdown",
      "source": [
        "Для восстановления пропусков в оставшихся данных используем замену числовых признаков на среднее"
      ],
      "metadata": {
        "id": "lBrFKXRs-xf6"
      },
      "id": "lBrFKXRs-xf6"
    },
    {
      "cell_type": "code",
      "execution_count": 23,
      "id": "5dfb0eb5",
      "metadata": {
        "id": "5dfb0eb5"
      },
      "outputs": [],
      "source": [
        "for i in df.columns:\n",
        "    df[i] = df[i].fillna(df[i].mean()) "
      ]
    },
    {
      "cell_type": "code",
      "source": [
        "nulls_table(df)"
      ],
      "metadata": {
        "colab": {
          "base_uri": "https://localhost:8080/",
          "height": 49
        },
        "id": "uVzDDnAC-sk0",
        "outputId": "babe656e-0b13-47cb-a081-7deae43edc57"
      },
      "id": "uVzDDnAC-sk0",
      "execution_count": 24,
      "outputs": [
        {
          "output_type": "execute_result",
          "data": {
            "text/plain": [
              "Empty DataFrame\n",
              "Columns: [column, nulls_%]\n",
              "Index: []"
            ],
            "text/html": [
              "\n",
              "  <div id=\"df-5141d674-914c-476d-8431-7615b692170a\">\n",
              "    <div class=\"colab-df-container\">\n",
              "      <div>\n",
              "<style scoped>\n",
              "    .dataframe tbody tr th:only-of-type {\n",
              "        vertical-align: middle;\n",
              "    }\n",
              "\n",
              "    .dataframe tbody tr th {\n",
              "        vertical-align: top;\n",
              "    }\n",
              "\n",
              "    .dataframe thead th {\n",
              "        text-align: right;\n",
              "    }\n",
              "</style>\n",
              "<table border=\"1\" class=\"dataframe\">\n",
              "  <thead>\n",
              "    <tr style=\"text-align: right;\">\n",
              "      <th></th>\n",
              "      <th>column</th>\n",
              "      <th>nulls_%</th>\n",
              "    </tr>\n",
              "  </thead>\n",
              "  <tbody>\n",
              "  </tbody>\n",
              "</table>\n",
              "</div>\n",
              "      <button class=\"colab-df-convert\" onclick=\"convertToInteractive('df-5141d674-914c-476d-8431-7615b692170a')\"\n",
              "              title=\"Convert this dataframe to an interactive table.\"\n",
              "              style=\"display:none;\">\n",
              "        \n",
              "  <svg xmlns=\"http://www.w3.org/2000/svg\" height=\"24px\"viewBox=\"0 0 24 24\"\n",
              "       width=\"24px\">\n",
              "    <path d=\"M0 0h24v24H0V0z\" fill=\"none\"/>\n",
              "    <path d=\"M18.56 5.44l.94 2.06.94-2.06 2.06-.94-2.06-.94-.94-2.06-.94 2.06-2.06.94zm-11 1L8.5 8.5l.94-2.06 2.06-.94-2.06-.94L8.5 2.5l-.94 2.06-2.06.94zm10 10l.94 2.06.94-2.06 2.06-.94-2.06-.94-.94-2.06-.94 2.06-2.06.94z\"/><path d=\"M17.41 7.96l-1.37-1.37c-.4-.4-.92-.59-1.43-.59-.52 0-1.04.2-1.43.59L10.3 9.45l-7.72 7.72c-.78.78-.78 2.05 0 2.83L4 21.41c.39.39.9.59 1.41.59.51 0 1.02-.2 1.41-.59l7.78-7.78 2.81-2.81c.8-.78.8-2.07 0-2.86zM5.41 20L4 18.59l7.72-7.72 1.47 1.35L5.41 20z\"/>\n",
              "  </svg>\n",
              "      </button>\n",
              "      \n",
              "  <style>\n",
              "    .colab-df-container {\n",
              "      display:flex;\n",
              "      flex-wrap:wrap;\n",
              "      gap: 12px;\n",
              "    }\n",
              "\n",
              "    .colab-df-convert {\n",
              "      background-color: #E8F0FE;\n",
              "      border: none;\n",
              "      border-radius: 50%;\n",
              "      cursor: pointer;\n",
              "      display: none;\n",
              "      fill: #1967D2;\n",
              "      height: 32px;\n",
              "      padding: 0 0 0 0;\n",
              "      width: 32px;\n",
              "    }\n",
              "\n",
              "    .colab-df-convert:hover {\n",
              "      background-color: #E2EBFA;\n",
              "      box-shadow: 0px 1px 2px rgba(60, 64, 67, 0.3), 0px 1px 3px 1px rgba(60, 64, 67, 0.15);\n",
              "      fill: #174EA6;\n",
              "    }\n",
              "\n",
              "    [theme=dark] .colab-df-convert {\n",
              "      background-color: #3B4455;\n",
              "      fill: #D2E3FC;\n",
              "    }\n",
              "\n",
              "    [theme=dark] .colab-df-convert:hover {\n",
              "      background-color: #434B5C;\n",
              "      box-shadow: 0px 1px 3px 1px rgba(0, 0, 0, 0.15);\n",
              "      filter: drop-shadow(0px 1px 2px rgba(0, 0, 0, 0.3));\n",
              "      fill: #FFFFFF;\n",
              "    }\n",
              "  </style>\n",
              "\n",
              "      <script>\n",
              "        const buttonEl =\n",
              "          document.querySelector('#df-5141d674-914c-476d-8431-7615b692170a button.colab-df-convert');\n",
              "        buttonEl.style.display =\n",
              "          google.colab.kernel.accessAllowed ? 'block' : 'none';\n",
              "\n",
              "        async function convertToInteractive(key) {\n",
              "          const element = document.querySelector('#df-5141d674-914c-476d-8431-7615b692170a');\n",
              "          const dataTable =\n",
              "            await google.colab.kernel.invokeFunction('convertToInteractive',\n",
              "                                                     [key], {});\n",
              "          if (!dataTable) return;\n",
              "\n",
              "          const docLinkHtml = 'Like what you see? Visit the ' +\n",
              "            '<a target=\"_blank\" href=https://colab.research.google.com/notebooks/data_table.ipynb>data table notebook</a>'\n",
              "            + ' to learn more about interactive tables.';\n",
              "          element.innerHTML = '';\n",
              "          dataTable['output_type'] = 'display_data';\n",
              "          await google.colab.output.renderOutput(dataTable, element);\n",
              "          const docLink = document.createElement('div');\n",
              "          docLink.innerHTML = docLinkHtml;\n",
              "          element.appendChild(docLink);\n",
              "        }\n",
              "      </script>\n",
              "    </div>\n",
              "  </div>\n",
              "  "
            ]
          },
          "metadata": {},
          "execution_count": 24
        }
      ]
    },
    {
      "cell_type": "code",
      "source": [
        "'''plt.figure(figsize = (20,20))\n",
        "ax =sns.boxplot(data = df, orient=\"h\")\n",
        "ax.set_title('Bank Data Boxplots', fontsize = 18)\n",
        "ax.set(xscale=\"log\")\n",
        "plt.show() # Ящики с усами (боксплоты)'''"
      ],
      "metadata": {
        "id": "yVTnNjN99JRu",
        "colab": {
          "base_uri": "https://localhost:8080/",
          "height": 36
        },
        "outputId": "a9fbcaa4-fee6-4039-d136-e7a5d4a32548"
      },
      "id": "yVTnNjN99JRu",
      "execution_count": 25,
      "outputs": [
        {
          "output_type": "execute_result",
          "data": {
            "text/plain": [
              "'plt.figure(figsize = (20,20))\\nax =sns.boxplot(data = df, orient=\"h\")\\nax.set_title(\\'Bank Data Boxplots\\', fontsize = 18)\\nax.set(xscale=\"log\")\\nplt.show() # Ящики с усами (боксплоты)'"
            ],
            "application/vnd.google.colaboratory.intrinsic+json": {
              "type": "string"
            }
          },
          "metadata": {},
          "execution_count": 25
        }
      ]
    },
    {
      "cell_type": "code",
      "source": [
        "# Снова проверим и удалим неинформативные признаки с помощью поиска уникальных значений (тк после удаления выбрасов и замены пропусков такие признаки могли появиться)\n",
        "to_del = []\n",
        "for col in df.columns:\n",
        "  if len(df[col].unique()) == 1:\n",
        "    to_del.append(col)\n",
        "\n",
        "to_del"
      ],
      "metadata": {
        "colab": {
          "base_uri": "https://localhost:8080/"
        },
        "id": "Lea5bM-8clK6",
        "outputId": "a512cbf4-c0cc-4323-a3f6-eae9b3d40541"
      },
      "id": "Lea5bM-8clK6",
      "execution_count": 26,
      "outputs": [
        {
          "output_type": "execute_result",
          "data": {
            "text/plain": [
              "['X85']"
            ]
          },
          "metadata": {},
          "execution_count": 26
        }
      ]
    },
    {
      "cell_type": "code",
      "source": [
        "df = df.drop(to_del, axis = 1)"
      ],
      "metadata": {
        "id": "75lN4n1FcqRd"
      },
      "id": "75lN4n1FcqRd",
      "execution_count": 27,
      "outputs": []
    },
    {
      "cell_type": "code",
      "source": [
        "make_model(df, name = '-выбросы и пропуски')"
      ],
      "metadata": {
        "colab": {
          "base_uri": "https://localhost:8080/",
          "height": 198
        },
        "id": "l6gbObb7b1lZ",
        "outputId": "2a8cdbaf-ac42-4b52-e082-fb4e232efac1"
      },
      "id": "l6gbObb7b1lZ",
      "execution_count": 28,
      "outputs": [
        {
          "output_type": "stream",
          "name": "stderr",
          "text": [
            "/usr/local/lib/python3.8/dist-packages/sklearn/metrics/_classification.py:1318: UndefinedMetricWarning: Precision is ill-defined and being set to 0.0 in labels with no predicted samples. Use `zero_division` parameter to control this behavior.\n",
            "  _warn_prf(average, modifier, msg_start, len(result))\n"
          ]
        },
        {
          "output_type": "execute_result",
          "data": {
            "text/plain": [
              "                  stage  accuracy_to_max  recall_to_max  F1_to_max  \\\n",
              "0       Исходные данные         0.964809       0.510037   0.511038   \n",
              "1  -первичная обработка         0.969208       0.511439   0.514903   \n",
              "2   -выбросы и пропуски         0.976153       0.500000   0.493966   \n",
              "\n",
              "   precision_to_min      time  \n",
              "0          0.732746  0.527067  \n",
              "1          0.651972  0.272950  \n",
              "2          0.488076  0.285265  "
            ],
            "text/html": [
              "\n",
              "  <div id=\"df-9cc47468-e3f2-4220-aaab-b677a0286cce\">\n",
              "    <div class=\"colab-df-container\">\n",
              "      <div>\n",
              "<style scoped>\n",
              "    .dataframe tbody tr th:only-of-type {\n",
              "        vertical-align: middle;\n",
              "    }\n",
              "\n",
              "    .dataframe tbody tr th {\n",
              "        vertical-align: top;\n",
              "    }\n",
              "\n",
              "    .dataframe thead th {\n",
              "        text-align: right;\n",
              "    }\n",
              "</style>\n",
              "<table border=\"1\" class=\"dataframe\">\n",
              "  <thead>\n",
              "    <tr style=\"text-align: right;\">\n",
              "      <th></th>\n",
              "      <th>stage</th>\n",
              "      <th>accuracy_to_max</th>\n",
              "      <th>recall_to_max</th>\n",
              "      <th>F1_to_max</th>\n",
              "      <th>precision_to_min</th>\n",
              "      <th>time</th>\n",
              "    </tr>\n",
              "  </thead>\n",
              "  <tbody>\n",
              "    <tr>\n",
              "      <th>0</th>\n",
              "      <td>Исходные данные</td>\n",
              "      <td>0.964809</td>\n",
              "      <td>0.510037</td>\n",
              "      <td>0.511038</td>\n",
              "      <td>0.732746</td>\n",
              "      <td>0.527067</td>\n",
              "    </tr>\n",
              "    <tr>\n",
              "      <th>1</th>\n",
              "      <td>-первичная обработка</td>\n",
              "      <td>0.969208</td>\n",
              "      <td>0.511439</td>\n",
              "      <td>0.514903</td>\n",
              "      <td>0.651972</td>\n",
              "      <td>0.272950</td>\n",
              "    </tr>\n",
              "    <tr>\n",
              "      <th>2</th>\n",
              "      <td>-выбросы и пропуски</td>\n",
              "      <td>0.976153</td>\n",
              "      <td>0.500000</td>\n",
              "      <td>0.493966</td>\n",
              "      <td>0.488076</td>\n",
              "      <td>0.285265</td>\n",
              "    </tr>\n",
              "  </tbody>\n",
              "</table>\n",
              "</div>\n",
              "      <button class=\"colab-df-convert\" onclick=\"convertToInteractive('df-9cc47468-e3f2-4220-aaab-b677a0286cce')\"\n",
              "              title=\"Convert this dataframe to an interactive table.\"\n",
              "              style=\"display:none;\">\n",
              "        \n",
              "  <svg xmlns=\"http://www.w3.org/2000/svg\" height=\"24px\"viewBox=\"0 0 24 24\"\n",
              "       width=\"24px\">\n",
              "    <path d=\"M0 0h24v24H0V0z\" fill=\"none\"/>\n",
              "    <path d=\"M18.56 5.44l.94 2.06.94-2.06 2.06-.94-2.06-.94-.94-2.06-.94 2.06-2.06.94zm-11 1L8.5 8.5l.94-2.06 2.06-.94-2.06-.94L8.5 2.5l-.94 2.06-2.06.94zm10 10l.94 2.06.94-2.06 2.06-.94-2.06-.94-.94-2.06-.94 2.06-2.06.94z\"/><path d=\"M17.41 7.96l-1.37-1.37c-.4-.4-.92-.59-1.43-.59-.52 0-1.04.2-1.43.59L10.3 9.45l-7.72 7.72c-.78.78-.78 2.05 0 2.83L4 21.41c.39.39.9.59 1.41.59.51 0 1.02-.2 1.41-.59l7.78-7.78 2.81-2.81c.8-.78.8-2.07 0-2.86zM5.41 20L4 18.59l7.72-7.72 1.47 1.35L5.41 20z\"/>\n",
              "  </svg>\n",
              "      </button>\n",
              "      \n",
              "  <style>\n",
              "    .colab-df-container {\n",
              "      display:flex;\n",
              "      flex-wrap:wrap;\n",
              "      gap: 12px;\n",
              "    }\n",
              "\n",
              "    .colab-df-convert {\n",
              "      background-color: #E8F0FE;\n",
              "      border: none;\n",
              "      border-radius: 50%;\n",
              "      cursor: pointer;\n",
              "      display: none;\n",
              "      fill: #1967D2;\n",
              "      height: 32px;\n",
              "      padding: 0 0 0 0;\n",
              "      width: 32px;\n",
              "    }\n",
              "\n",
              "    .colab-df-convert:hover {\n",
              "      background-color: #E2EBFA;\n",
              "      box-shadow: 0px 1px 2px rgba(60, 64, 67, 0.3), 0px 1px 3px 1px rgba(60, 64, 67, 0.15);\n",
              "      fill: #174EA6;\n",
              "    }\n",
              "\n",
              "    [theme=dark] .colab-df-convert {\n",
              "      background-color: #3B4455;\n",
              "      fill: #D2E3FC;\n",
              "    }\n",
              "\n",
              "    [theme=dark] .colab-df-convert:hover {\n",
              "      background-color: #434B5C;\n",
              "      box-shadow: 0px 1px 3px 1px rgba(0, 0, 0, 0.15);\n",
              "      filter: drop-shadow(0px 1px 2px rgba(0, 0, 0, 0.3));\n",
              "      fill: #FFFFFF;\n",
              "    }\n",
              "  </style>\n",
              "\n",
              "      <script>\n",
              "        const buttonEl =\n",
              "          document.querySelector('#df-9cc47468-e3f2-4220-aaab-b677a0286cce button.colab-df-convert');\n",
              "        buttonEl.style.display =\n",
              "          google.colab.kernel.accessAllowed ? 'block' : 'none';\n",
              "\n",
              "        async function convertToInteractive(key) {\n",
              "          const element = document.querySelector('#df-9cc47468-e3f2-4220-aaab-b677a0286cce');\n",
              "          const dataTable =\n",
              "            await google.colab.kernel.invokeFunction('convertToInteractive',\n",
              "                                                     [key], {});\n",
              "          if (!dataTable) return;\n",
              "\n",
              "          const docLinkHtml = 'Like what you see? Visit the ' +\n",
              "            '<a target=\"_blank\" href=https://colab.research.google.com/notebooks/data_table.ipynb>data table notebook</a>'\n",
              "            + ' to learn more about interactive tables.';\n",
              "          element.innerHTML = '';\n",
              "          dataTable['output_type'] = 'display_data';\n",
              "          await google.colab.output.renderOutput(dataTable, element);\n",
              "          const docLink = document.createElement('div');\n",
              "          docLink.innerHTML = docLinkHtml;\n",
              "          element.appendChild(docLink);\n",
              "        }\n",
              "      </script>\n",
              "    </div>\n",
              "  </div>\n",
              "  "
            ]
          },
          "metadata": {},
          "execution_count": 28
        }
      ]
    },
    {
      "cell_type": "markdown",
      "source": [
        "Новые метрики указывают на то, что мы двигаемся в правильном направлении, ведь качество предсказательной способности модели растет и precision уменьшается.\n"
      ],
      "metadata": {
        "id": "MXp9JV98-1fH"
      },
      "id": "MXp9JV98-1fH"
    },
    {
      "cell_type": "markdown",
      "source": [
        "## 4. Коррелирующие признаки\n",
        "\n",
        "При наличии мультиколлинеарности значимость отдельных коэффициентов регрессии уменьшается, так как стандартные ошибки становятся больше, что приводит к меньшей надежности полученных оценок. \n",
        "\n",
        "Построим корреляционную матрицу:"
      ],
      "metadata": {
        "id": "nWFHQ0qinX0X"
      },
      "id": "nWFHQ0qinX0X"
    },
    {
      "cell_type": "code",
      "execution_count": 29,
      "id": "bae77394",
      "metadata": {
        "id": "bae77394",
        "colab": {
          "base_uri": "https://localhost:8080/",
          "height": 1000
        },
        "outputId": "b15b4786-f6fd-4e7b-c56d-4e855bfbe3fd"
      },
      "outputs": [
        {
          "output_type": "display_data",
          "data": {
            "text/plain": [
              "<Figure size 2160x1800 with 2 Axes>"
            ],
            "image/png": "[encoded data removed]"
          },
          "metadata": {}
        }
      ],
      "source": [
        "f, ax = plt.subplots(figsize=(30, 25))\n",
        "mat = df.corr('spearman')\n",
        "mask = np.triu(np.ones_like(mat, dtype=bool))\n",
        "cmap = sns.diverging_palette(230, 20, as_cmap=True)\n",
        "sns.heatmap(mat, mask=mask, cmap=cmap, vmax=1, center=0,\n",
        "            square=True, linewidths=.5, cbar_kws={\"shrink\": .5})\n",
        "plt.show()"
      ]
    },
    {
      "cell_type": "markdown",
      "source": [
        "Отбросим объекты со значением корреляции больше 0,8"
      ],
      "metadata": {
        "id": "uapD2P8k-_Gu"
      },
      "id": "uapD2P8k-_Gu"
    },
    {
      "cell_type": "code",
      "execution_count": 30,
      "id": "294b7cad",
      "metadata": {
        "colab": {
          "base_uri": "https://localhost:8080/"
        },
        "id": "294b7cad",
        "outputId": "4385b792-ac4b-4875-c088-018d118ec2f9"
      },
      "outputs": [
        {
          "output_type": "stream",
          "name": "stderr",
          "text": [
            "<ipython-input-30-f5b1a5ec98f5>:2: DeprecationWarning: `np.bool` is a deprecated alias for the builtin `bool`. To silence this warning, use `bool` by itself. Doing this will not modify any behavior and is safe. If you specifically wanted the numpy scalar type, use `np.bool_` here.\n",
            "Deprecated in NumPy 1.20; for more details and guidance: https://numpy.org/devdocs/release/1.20.0-notes.html#deprecations\n",
            "  upper = corr_matrix.where(np.triu(np.ones(corr_matrix.shape), k=1).astype(np.bool))\n"
          ]
        }
      ],
      "source": [
        "corr_matrix = df.corr().abs()\n",
        "upper = corr_matrix.where(np.triu(np.ones(corr_matrix.shape), k=1).astype(np.bool))\n",
        "to_drop = [column for column in upper.columns if any(upper[column] > 0.8)]"
      ]
    },
    {
      "cell_type": "code",
      "source": [
        "df.shape"
      ],
      "metadata": {
        "colab": {
          "base_uri": "https://localhost:8080/"
        },
        "id": "oDX992cxOyz0",
        "outputId": "47f926f1-1669-42fc-d4a9-ee3fa89c2e57"
      },
      "id": "oDX992cxOyz0",
      "execution_count": 31,
      "outputs": [
        {
          "output_type": "execute_result",
          "data": {
            "text/plain": [
              "(6287, 83)"
            ]
          },
          "metadata": {},
          "execution_count": 31
        }
      ]
    },
    {
      "cell_type": "code",
      "source": [
        "len(to_drop)"
      ],
      "metadata": {
        "id": "bEYSw4yiCoU5",
        "colab": {
          "base_uri": "https://localhost:8080/"
        },
        "outputId": "6d856120-4223-4d18-8f64-5ea0451c91d4"
      },
      "id": "bEYSw4yiCoU5",
      "execution_count": 32,
      "outputs": [
        {
          "output_type": "execute_result",
          "data": {
            "text/plain": [
              "29"
            ]
          },
          "metadata": {},
          "execution_count": 32
        }
      ]
    },
    {
      "cell_type": "code",
      "source": [
        "nulls_table(df)"
      ],
      "metadata": {
        "colab": {
          "base_uri": "https://localhost:8080/",
          "height": 49
        },
        "id": "lOJRIV5Z9phw",
        "outputId": "610b55a7-29f2-447b-e684-d6c39195d6fc"
      },
      "id": "lOJRIV5Z9phw",
      "execution_count": 33,
      "outputs": [
        {
          "output_type": "execute_result",
          "data": {
            "text/plain": [
              "Empty DataFrame\n",
              "Columns: [column, nulls_%]\n",
              "Index: []"
            ],
            "text/html": [
              "\n",
              "  <div id=\"df-35609fd7-1606-466f-b812-5a4ff88a79a1\">\n",
              "    <div class=\"colab-df-container\">\n",
              "      <div>\n",
              "<style scoped>\n",
              "    .dataframe tbody tr th:only-of-type {\n",
              "        vertical-align: middle;\n",
              "    }\n",
              "\n",
              "    .dataframe tbody tr th {\n",
              "        vertical-align: top;\n",
              "    }\n",
              "\n",
              "    .dataframe thead th {\n",
              "        text-align: right;\n",
              "    }\n",
              "</style>\n",
              "<table border=\"1\" class=\"dataframe\">\n",
              "  <thead>\n",
              "    <tr style=\"text-align: right;\">\n",
              "      <th></th>\n",
              "      <th>column</th>\n",
              "      <th>nulls_%</th>\n",
              "    </tr>\n",
              "  </thead>\n",
              "  <tbody>\n",
              "  </tbody>\n",
              "</table>\n",
              "</div>\n",
              "      <button class=\"colab-df-convert\" onclick=\"convertToInteractive('df-35609fd7-1606-466f-b812-5a4ff88a79a1')\"\n",
              "              title=\"Convert this dataframe to an interactive table.\"\n",
              "              style=\"display:none;\">\n",
              "        \n",
              "  <svg xmlns=\"http://www.w3.org/2000/svg\" height=\"24px\"viewBox=\"0 0 24 24\"\n",
              "       width=\"24px\">\n",
              "    <path d=\"M0 0h24v24H0V0z\" fill=\"none\"/>\n",
              "    <path d=\"M18.56 5.44l.94 2.06.94-2.06 2.06-.94-2.06-.94-.94-2.06-.94 2.06-2.06.94zm-11 1L8.5 8.5l.94-2.06 2.06-.94-2.06-.94L8.5 2.5l-.94 2.06-2.06.94zm10 10l.94 2.06.94-2.06 2.06-.94-2.06-.94-.94-2.06-.94 2.06-2.06.94z\"/><path d=\"M17.41 7.96l-1.37-1.37c-.4-.4-.92-.59-1.43-.59-.52 0-1.04.2-1.43.59L10.3 9.45l-7.72 7.72c-.78.78-.78 2.05 0 2.83L4 21.41c.39.39.9.59 1.41.59.51 0 1.02-.2 1.41-.59l7.78-7.78 2.81-2.81c.8-.78.8-2.07 0-2.86zM5.41 20L4 18.59l7.72-7.72 1.47 1.35L5.41 20z\"/>\n",
              "  </svg>\n",
              "      </button>\n",
              "      \n",
              "  <style>\n",
              "    .colab-df-container {\n",
              "      display:flex;\n",
              "      flex-wrap:wrap;\n",
              "      gap: 12px;\n",
              "    }\n",
              "\n",
              "    .colab-df-convert {\n",
              "      background-color: #E8F0FE;\n",
              "      border: none;\n",
              "      border-radius: 50%;\n",
              "      cursor: pointer;\n",
              "      display: none;\n",
              "      fill: #1967D2;\n",
              "      height: 32px;\n",
              "      padding: 0 0 0 0;\n",
              "      width: 32px;\n",
              "    }\n",
              "\n",
              "    .colab-df-convert:hover {\n",
              "      background-color: #E2EBFA;\n",
              "      box-shadow: 0px 1px 2px rgba(60, 64, 67, 0.3), 0px 1px 3px 1px rgba(60, 64, 67, 0.15);\n",
              "      fill: #174EA6;\n",
              "    }\n",
              "\n",
              "    [theme=dark] .colab-df-convert {\n",
              "      background-color: #3B4455;\n",
              "      fill: #D2E3FC;\n",
              "    }\n",
              "\n",
              "    [theme=dark] .colab-df-convert:hover {\n",
              "      background-color: #434B5C;\n",
              "      box-shadow: 0px 1px 3px 1px rgba(0, 0, 0, 0.15);\n",
              "      filter: drop-shadow(0px 1px 2px rgba(0, 0, 0, 0.3));\n",
              "      fill: #FFFFFF;\n",
              "    }\n",
              "  </style>\n",
              "\n",
              "      <script>\n",
              "        const buttonEl =\n",
              "          document.querySelector('#df-35609fd7-1606-466f-b812-5a4ff88a79a1 button.colab-df-convert');\n",
              "        buttonEl.style.display =\n",
              "          google.colab.kernel.accessAllowed ? 'block' : 'none';\n",
              "\n",
              "        async function convertToInteractive(key) {\n",
              "          const element = document.querySelector('#df-35609fd7-1606-466f-b812-5a4ff88a79a1');\n",
              "          const dataTable =\n",
              "            await google.colab.kernel.invokeFunction('convertToInteractive',\n",
              "                                                     [key], {});\n",
              "          if (!dataTable) return;\n",
              "\n",
              "          const docLinkHtml = 'Like what you see? Visit the ' +\n",
              "            '<a target=\"_blank\" href=https://colab.research.google.com/notebooks/data_table.ipynb>data table notebook</a>'\n",
              "            + ' to learn more about interactive tables.';\n",
              "          element.innerHTML = '';\n",
              "          dataTable['output_type'] = 'display_data';\n",
              "          await google.colab.output.renderOutput(dataTable, element);\n",
              "          const docLink = document.createElement('div');\n",
              "          docLink.innerHTML = docLinkHtml;\n",
              "          element.appendChild(docLink);\n",
              "        }\n",
              "      </script>\n",
              "    </div>\n",
              "  </div>\n",
              "  "
            ]
          },
          "metadata": {},
          "execution_count": 33
        }
      ]
    },
    {
      "cell_type": "code",
      "execution_count": 34,
      "id": "54de87d7",
      "metadata": {
        "id": "54de87d7",
        "colab": {
          "base_uri": "https://localhost:8080/"
        },
        "outputId": "208d711b-f8b6-4080-8153-5a32d9b02b95"
      },
      "outputs": [
        {
          "output_type": "execute_result",
          "data": {
            "text/plain": [
              "(6287, 54)"
            ]
          },
          "metadata": {},
          "execution_count": 34
        }
      ],
      "source": [
        "# Удаляем коррелирующие признаки\n",
        "df = df.drop(to_drop, axis = 1)\n",
        "df.shape"
      ]
    },
    {
      "cell_type": "code",
      "source": [
        "make_model(df, name = '-коррелирующие признаки')"
      ],
      "metadata": {
        "colab": {
          "base_uri": "https://localhost:8080/",
          "height": 229
        },
        "id": "UKF1WyI7cJdR",
        "outputId": "6fb1f3af-17c4-4d24-aea4-ed585c100c09"
      },
      "id": "UKF1WyI7cJdR",
      "execution_count": 35,
      "outputs": [
        {
          "output_type": "stream",
          "name": "stderr",
          "text": [
            "/usr/local/lib/python3.8/dist-packages/sklearn/metrics/_classification.py:1318: UndefinedMetricWarning: Precision is ill-defined and being set to 0.0 in labels with no predicted samples. Use `zero_division` parameter to control this behavior.\n",
            "  _warn_prf(average, modifier, msg_start, len(result))\n"
          ]
        },
        {
          "output_type": "execute_result",
          "data": {
            "text/plain": [
              "                     stage  accuracy_to_max  recall_to_max  F1_to_max  \\\n",
              "0          Исходные данные         0.964809       0.510037   0.511038   \n",
              "1     -первичная обработка         0.969208       0.511439   0.514903   \n",
              "2      -выбросы и пропуски         0.976153       0.500000   0.493966   \n",
              "3  -коррелирующие признаки         0.976153       0.500000   0.493966   \n",
              "\n",
              "   precision_to_min      time  \n",
              "0          0.732746  0.527067  \n",
              "1          0.651972  0.272950  \n",
              "2          0.488076  0.285265  \n",
              "3          0.488076  0.238575  "
            ],
            "text/html": [
              "\n",
              "  <div id=\"df-db1d8ef1-2c41-4fdd-8c13-dca0c7d3606a\">\n",
              "    <div class=\"colab-df-container\">\n",
              "      <div>\n",
              "<style scoped>\n",
              "    .dataframe tbody tr th:only-of-type {\n",
              "        vertical-align: middle;\n",
              "    }\n",
              "\n",
              "    .dataframe tbody tr th {\n",
              "        vertical-align: top;\n",
              "    }\n",
              "\n",
              "    .dataframe thead th {\n",
              "        text-align: right;\n",
              "    }\n",
              "</style>\n",
              "<table border=\"1\" class=\"dataframe\">\n",
              "  <thead>\n",
              "    <tr style=\"text-align: right;\">\n",
              "      <th></th>\n",
              "      <th>stage</th>\n",
              "      <th>accuracy_to_max</th>\n",
              "      <th>recall_to_max</th>\n",
              "      <th>F1_to_max</th>\n",
              "      <th>precision_to_min</th>\n",
              "      <th>time</th>\n",
              "    </tr>\n",
              "  </thead>\n",
              "  <tbody>\n",
              "    <tr>\n",
              "      <th>0</th>\n",
              "      <td>Исходные данные</td>\n",
              "      <td>0.964809</td>\n",
              "      <td>0.510037</td>\n",
              "      <td>0.511038</td>\n",
              "      <td>0.732746</td>\n",
              "      <td>0.527067</td>\n",
              "    </tr>\n",
              "    <tr>\n",
              "      <th>1</th>\n",
              "      <td>-первичная обработка</td>\n",
              "      <td>0.969208</td>\n",
              "      <td>0.511439</td>\n",
              "      <td>0.514903</td>\n",
              "      <td>0.651972</td>\n",
              "      <td>0.272950</td>\n",
              "    </tr>\n",
              "    <tr>\n",
              "      <th>2</th>\n",
              "      <td>-выбросы и пропуски</td>\n",
              "      <td>0.976153</td>\n",
              "      <td>0.500000</td>\n",
              "      <td>0.493966</td>\n",
              "      <td>0.488076</td>\n",
              "      <td>0.285265</td>\n",
              "    </tr>\n",
              "    <tr>\n",
              "      <th>3</th>\n",
              "      <td>-коррелирующие признаки</td>\n",
              "      <td>0.976153</td>\n",
              "      <td>0.500000</td>\n",
              "      <td>0.493966</td>\n",
              "      <td>0.488076</td>\n",
              "      <td>0.238575</td>\n",
              "    </tr>\n",
              "  </tbody>\n",
              "</table>\n",
              "</div>\n",
              "      <button class=\"colab-df-convert\" onclick=\"convertToInteractive('df-db1d8ef1-2c41-4fdd-8c13-dca0c7d3606a')\"\n",
              "              title=\"Convert this dataframe to an interactive table.\"\n",
              "              style=\"display:none;\">\n",
              "        \n",
              "  <svg xmlns=\"http://www.w3.org/2000/svg\" height=\"24px\"viewBox=\"0 0 24 24\"\n",
              "       width=\"24px\">\n",
              "    <path d=\"M0 0h24v24H0V0z\" fill=\"none\"/>\n",
              "    <path d=\"M18.56 5.44l.94 2.06.94-2.06 2.06-.94-2.06-.94-.94-2.06-.94 2.06-2.06.94zm-11 1L8.5 8.5l.94-2.06 2.06-.94-2.06-.94L8.5 2.5l-.94 2.06-2.06.94zm10 10l.94 2.06.94-2.06 2.06-.94-2.06-.94-.94-2.06-.94 2.06-2.06.94z\"/><path d=\"M17.41 7.96l-1.37-1.37c-.4-.4-.92-.59-1.43-.59-.52 0-1.04.2-1.43.59L10.3 9.45l-7.72 7.72c-.78.78-.78 2.05 0 2.83L4 21.41c.39.39.9.59 1.41.59.51 0 1.02-.2 1.41-.59l7.78-7.78 2.81-2.81c.8-.78.8-2.07 0-2.86zM5.41 20L4 18.59l7.72-7.72 1.47 1.35L5.41 20z\"/>\n",
              "  </svg>\n",
              "      </button>\n",
              "      \n",
              "  <style>\n",
              "    .colab-df-container {\n",
              "      display:flex;\n",
              "      flex-wrap:wrap;\n",
              "      gap: 12px;\n",
              "    }\n",
              "\n",
              "    .colab-df-convert {\n",
              "      background-color: #E8F0FE;\n",
              "      border: none;\n",
              "      border-radius: 50%;\n",
              "      cursor: pointer;\n",
              "      display: none;\n",
              "      fill: #1967D2;\n",
              "      height: 32px;\n",
              "      padding: 0 0 0 0;\n",
              "      width: 32px;\n",
              "    }\n",
              "\n",
              "    .colab-df-convert:hover {\n",
              "      background-color: #E2EBFA;\n",
              "      box-shadow: 0px 1px 2px rgba(60, 64, 67, 0.3), 0px 1px 3px 1px rgba(60, 64, 67, 0.15);\n",
              "      fill: #174EA6;\n",
              "    }\n",
              "\n",
              "    [theme=dark] .colab-df-convert {\n",
              "      background-color: #3B4455;\n",
              "      fill: #D2E3FC;\n",
              "    }\n",
              "\n",
              "    [theme=dark] .colab-df-convert:hover {\n",
              "      background-color: #434B5C;\n",
              "      box-shadow: 0px 1px 3px 1px rgba(0, 0, 0, 0.15);\n",
              "      filter: drop-shadow(0px 1px 2px rgba(0, 0, 0, 0.3));\n",
              "      fill: #FFFFFF;\n",
              "    }\n",
              "  </style>\n",
              "\n",
              "      <script>\n",
              "        const buttonEl =\n",
              "          document.querySelector('#df-db1d8ef1-2c41-4fdd-8c13-dca0c7d3606a button.colab-df-convert');\n",
              "        buttonEl.style.display =\n",
              "          google.colab.kernel.accessAllowed ? 'block' : 'none';\n",
              "\n",
              "        async function convertToInteractive(key) {\n",
              "          const element = document.querySelector('#df-db1d8ef1-2c41-4fdd-8c13-dca0c7d3606a');\n",
              "          const dataTable =\n",
              "            await google.colab.kernel.invokeFunction('convertToInteractive',\n",
              "                                                     [key], {});\n",
              "          if (!dataTable) return;\n",
              "\n",
              "          const docLinkHtml = 'Like what you see? Visit the ' +\n",
              "            '<a target=\"_blank\" href=https://colab.research.google.com/notebooks/data_table.ipynb>data table notebook</a>'\n",
              "            + ' to learn more about interactive tables.';\n",
              "          element.innerHTML = '';\n",
              "          dataTable['output_type'] = 'display_data';\n",
              "          await google.colab.output.renderOutput(dataTable, element);\n",
              "          const docLink = document.createElement('div');\n",
              "          docLink.innerHTML = docLinkHtml;\n",
              "          element.appendChild(docLink);\n",
              "        }\n",
              "      </script>\n",
              "    </div>\n",
              "  </div>\n",
              "  "
            ]
          },
          "metadata": {},
          "execution_count": 35
        }
      ]
    },
    {
      "cell_type": "markdown",
      "source": [
        "Построив модель, убеждаемся в том, что избавление от коррелирующих признаков, в целом, позволяет добиться улучшения модели, несмотря на небольшую потерю по метрике Recall"
      ],
      "metadata": {
        "id": "nd_-3QZt_FId"
      },
      "id": "nd_-3QZt_FId"
    },
    {
      "cell_type": "markdown",
      "source": [
        "## 5. Избавление от несбалансированности данных\n",
        "\n",
        "Теперь, когда проведена основная работа над качеством данных, вернемся к нашей проблеме несбалансированности классов. Ведь даже после удаления некоторых строк нам не удалось добиться равновесия и, на текущий момент, финансово-нестабильных компаний почти в 46 раз больше стабильных."
      ],
      "metadata": {
        "id": "rMPGcqZEWQ5w"
      },
      "id": "rMPGcqZEWQ5w"
    },
    {
      "cell_type": "code",
      "source": [
        "print('Financially stable: ', round(df['Bankrupt'].value_counts()[0]/len(df) * 100, 2), '% of the dataset')\n",
        "print('Financially unstable: ', round(df['Bankrupt'].value_counts()[1]/len(df) * 100, 2), '% of the dataset')"
      ],
      "metadata": {
        "colab": {
          "base_uri": "https://localhost:8080/"
        },
        "id": "WjMA1fc6WWeL",
        "outputId": "73c75fee-f122-479e-da91-667eb94d1152"
      },
      "id": "WjMA1fc6WWeL",
      "execution_count": 36,
      "outputs": [
        {
          "output_type": "stream",
          "name": "stdout",
          "text": [
            "Financially stable:  97.87 % of the dataset\n",
            "Financially unstable:  2.13 % of the dataset\n"
          ]
        }
      ]
    },
    {
      "cell_type": "markdown",
      "source": [
        "**Для баланса и точности предсказания модели используем метод обогащения классов, создающий синтетические образцы методом SMOTE («Техника передискретизации синтетического меньшинства»)**\n",
        "\n",
        "Он работает, создавая синтетические образцы из младшего класса вместо создания копий. Алгоритм выбирает два или более одинаковых экземпляра (используя меру расстояния) и возмущает один атрибут экземпляра за раз на случайную величину в пределах разницы с соседними экземплярами."
      ],
      "metadata": {
        "id": "CF2GUeRKYzTW"
      },
      "id": "CF2GUeRKYzTW"
    },
    {
      "cell_type": "code",
      "source": [
        "from imblearn.over_sampling import SMOTE\n",
        "X = df.drop(['Bankrupt'], axis = 1)\n",
        "y = df.Bankrupt\n",
        "oversample = SMOTE()\n",
        "X, y = oversample.fit_resample(X, y)\n",
        "\n",
        "df = pd.concat([y, X], axis=1)\n",
        "print(f'{len(df[df.Bankrupt == 1])} случаев банкротсва к {len(df[df.Bankrupt == 0])} не банкротсва')"
      ],
      "metadata": {
        "colab": {
          "base_uri": "https://localhost:8080/"
        },
        "id": "jGMLkUEZcD90",
        "outputId": "b763c5ec-7dea-44de-c4e4-1116a34b0260"
      },
      "id": "jGMLkUEZcD90",
      "execution_count": 37,
      "outputs": [
        {
          "output_type": "stream",
          "name": "stdout",
          "text": [
            "6153 случаев банкротсва к 6153 не банкротсва\n"
          ]
        }
      ]
    },
    {
      "cell_type": "code",
      "source": [
        "make_model(df, name = '-дисбаланс данных')"
      ],
      "metadata": {
        "colab": {
          "base_uri": "https://localhost:8080/",
          "height": 206
        },
        "id": "Mu8nH8U6cECz",
        "outputId": "9b941372-569d-478a-cf5a-9ca185fc3bd6"
      },
      "id": "Mu8nH8U6cECz",
      "execution_count": 38,
      "outputs": [
        {
          "output_type": "execute_result",
          "data": {
            "text/plain": [
              "                     stage  accuracy_to_max  recall_to_max  F1_to_max  \\\n",
              "0          Исходные данные         0.964809       0.510037   0.511038   \n",
              "1     -первичная обработка         0.969208       0.511439   0.514903   \n",
              "2      -выбросы и пропуски         0.976153       0.500000   0.493966   \n",
              "3  -коррелирующие признаки         0.976153       0.500000   0.493966   \n",
              "4        -дисбаланс данных         0.884647       0.884590   0.884068   \n",
              "\n",
              "   precision_to_min      time  \n",
              "0          0.732746  0.527067  \n",
              "1          0.651972  0.272950  \n",
              "2          0.488076  0.285265  \n",
              "3          0.488076  0.238575  \n",
              "4          0.892338  0.933021  "
            ],
            "text/html": [
              "\n",
              "  <div id=\"df-c0fc81ee-f54f-4ae3-a9f4-9c2b629d8af2\">\n",
              "    <div class=\"colab-df-container\">\n",
              "      <div>\n",
              "<style scoped>\n",
              "    .dataframe tbody tr th:only-of-type {\n",
              "        vertical-align: middle;\n",
              "    }\n",
              "\n",
              "    .dataframe tbody tr th {\n",
              "        vertical-align: top;\n",
              "    }\n",
              "\n",
              "    .dataframe thead th {\n",
              "        text-align: right;\n",
              "    }\n",
              "</style>\n",
              "<table border=\"1\" class=\"dataframe\">\n",
              "  <thead>\n",
              "    <tr style=\"text-align: right;\">\n",
              "      <th></th>\n",
              "      <th>stage</th>\n",
              "      <th>accuracy_to_max</th>\n",
              "      <th>recall_to_max</th>\n",
              "      <th>F1_to_max</th>\n",
              "      <th>precision_to_min</th>\n",
              "      <th>time</th>\n",
              "    </tr>\n",
              "  </thead>\n",
              "  <tbody>\n",
              "    <tr>\n",
              "      <th>0</th>\n",
              "      <td>Исходные данные</td>\n",
              "      <td>0.964809</td>\n",
              "      <td>0.510037</td>\n",
              "      <td>0.511038</td>\n",
              "      <td>0.732746</td>\n",
              "      <td>0.527067</td>\n",
              "    </tr>\n",
              "    <tr>\n",
              "      <th>1</th>\n",
              "      <td>-первичная обработка</td>\n",
              "      <td>0.969208</td>\n",
              "      <td>0.511439</td>\n",
              "      <td>0.514903</td>\n",
              "      <td>0.651972</td>\n",
              "      <td>0.272950</td>\n",
              "    </tr>\n",
              "    <tr>\n",
              "      <th>2</th>\n",
              "      <td>-выбросы и пропуски</td>\n",
              "      <td>0.976153</td>\n",
              "      <td>0.500000</td>\n",
              "      <td>0.493966</td>\n",
              "      <td>0.488076</td>\n",
              "      <td>0.285265</td>\n",
              "    </tr>\n",
              "    <tr>\n",
              "      <th>3</th>\n",
              "      <td>-коррелирующие признаки</td>\n",
              "      <td>0.976153</td>\n",
              "      <td>0.500000</td>\n",
              "      <td>0.493966</td>\n",
              "      <td>0.488076</td>\n",
              "      <td>0.238575</td>\n",
              "    </tr>\n",
              "    <tr>\n",
              "      <th>4</th>\n",
              "      <td>-дисбаланс данных</td>\n",
              "      <td>0.884647</td>\n",
              "      <td>0.884590</td>\n",
              "      <td>0.884068</td>\n",
              "      <td>0.892338</td>\n",
              "      <td>0.933021</td>\n",
              "    </tr>\n",
              "  </tbody>\n",
              "</table>\n",
              "</div>\n",
              "      <button class=\"colab-df-convert\" onclick=\"convertToInteractive('df-c0fc81ee-f54f-4ae3-a9f4-9c2b629d8af2')\"\n",
              "              title=\"Convert this dataframe to an interactive table.\"\n",
              "              style=\"display:none;\">\n",
              "        \n",
              "  <svg xmlns=\"http://www.w3.org/2000/svg\" height=\"24px\"viewBox=\"0 0 24 24\"\n",
              "       width=\"24px\">\n",
              "    <path d=\"M0 0h24v24H0V0z\" fill=\"none\"/>\n",
              "    <path d=\"M18.56 5.44l.94 2.06.94-2.06 2.06-.94-2.06-.94-.94-2.06-.94 2.06-2.06.94zm-11 1L8.5 8.5l.94-2.06 2.06-.94-2.06-.94L8.5 2.5l-.94 2.06-2.06.94zm10 10l.94 2.06.94-2.06 2.06-.94-2.06-.94-.94-2.06-.94 2.06-2.06.94z\"/><path d=\"M17.41 7.96l-1.37-1.37c-.4-.4-.92-.59-1.43-.59-.52 0-1.04.2-1.43.59L10.3 9.45l-7.72 7.72c-.78.78-.78 2.05 0 2.83L4 21.41c.39.39.9.59 1.41.59.51 0 1.02-.2 1.41-.59l7.78-7.78 2.81-2.81c.8-.78.8-2.07 0-2.86zM5.41 20L4 18.59l7.72-7.72 1.47 1.35L5.41 20z\"/>\n",
              "  </svg>\n",
              "      </button>\n",
              "      \n",
              "  <style>\n",
              "    .colab-df-container {\n",
              "      display:flex;\n",
              "      flex-wrap:wrap;\n",
              "      gap: 12px;\n",
              "    }\n",
              "\n",
              "    .colab-df-convert {\n",
              "      background-color: #E8F0FE;\n",
              "      border: none;\n",
              "      border-radius: 50%;\n",
              "      cursor: pointer;\n",
              "      display: none;\n",
              "      fill: #1967D2;\n",
              "      height: 32px;\n",
              "      padding: 0 0 0 0;\n",
              "      width: 32px;\n",
              "    }\n",
              "\n",
              "    .colab-df-convert:hover {\n",
              "      background-color: #E2EBFA;\n",
              "      box-shadow: 0px 1px 2px rgba(60, 64, 67, 0.3), 0px 1px 3px 1px rgba(60, 64, 67, 0.15);\n",
              "      fill: #174EA6;\n",
              "    }\n",
              "\n",
              "    [theme=dark] .colab-df-convert {\n",
              "      background-color: #3B4455;\n",
              "      fill: #D2E3FC;\n",
              "    }\n",
              "\n",
              "    [theme=dark] .colab-df-convert:hover {\n",
              "      background-color: #434B5C;\n",
              "      box-shadow: 0px 1px 3px 1px rgba(0, 0, 0, 0.15);\n",
              "      filter: drop-shadow(0px 1px 2px rgba(0, 0, 0, 0.3));\n",
              "      fill: #FFFFFF;\n",
              "    }\n",
              "  </style>\n",
              "\n",
              "      <script>\n",
              "        const buttonEl =\n",
              "          document.querySelector('#df-c0fc81ee-f54f-4ae3-a9f4-9c2b629d8af2 button.colab-df-convert');\n",
              "        buttonEl.style.display =\n",
              "          google.colab.kernel.accessAllowed ? 'block' : 'none';\n",
              "\n",
              "        async function convertToInteractive(key) {\n",
              "          const element = document.querySelector('#df-c0fc81ee-f54f-4ae3-a9f4-9c2b629d8af2');\n",
              "          const dataTable =\n",
              "            await google.colab.kernel.invokeFunction('convertToInteractive',\n",
              "                                                     [key], {});\n",
              "          if (!dataTable) return;\n",
              "\n",
              "          const docLinkHtml = 'Like what you see? Visit the ' +\n",
              "            '<a target=\"_blank\" href=https://colab.research.google.com/notebooks/data_table.ipynb>data table notebook</a>'\n",
              "            + ' to learn more about interactive tables.';\n",
              "          element.innerHTML = '';\n",
              "          dataTable['output_type'] = 'display_data';\n",
              "          await google.colab.output.renderOutput(dataTable, element);\n",
              "          const docLink = document.createElement('div');\n",
              "          docLink.innerHTML = docLinkHtml;\n",
              "          element.appendChild(docLink);\n",
              "        }\n",
              "      </script>\n",
              "    </div>\n",
              "  </div>\n",
              "  "
            ]
          },
          "metadata": {},
          "execution_count": 38
        }
      ]
    },
    {
      "cell_type": "markdown",
      "source": [
        "Наблюдаем, что метод искусственной генерации данных для балансировки класса позволил добиться значительного увеличения таких метрик, как recall и F1, но, вместе с этим, общая метрика Accuracy снизилась на 10%. Это может говорить нам о том, что побеждая одну проблему, всегда есть риск встретиться со второй: справившись с дисбалансом мы немного потерли в точности, однако повысили количество ложно-отрицательных "
      ],
      "metadata": {
        "id": "I9C8adtT_e2D"
      },
      "id": "I9C8adtT_e2D"
    },
    {
      "cell_type": "markdown",
      "source": [
        "# Работа с признаками\n",
        "\n",
        "\n",
        "---\n",
        "\n",
        "\n",
        "После обогащения данных в части корректировки отдельных признаков пришло время сократить количество признаков в датасете. В этом случае предлагается использование одного из методов поиска значимых (главных) компонент: первый – PCA – позволит сгруппировать все признаки в число n (выбирается пользователем), а второй – метод взаимной классификации – выберет наиболее значимые для целевой переменной среди исходных.\n",
        "\n",
        "---\n"
      ],
      "metadata": {
        "id": "GRngNGZg_zmW"
      },
      "id": "GRngNGZg_zmW"
    },
    {
      "cell_type": "markdown",
      "source": [
        "## 6.1. PCA + стандартизация\n",
        "\n",
        "Импортируем библиотеку для изменения масштаба данных и преобразуем 53 оставшихся признака (отдельно от целевой переменной) к двадцати главным компонентам.\n",
        "\n",
        "Перед тем, как применить РСА, необходимо отмасштабировать данные таким образом, чтобы каждый признак имел единичную дисперсию, воспользовавшись StandardScaler, так как этот метод очень чувствителен к дисперсиям исходных Признаков. Если есть большие различия между диапазонами исходных переменных, те переменные с большими диапазонами будут преобладать над остальными (например, переменная в диапазоне от 0 до 100, будет доминировать над той, что лежит в диапазоне от 0 до 1), что приведет к необъективным итогам."
      ],
      "metadata": {
        "id": "L2WyNTeDkY3X"
      },
      "id": "L2WyNTeDkY3X"
    },
    {
      "cell_type": "code",
      "source": [
        "dfff = df.copy()"
      ],
      "metadata": {
        "id": "2G7bbR62ArvK"
      },
      "id": "2G7bbR62ArvK",
      "execution_count": 39,
      "outputs": []
    },
    {
      "cell_type": "code",
      "source": [
        "X = dfff.drop(['Bankrupt'], axis = 1) # факторные переменные\n",
        "y = dfff.Bankrupt\n",
        "\n",
        "scaling=StandardScaler()\n",
        "scaling.fit(X) \n",
        "Scaled_data=scaling.transform(X)\n",
        "\n",
        "# преобразуем данные к двум главным компонентам\n",
        "pca = PCA(n_components=20)\n",
        "X_pca = pca.fit_transform(X)\n",
        "print(\"Форма исходного массива: {}\".format(str(X.shape)))\n",
        "print(\"Форма массива после сокращения размерности: {}\".format(str(X_pca.shape)))\n",
        "print(\"Форма: {}\".format(str(y.shape)))"
      ],
      "metadata": {
        "colab": {
          "base_uri": "https://localhost:8080/"
        },
        "id": "yfHJ8soHkZIv",
        "outputId": "9d13844f-e860-441b-de43-bc2873d6aaf0"
      },
      "id": "yfHJ8soHkZIv",
      "execution_count": 40,
      "outputs": [
        {
          "output_type": "stream",
          "name": "stdout",
          "text": [
            "Форма исходного массива: (12306, 53)\n",
            "Форма массива после сокращения размерности: (12306, 20)\n",
            "Форма: (12306,)\n"
          ]
        }
      ]
    },
    {
      "cell_type": "markdown",
      "source": [
        "Недостаток PCA заключается в том, что эти две оси графика часто бывает сложно интерпретировать. Главные компоненты соответствуют направлениям данных, поэтому они представляют собой комбинации исходных признаков. Поэтому этот метод стоит использовать только в том случае, если объяснение предикторов не является приоритетом."
      ],
      "metadata": {
        "id": "juiQwmoCAKy-"
      },
      "id": "juiQwmoCAKy-"
    },
    {
      "cell_type": "code",
      "source": [
        "X_pca = pd.DataFrame(X_pca)\n",
        "X_pca['Bankrupt'] = y"
      ],
      "metadata": {
        "id": "FtOQvUABV-j3"
      },
      "id": "FtOQvUABV-j3",
      "execution_count": 41,
      "outputs": []
    },
    {
      "cell_type": "code",
      "source": [
        "make_model(X_pca, name = '-pca20')"
      ],
      "metadata": {
        "colab": {
          "base_uri": "https://localhost:8080/",
          "height": 237
        },
        "id": "9oYgSc6bm-ue",
        "outputId": "c31e3509-2759-412e-e288-5eb4b7cb6f76"
      },
      "id": "9oYgSc6bm-ue",
      "execution_count": 42,
      "outputs": [
        {
          "output_type": "execute_result",
          "data": {
            "text/plain": [
              "                     stage  accuracy_to_max  recall_to_max  F1_to_max  \\\n",
              "0          Исходные данные         0.964809       0.510037   0.511038   \n",
              "1     -первичная обработка         0.969208       0.511439   0.514903   \n",
              "2      -выбросы и пропуски         0.976153       0.500000   0.493966   \n",
              "3  -коррелирующие признаки         0.976153       0.500000   0.493966   \n",
              "4        -дисбаланс данных         0.884647       0.884590   0.884068   \n",
              "5                   -pca20         0.878554       0.879333   0.878209   \n",
              "\n",
              "   precision_to_min      time  \n",
              "0          0.732746  0.527067  \n",
              "1          0.651972  0.272950  \n",
              "2          0.488076  0.285265  \n",
              "3          0.488076  0.238575  \n",
              "4          0.892338  0.933021  \n",
              "5          0.884688  0.578098  "
            ],
            "text/html": [
              "\n",
              "  <div id=\"df-5e64a08e-5f7f-4a45-957f-ce178fe88c7f\">\n",
              "    <div class=\"colab-df-container\">\n",
              "      <div>\n",
              "<style scoped>\n",
              "    .dataframe tbody tr th:only-of-type {\n",
              "        vertical-align: middle;\n",
              "    }\n",
              "\n",
              "    .dataframe tbody tr th {\n",
              "        vertical-align: top;\n",
              "    }\n",
              "\n",
              "    .dataframe thead th {\n",
              "        text-align: right;\n",
              "    }\n",
              "</style>\n",
              "<table border=\"1\" class=\"dataframe\">\n",
              "  <thead>\n",
              "    <tr style=\"text-align: right;\">\n",
              "      <th></th>\n",
              "      <th>stage</th>\n",
              "      <th>accuracy_to_max</th>\n",
              "      <th>recall_to_max</th>\n",
              "      <th>F1_to_max</th>\n",
              "      <th>precision_to_min</th>\n",
              "      <th>time</th>\n",
              "    </tr>\n",
              "  </thead>\n",
              "  <tbody>\n",
              "    <tr>\n",
              "      <th>0</th>\n",
              "      <td>Исходные данные</td>\n",
              "      <td>0.964809</td>\n",
              "      <td>0.510037</td>\n",
              "      <td>0.511038</td>\n",
              "      <td>0.732746</td>\n",
              "      <td>0.527067</td>\n",
              "    </tr>\n",
              "    <tr>\n",
              "      <th>1</th>\n",
              "      <td>-первичная обработка</td>\n",
              "      <td>0.969208</td>\n",
              "      <td>0.511439</td>\n",
              "      <td>0.514903</td>\n",
              "      <td>0.651972</td>\n",
              "      <td>0.272950</td>\n",
              "    </tr>\n",
              "    <tr>\n",
              "      <th>2</th>\n",
              "      <td>-выбросы и пропуски</td>\n",
              "      <td>0.976153</td>\n",
              "      <td>0.500000</td>\n",
              "      <td>0.493966</td>\n",
              "      <td>0.488076</td>\n",
              "      <td>0.285265</td>\n",
              "    </tr>\n",
              "    <tr>\n",
              "      <th>3</th>\n",
              "      <td>-коррелирующие признаки</td>\n",
              "      <td>0.976153</td>\n",
              "      <td>0.500000</td>\n",
              "      <td>0.493966</td>\n",
              "      <td>0.488076</td>\n",
              "      <td>0.238575</td>\n",
              "    </tr>\n",
              "    <tr>\n",
              "      <th>4</th>\n",
              "      <td>-дисбаланс данных</td>\n",
              "      <td>0.884647</td>\n",
              "      <td>0.884590</td>\n",
              "      <td>0.884068</td>\n",
              "      <td>0.892338</td>\n",
              "      <td>0.933021</td>\n",
              "    </tr>\n",
              "    <tr>\n",
              "      <th>5</th>\n",
              "      <td>-pca20</td>\n",
              "      <td>0.878554</td>\n",
              "      <td>0.879333</td>\n",
              "      <td>0.878209</td>\n",
              "      <td>0.884688</td>\n",
              "      <td>0.578098</td>\n",
              "    </tr>\n",
              "  </tbody>\n",
              "</table>\n",
              "</div>\n",
              "      <button class=\"colab-df-convert\" onclick=\"convertToInteractive('df-5e64a08e-5f7f-4a45-957f-ce178fe88c7f')\"\n",
              "              title=\"Convert this dataframe to an interactive table.\"\n",
              "              style=\"display:none;\">\n",
              "        \n",
              "  <svg xmlns=\"http://www.w3.org/2000/svg\" height=\"24px\"viewBox=\"0 0 24 24\"\n",
              "       width=\"24px\">\n",
              "    <path d=\"M0 0h24v24H0V0z\" fill=\"none\"/>\n",
              "    <path d=\"M18.56 5.44l.94 2.06.94-2.06 2.06-.94-2.06-.94-.94-2.06-.94 2.06-2.06.94zm-11 1L8.5 8.5l.94-2.06 2.06-.94-2.06-.94L8.5 2.5l-.94 2.06-2.06.94zm10 10l.94 2.06.94-2.06 2.06-.94-2.06-.94-.94-2.06-.94 2.06-2.06.94z\"/><path d=\"M17.41 7.96l-1.37-1.37c-.4-.4-.92-.59-1.43-.59-.52 0-1.04.2-1.43.59L10.3 9.45l-7.72 7.72c-.78.78-.78 2.05 0 2.83L4 21.41c.39.39.9.59 1.41.59.51 0 1.02-.2 1.41-.59l7.78-7.78 2.81-2.81c.8-.78.8-2.07 0-2.86zM5.41 20L4 18.59l7.72-7.72 1.47 1.35L5.41 20z\"/>\n",
              "  </svg>\n",
              "      </button>\n",
              "      \n",
              "  <style>\n",
              "    .colab-df-container {\n",
              "      display:flex;\n",
              "      flex-wrap:wrap;\n",
              "      gap: 12px;\n",
              "    }\n",
              "\n",
              "    .colab-df-convert {\n",
              "      background-color: #E8F0FE;\n",
              "      border: none;\n",
              "      border-radius: 50%;\n",
              "      cursor: pointer;\n",
              "      display: none;\n",
              "      fill: #1967D2;\n",
              "      height: 32px;\n",
              "      padding: 0 0 0 0;\n",
              "      width: 32px;\n",
              "    }\n",
              "\n",
              "    .colab-df-convert:hover {\n",
              "      background-color: #E2EBFA;\n",
              "      box-shadow: 0px 1px 2px rgba(60, 64, 67, 0.3), 0px 1px 3px 1px rgba(60, 64, 67, 0.15);\n",
              "      fill: #174EA6;\n",
              "    }\n",
              "\n",
              "    [theme=dark] .colab-df-convert {\n",
              "      background-color: #3B4455;\n",
              "      fill: #D2E3FC;\n",
              "    }\n",
              "\n",
              "    [theme=dark] .colab-df-convert:hover {\n",
              "      background-color: #434B5C;\n",
              "      box-shadow: 0px 1px 3px 1px rgba(0, 0, 0, 0.15);\n",
              "      filter: drop-shadow(0px 1px 2px rgba(0, 0, 0, 0.3));\n",
              "      fill: #FFFFFF;\n",
              "    }\n",
              "  </style>\n",
              "\n",
              "      <script>\n",
              "        const buttonEl =\n",
              "          document.querySelector('#df-5e64a08e-5f7f-4a45-957f-ce178fe88c7f button.colab-df-convert');\n",
              "        buttonEl.style.display =\n",
              "          google.colab.kernel.accessAllowed ? 'block' : 'none';\n",
              "\n",
              "        async function convertToInteractive(key) {\n",
              "          const element = document.querySelector('#df-5e64a08e-5f7f-4a45-957f-ce178fe88c7f');\n",
              "          const dataTable =\n",
              "            await google.colab.kernel.invokeFunction('convertToInteractive',\n",
              "                                                     [key], {});\n",
              "          if (!dataTable) return;\n",
              "\n",
              "          const docLinkHtml = 'Like what you see? Visit the ' +\n",
              "            '<a target=\"_blank\" href=https://colab.research.google.com/notebooks/data_table.ipynb>data table notebook</a>'\n",
              "            + ' to learn more about interactive tables.';\n",
              "          element.innerHTML = '';\n",
              "          dataTable['output_type'] = 'display_data';\n",
              "          await google.colab.output.renderOutput(dataTable, element);\n",
              "          const docLink = document.createElement('div');\n",
              "          docLink.innerHTML = docLinkHtml;\n",
              "          element.appendChild(docLink);\n",
              "        }\n",
              "      </script>\n",
              "    </div>\n",
              "  </div>\n",
              "  "
            ]
          },
          "metadata": {},
          "execution_count": 42
        }
      ]
    },
    {
      "cell_type": "markdown",
      "source": [
        "Теперь вернемся с данным, полученным до преобразований PCA и посмотрим, насколько изменятся метрики качества будущей модели, если мы будем исключать незначимые признаки, а не добиваться точности путем смешения существующих признаков."
      ],
      "metadata": {
        "id": "54OtJlmjAJFn"
      },
      "id": "54OtJlmjAJFn"
    },
    {
      "cell_type": "markdown",
      "source": [
        "## 6.2. Mетод взаимной классификации для определения наиболее значимых признаков\n",
        "\n",
        "Воспользуемся методом взаимной классификации признаков для измерения зависимости функций от целевого значения «Bankrupt»\n",
        "\n",
        "Метод mutual_info_classif вычисляет взаимную информационную ценность для каждой из независимых переменных по отношению к зависимой переменной и выбирает те, которые имеют наибольший информационный прирост. Иными словами, он в основном измеряет зависимость функций от целевого значения. На выходе определяется рейтинг (балл) значимости каждой переменной."
      ],
      "metadata": {
        "id": "KO-PXsjDMdhW"
      },
      "id": "KO-PXsjDMdhW"
    },
    {
      "cell_type": "code",
      "execution_count": 48,
      "id": "fb2abc9d",
      "metadata": {
        "id": "fb2abc9d"
      },
      "outputs": [],
      "source": [
        "X = df.drop(['Bankrupt'], axis = 1) # факторные переменные\n",
        "y = df.Bankrupt"
      ]
    },
    {
      "cell_type": "code",
      "execution_count": 49,
      "id": "09828cd0",
      "metadata": {
        "id": "09828cd0",
        "colab": {
          "base_uri": "https://localhost:8080/",
          "height": 600
        },
        "outputId": "02dab29f-f6c2-4b01-8b1e-b7ae29efa130"
      },
      "outputs": [
        {
          "output_type": "display_data",
          "data": {
            "text/plain": [
              "<Figure size 1080x720 with 1 Axes>"
            ],
            "image/png": "[encoded data removed]"
          },
          "metadata": {}
        }
      ],
      "source": [
        "from sklearn.feature_selection import mutual_info_classif\n",
        "\n",
        "plt.figure(figsize = (15,10))\n",
        "importances = mutual_info_classif(X, y)\n",
        "feature_importances = pd.Series(importances, X.columns[0:len(df.columns)-1]).sort_values()\n",
        "feature_importances.plot(kind='bar', color='teal')\n",
        "plt.show()"
      ]
    },
    {
      "cell_type": "markdown",
      "source": [
        "Выведем на экран отдельный датафрейм, в виде: «признак» - «коэффициент значимости». Сократим используемый датасет до признаков, значимость которых выше 5%."
      ],
      "metadata": {
        "id": "uzwabPDbAnQE"
      },
      "id": "uzwabPDbAnQE"
    },
    {
      "cell_type": "code",
      "source": [
        "feature_importances = pd.DataFrame({'column':feature_importances.index, 'imortance': feature_importances.values}).sort_values(by = 'imortance')\n",
        "feature_importances.head()"
      ],
      "metadata": {
        "colab": {
          "base_uri": "https://localhost:8080/",
          "height": 206
        },
        "id": "k9XWcmLUldmH",
        "outputId": "a5f890cc-2fe1-4b80-e374-cab7853a3a5a"
      },
      "id": "k9XWcmLUldmH",
      "execution_count": 50,
      "outputs": [
        {
          "output_type": "execute_result",
          "data": {
            "text/plain": [
              "  column  imortance\n",
              "0    X47   0.017926\n",
              "1    X26   0.029045\n",
              "2    X56   0.030373\n",
              "3    X70   0.037493\n",
              "4    X24   0.041192"
            ],
            "text/html": [
              "\n",
              "  <div id=\"df-84cea8a8-08fc-4fc2-a99c-37ac97d1b7fa\">\n",
              "    <div class=\"colab-df-container\">\n",
              "      <div>\n",
              "<style scoped>\n",
              "    .dataframe tbody tr th:only-of-type {\n",
              "        vertical-align: middle;\n",
              "    }\n",
              "\n",
              "    .dataframe tbody tr th {\n",
              "        vertical-align: top;\n",
              "    }\n",
              "\n",
              "    .dataframe thead th {\n",
              "        text-align: right;\n",
              "    }\n",
              "</style>\n",
              "<table border=\"1\" class=\"dataframe\">\n",
              "  <thead>\n",
              "    <tr style=\"text-align: right;\">\n",
              "      <th></th>\n",
              "      <th>column</th>\n",
              "      <th>imortance</th>\n",
              "    </tr>\n",
              "  </thead>\n",
              "  <tbody>\n",
              "    <tr>\n",
              "      <th>0</th>\n",
              "      <td>X47</td>\n",
              "      <td>0.017926</td>\n",
              "    </tr>\n",
              "    <tr>\n",
              "      <th>1</th>\n",
              "      <td>X26</td>\n",
              "      <td>0.029045</td>\n",
              "    </tr>\n",
              "    <tr>\n",
              "      <th>2</th>\n",
              "      <td>X56</td>\n",
              "      <td>0.030373</td>\n",
              "    </tr>\n",
              "    <tr>\n",
              "      <th>3</th>\n",
              "      <td>X70</td>\n",
              "      <td>0.037493</td>\n",
              "    </tr>\n",
              "    <tr>\n",
              "      <th>4</th>\n",
              "      <td>X24</td>\n",
              "      <td>0.041192</td>\n",
              "    </tr>\n",
              "  </tbody>\n",
              "</table>\n",
              "</div>\n",
              "      <button class=\"colab-df-convert\" onclick=\"convertToInteractive('df-84cea8a8-08fc-4fc2-a99c-37ac97d1b7fa')\"\n",
              "              title=\"Convert this dataframe to an interactive table.\"\n",
              "              style=\"display:none;\">\n",
              "        \n",
              "  <svg xmlns=\"http://www.w3.org/2000/svg\" height=\"24px\"viewBox=\"0 0 24 24\"\n",
              "       width=\"24px\">\n",
              "    <path d=\"M0 0h24v24H0V0z\" fill=\"none\"/>\n",
              "    <path d=\"M18.56 5.44l.94 2.06.94-2.06 2.06-.94-2.06-.94-.94-2.06-.94 2.06-2.06.94zm-11 1L8.5 8.5l.94-2.06 2.06-.94-2.06-.94L8.5 2.5l-.94 2.06-2.06.94zm10 10l.94 2.06.94-2.06 2.06-.94-2.06-.94-.94-2.06-.94 2.06-2.06.94z\"/><path d=\"M17.41 7.96l-1.37-1.37c-.4-.4-.92-.59-1.43-.59-.52 0-1.04.2-1.43.59L10.3 9.45l-7.72 7.72c-.78.78-.78 2.05 0 2.83L4 21.41c.39.39.9.59 1.41.59.51 0 1.02-.2 1.41-.59l7.78-7.78 2.81-2.81c.8-.78.8-2.07 0-2.86zM5.41 20L4 18.59l7.72-7.72 1.47 1.35L5.41 20z\"/>\n",
              "  </svg>\n",
              "      </button>\n",
              "      \n",
              "  <style>\n",
              "    .colab-df-container {\n",
              "      display:flex;\n",
              "      flex-wrap:wrap;\n",
              "      gap: 12px;\n",
              "    }\n",
              "\n",
              "    .colab-df-convert {\n",
              "      background-color: #E8F0FE;\n",
              "      border: none;\n",
              "      border-radius: 50%;\n",
              "      cursor: pointer;\n",
              "      display: none;\n",
              "      fill: #1967D2;\n",
              "      height: 32px;\n",
              "      padding: 0 0 0 0;\n",
              "      width: 32px;\n",
              "    }\n",
              "\n",
              "    .colab-df-convert:hover {\n",
              "      background-color: #E2EBFA;\n",
              "      box-shadow: 0px 1px 2px rgba(60, 64, 67, 0.3), 0px 1px 3px 1px rgba(60, 64, 67, 0.15);\n",
              "      fill: #174EA6;\n",
              "    }\n",
              "\n",
              "    [theme=dark] .colab-df-convert {\n",
              "      background-color: #3B4455;\n",
              "      fill: #D2E3FC;\n",
              "    }\n",
              "\n",
              "    [theme=dark] .colab-df-convert:hover {\n",
              "      background-color: #434B5C;\n",
              "      box-shadow: 0px 1px 3px 1px rgba(0, 0, 0, 0.15);\n",
              "      filter: drop-shadow(0px 1px 2px rgba(0, 0, 0, 0.3));\n",
              "      fill: #FFFFFF;\n",
              "    }\n",
              "  </style>\n",
              "\n",
              "      <script>\n",
              "        const buttonEl =\n",
              "          document.querySelector('#df-84cea8a8-08fc-4fc2-a99c-37ac97d1b7fa button.colab-df-convert');\n",
              "        buttonEl.style.display =\n",
              "          google.colab.kernel.accessAllowed ? 'block' : 'none';\n",
              "\n",
              "        async function convertToInteractive(key) {\n",
              "          const element = document.querySelector('#df-84cea8a8-08fc-4fc2-a99c-37ac97d1b7fa');\n",
              "          const dataTable =\n",
              "            await google.colab.kernel.invokeFunction('convertToInteractive',\n",
              "                                                     [key], {});\n",
              "          if (!dataTable) return;\n",
              "\n",
              "          const docLinkHtml = 'Like what you see? Visit the ' +\n",
              "            '<a target=\"_blank\" href=https://colab.research.google.com/notebooks/data_table.ipynb>data table notebook</a>'\n",
              "            + ' to learn more about interactive tables.';\n",
              "          element.innerHTML = '';\n",
              "          dataTable['output_type'] = 'display_data';\n",
              "          await google.colab.output.renderOutput(dataTable, element);\n",
              "          const docLink = document.createElement('div');\n",
              "          docLink.innerHTML = docLinkHtml;\n",
              "          element.appendChild(docLink);\n",
              "        }\n",
              "      </script>\n",
              "    </div>\n",
              "  </div>\n",
              "  "
            ]
          },
          "metadata": {},
          "execution_count": 50
        }
      ]
    },
    {
      "cell_type": "code",
      "source": [
        "# Удалим совсем незначимые признаки (важность > 0.5)\n",
        "unimportant_features = list(feature_importances[feature_importances.imortance < 0.05].column)\n",
        "unimportant_features"
      ],
      "metadata": {
        "colab": {
          "base_uri": "https://localhost:8080/"
        },
        "id": "tgSJtTiGmMLK",
        "outputId": "1b98dc22-3dfb-42f6-d4a2-d886a2cf3b0c"
      },
      "id": "tgSJtTiGmMLK",
      "execution_count": 51,
      "outputs": [
        {
          "output_type": "execute_result",
          "data": {
            "text/plain": [
              "['X47', 'X26', 'X56', 'X70', 'X24', 'X55', 'X25']"
            ]
          },
          "metadata": {},
          "execution_count": 51
        }
      ]
    },
    {
      "cell_type": "code",
      "source": [
        "df = df.drop(unimportant_features, axis = 1)"
      ],
      "metadata": {
        "id": "Kh_BZ5iKmMQ5"
      },
      "id": "Kh_BZ5iKmMQ5",
      "execution_count": 52,
      "outputs": []
    },
    {
      "cell_type": "code",
      "source": [
        "df.shape"
      ],
      "metadata": {
        "colab": {
          "base_uri": "https://localhost:8080/"
        },
        "id": "-4Fx6g8-n_H0",
        "outputId": "92f45aa2-7991-4b5a-9d87-c95cdb0e1288"
      },
      "id": "-4Fx6g8-n_H0",
      "execution_count": 53,
      "outputs": [
        {
          "output_type": "execute_result",
          "data": {
            "text/plain": [
              "(12306, 47)"
            ]
          },
          "metadata": {},
          "execution_count": 53
        }
      ]
    },
    {
      "cell_type": "code",
      "execution_count": 54,
      "id": "45d20a85",
      "metadata": {
        "id": "45d20a85",
        "colab": {
          "base_uri": "https://localhost:8080/",
          "height": 269
        },
        "outputId": "4e3da97b-c0a9-464a-a652-681f31c7e16f"
      },
      "outputs": [
        {
          "output_type": "execute_result",
          "data": {
            "text/plain": [
              "                     stage  accuracy_to_max  recall_to_max  F1_to_max  \\\n",
              "0          Исходные данные         0.964809       0.510037   0.511038   \n",
              "1     -первичная обработка         0.969208       0.511439   0.514903   \n",
              "2      -выбросы и пропуски         0.976153       0.500000   0.493966   \n",
              "3  -коррелирующие признаки         0.976153       0.500000   0.493966   \n",
              "4        -дисбаланс данных         0.884647       0.884590   0.884068   \n",
              "5                   -pca20         0.878554       0.879333   0.878209   \n",
              "6     -незначимые признаки         0.889115       0.888958   0.888626   \n",
              "\n",
              "   precision_to_min      time  \n",
              "0          0.732746  0.527067  \n",
              "1          0.651972  0.272950  \n",
              "2          0.488076  0.285265  \n",
              "3          0.488076  0.238575  \n",
              "4          0.892338  0.933021  \n",
              "5          0.884688  0.578098  \n",
              "6          0.895640  0.716787  "
            ],
            "text/html": [
              "\n",
              "  <div id=\"df-f8e5f006-75b8-46aa-b152-2cd38a427115\">\n",
              "    <div class=\"colab-df-container\">\n",
              "      <div>\n",
              "<style scoped>\n",
              "    .dataframe tbody tr th:only-of-type {\n",
              "        vertical-align: middle;\n",
              "    }\n",
              "\n",
              "    .dataframe tbody tr th {\n",
              "        vertical-align: top;\n",
              "    }\n",
              "\n",
              "    .dataframe thead th {\n",
              "        text-align: right;\n",
              "    }\n",
              "</style>\n",
              "<table border=\"1\" class=\"dataframe\">\n",
              "  <thead>\n",
              "    <tr style=\"text-align: right;\">\n",
              "      <th></th>\n",
              "      <th>stage</th>\n",
              "      <th>accuracy_to_max</th>\n",
              "      <th>recall_to_max</th>\n",
              "      <th>F1_to_max</th>\n",
              "      <th>precision_to_min</th>\n",
              "      <th>time</th>\n",
              "    </tr>\n",
              "  </thead>\n",
              "  <tbody>\n",
              "    <tr>\n",
              "      <th>0</th>\n",
              "      <td>Исходные данные</td>\n",
              "      <td>0.964809</td>\n",
              "      <td>0.510037</td>\n",
              "      <td>0.511038</td>\n",
              "      <td>0.732746</td>\n",
              "      <td>0.527067</td>\n",
              "    </tr>\n",
              "    <tr>\n",
              "      <th>1</th>\n",
              "      <td>-первичная обработка</td>\n",
              "      <td>0.969208</td>\n",
              "      <td>0.511439</td>\n",
              "      <td>0.514903</td>\n",
              "      <td>0.651972</td>\n",
              "      <td>0.272950</td>\n",
              "    </tr>\n",
              "    <tr>\n",
              "      <th>2</th>\n",
              "      <td>-выбросы и пропуски</td>\n",
              "      <td>0.976153</td>\n",
              "      <td>0.500000</td>\n",
              "      <td>0.493966</td>\n",
              "      <td>0.488076</td>\n",
              "      <td>0.285265</td>\n",
              "    </tr>\n",
              "    <tr>\n",
              "      <th>3</th>\n",
              "      <td>-коррелирующие признаки</td>\n",
              "      <td>0.976153</td>\n",
              "      <td>0.500000</td>\n",
              "      <td>0.493966</td>\n",
              "      <td>0.488076</td>\n",
              "      <td>0.238575</td>\n",
              "    </tr>\n",
              "    <tr>\n",
              "      <th>4</th>\n",
              "      <td>-дисбаланс данных</td>\n",
              "      <td>0.884647</td>\n",
              "      <td>0.884590</td>\n",
              "      <td>0.884068</td>\n",
              "      <td>0.892338</td>\n",
              "      <td>0.933021</td>\n",
              "    </tr>\n",
              "    <tr>\n",
              "      <th>5</th>\n",
              "      <td>-pca20</td>\n",
              "      <td>0.878554</td>\n",
              "      <td>0.879333</td>\n",
              "      <td>0.878209</td>\n",
              "      <td>0.884688</td>\n",
              "      <td>0.578098</td>\n",
              "    </tr>\n",
              "    <tr>\n",
              "      <th>6</th>\n",
              "      <td>-незначимые признаки</td>\n",
              "      <td>0.889115</td>\n",
              "      <td>0.888958</td>\n",
              "      <td>0.888626</td>\n",
              "      <td>0.895640</td>\n",
              "      <td>0.716787</td>\n",
              "    </tr>\n",
              "  </tbody>\n",
              "</table>\n",
              "</div>\n",
              "      <button class=\"colab-df-convert\" onclick=\"convertToInteractive('df-f8e5f006-75b8-46aa-b152-2cd38a427115')\"\n",
              "              title=\"Convert this dataframe to an interactive table.\"\n",
              "              style=\"display:none;\">\n",
              "        \n",
              "  <svg xmlns=\"http://www.w3.org/2000/svg\" height=\"24px\"viewBox=\"0 0 24 24\"\n",
              "       width=\"24px\">\n",
              "    <path d=\"M0 0h24v24H0V0z\" fill=\"none\"/>\n",
              "    <path d=\"M18.56 5.44l.94 2.06.94-2.06 2.06-.94-2.06-.94-.94-2.06-.94 2.06-2.06.94zm-11 1L8.5 8.5l.94-2.06 2.06-.94-2.06-.94L8.5 2.5l-.94 2.06-2.06.94zm10 10l.94 2.06.94-2.06 2.06-.94-2.06-.94-.94-2.06-.94 2.06-2.06.94z\"/><path d=\"M17.41 7.96l-1.37-1.37c-.4-.4-.92-.59-1.43-.59-.52 0-1.04.2-1.43.59L10.3 9.45l-7.72 7.72c-.78.78-.78 2.05 0 2.83L4 21.41c.39.39.9.59 1.41.59.51 0 1.02-.2 1.41-.59l7.78-7.78 2.81-2.81c.8-.78.8-2.07 0-2.86zM5.41 20L4 18.59l7.72-7.72 1.47 1.35L5.41 20z\"/>\n",
              "  </svg>\n",
              "      </button>\n",
              "      \n",
              "  <style>\n",
              "    .colab-df-container {\n",
              "      display:flex;\n",
              "      flex-wrap:wrap;\n",
              "      gap: 12px;\n",
              "    }\n",
              "\n",
              "    .colab-df-convert {\n",
              "      background-color: #E8F0FE;\n",
              "      border: none;\n",
              "      border-radius: 50%;\n",
              "      cursor: pointer;\n",
              "      display: none;\n",
              "      fill: #1967D2;\n",
              "      height: 32px;\n",
              "      padding: 0 0 0 0;\n",
              "      width: 32px;\n",
              "    }\n",
              "\n",
              "    .colab-df-convert:hover {\n",
              "      background-color: #E2EBFA;\n",
              "      box-shadow: 0px 1px 2px rgba(60, 64, 67, 0.3), 0px 1px 3px 1px rgba(60, 64, 67, 0.15);\n",
              "      fill: #174EA6;\n",
              "    }\n",
              "\n",
              "    [theme=dark] .colab-df-convert {\n",
              "      background-color: #3B4455;\n",
              "      fill: #D2E3FC;\n",
              "    }\n",
              "\n",
              "    [theme=dark] .colab-df-convert:hover {\n",
              "      background-color: #434B5C;\n",
              "      box-shadow: 0px 1px 3px 1px rgba(0, 0, 0, 0.15);\n",
              "      filter: drop-shadow(0px 1px 2px rgba(0, 0, 0, 0.3));\n",
              "      fill: #FFFFFF;\n",
              "    }\n",
              "  </style>\n",
              "\n",
              "      <script>\n",
              "        const buttonEl =\n",
              "          document.querySelector('#df-f8e5f006-75b8-46aa-b152-2cd38a427115 button.colab-df-convert');\n",
              "        buttonEl.style.display =\n",
              "          google.colab.kernel.accessAllowed ? 'block' : 'none';\n",
              "\n",
              "        async function convertToInteractive(key) {\n",
              "          const element = document.querySelector('#df-f8e5f006-75b8-46aa-b152-2cd38a427115');\n",
              "          const dataTable =\n",
              "            await google.colab.kernel.invokeFunction('convertToInteractive',\n",
              "                                                     [key], {});\n",
              "          if (!dataTable) return;\n",
              "\n",
              "          const docLinkHtml = 'Like what you see? Visit the ' +\n",
              "            '<a target=\"_blank\" href=https://colab.research.google.com/notebooks/data_table.ipynb>data table notebook</a>'\n",
              "            + ' to learn more about interactive tables.';\n",
              "          element.innerHTML = '';\n",
              "          dataTable['output_type'] = 'display_data';\n",
              "          await google.colab.output.renderOutput(dataTable, element);\n",
              "          const docLink = document.createElement('div');\n",
              "          docLink.innerHTML = docLinkHtml;\n",
              "          element.appendChild(docLink);\n",
              "        }\n",
              "      </script>\n",
              "    </div>\n",
              "  </div>\n",
              "  "
            ]
          },
          "metadata": {},
          "execution_count": 54
        }
      ],
      "source": [
        "make_model(df, name = '-незначимые признаки')"
      ]
    },
    {
      "cell_type": "markdown",
      "source": [
        "Отметим, что крайний этап преобразования данных был проведен без предварительного применения метода РСА. Это значит, что, сравнив метрики двух последних наблюдений, мы можем определить какой из методов работы с признаками наиболее эффективный и позволяет добиться лучшей предсказательной способности будущей модели. \n",
        "Замечаем, что после работы над дисбалансом данных (п.5) оба метода по преобразованию и анализу главных компонент показали приблизительно одинаковые возросшие метрики accuracy, recall и F1, что может говорить о том, что каждых из методов полезен в анализе и может быть применен в зависимости от того, есть ли необходимость интерпретировать признаки."
      ],
      "metadata": {
        "id": "izQbmbJaAqHi"
      },
      "id": "izQbmbJaAqHi"
    },
    {
      "cell_type": "markdown",
      "source": [
        "# Итог"
      ],
      "metadata": {
        "id": "aJC2_2eHoU8a"
      },
      "id": "aJC2_2eHoU8a"
    },
    {
      "cell_type": "code",
      "source": [
        "df.tail()"
      ],
      "metadata": {
        "colab": {
          "base_uri": "https://localhost:8080/",
          "height": 236
        },
        "id": "AqSdqfnIhRcq",
        "outputId": "253ff318-17d2-4359-8c26-aea165990d94"
      },
      "id": "AqSdqfnIhRcq",
      "execution_count": 55,
      "outputs": [
        {
          "output_type": "execute_result",
          "data": {
            "text/plain": [
              "       Bankrupt        X1        X4        X6        X7           X11  \\\n",
              "12301         1  0.471144  0.597827  0.998980  0.797293  5.651672e+09   \n",
              "12302         1  0.501664  0.589665  0.999039  0.797475  2.865673e-04   \n",
              "12303         1  0.494225  0.609928  0.999021  0.797392  2.094719e-04   \n",
              "12304         1  0.448366  0.593854  0.999014  0.797435  1.635150e-04   \n",
              "12305         1  0.460982  0.596221  0.998924  0.797196  8.647769e+09   \n",
              "\n",
              "                X12       X13       X14       X15  ...       X69  \\\n",
              "12301  1.307227e+08  0.463789  0.000827  0.069261  ...  0.002139   \n",
              "12302  9.817481e+07  0.458795  0.000436  0.004928  ...  0.002025   \n",
              "12303  6.954546e+09  0.459132  0.000452  0.000000  ...  0.002227   \n",
              "12304  1.523570e+09  0.461226  0.000486  0.000000  ...  0.002040   \n",
              "12305  1.219352e+09  0.464714  0.000757  0.000000  ...  0.002039   \n",
              "\n",
              "                X72       X73           X74       X75       X76       X79  \\\n",
              "12301  3.596001e+09  0.593841  7.080227e+08  0.671571  0.561574  0.117074   \n",
              "12302  1.453540e-04  0.593951  1.535244e+08  0.671575  0.308969  0.111978   \n",
              "12303  3.003751e-04  0.593974  4.122189e+09  0.671561  0.071978  0.114671   \n",
              "12304  1.656243e-04  0.593915  2.071862e+09  0.671559  0.418729  0.118007   \n",
              "12305  7.145439e+09  0.593883  9.625860e+08  0.671572  0.559091  0.122757   \n",
              "\n",
              "            X80       X84       X87  \n",
              "12301  0.641263  0.028056  0.002703  \n",
              "12302  0.684514  0.037981  0.000553  \n",
              "12303  0.628287  0.034392  0.000792  \n",
              "12304  0.632150  0.047299  0.003295  \n",
              "12305  0.642068  0.028980  0.003961  \n",
              "\n",
              "[5 rows x 47 columns]"
            ],
            "text/html": [
              "\n",
              "  <div id=\"df-8b2b9e94-ebb9-4b34-85a1-3ad4ac0540ce\">\n",
              "    <div class=\"colab-df-container\">\n",
              "      <div>\n",
              "<style scoped>\n",
              "    .dataframe tbody tr th:only-of-type {\n",
              "        vertical-align: middle;\n",
              "    }\n",
              "\n",
              "    .dataframe tbody tr th {\n",
              "        vertical-align: top;\n",
              "    }\n",
              "\n",
              "    .dataframe thead th {\n",
              "        text-align: right;\n",
              "    }\n",
              "</style>\n",
              "<table border=\"1\" class=\"dataframe\">\n",
              "  <thead>\n",
              "    <tr style=\"text-align: right;\">\n",
              "      <th></th>\n",
              "      <th>Bankrupt</th>\n",
              "      <th>X1</th>\n",
              "      <th>X4</th>\n",
              "      <th>X6</th>\n",
              "      <th>X7</th>\n",
              "      <th>X11</th>\n",
              "      <th>X12</th>\n",
              "      <th>X13</th>\n",
              "      <th>X14</th>\n",
              "      <th>X15</th>\n",
              "      <th>...</th>\n",
              "      <th>X69</th>\n",
              "      <th>X72</th>\n",
              "      <th>X73</th>\n",
              "      <th>X74</th>\n",
              "      <th>X75</th>\n",
              "      <th>X76</th>\n",
              "      <th>X79</th>\n",
              "      <th>X80</th>\n",
              "      <th>X84</th>\n",
              "      <th>X87</th>\n",
              "    </tr>\n",
              "  </thead>\n",
              "  <tbody>\n",
              "    <tr>\n",
              "      <th>12301</th>\n",
              "      <td>1</td>\n",
              "      <td>0.471144</td>\n",
              "      <td>0.597827</td>\n",
              "      <td>0.998980</td>\n",
              "      <td>0.797293</td>\n",
              "      <td>5.651672e+09</td>\n",
              "      <td>1.307227e+08</td>\n",
              "      <td>0.463789</td>\n",
              "      <td>0.000827</td>\n",
              "      <td>0.069261</td>\n",
              "      <td>...</td>\n",
              "      <td>0.002139</td>\n",
              "      <td>3.596001e+09</td>\n",
              "      <td>0.593841</td>\n",
              "      <td>7.080227e+08</td>\n",
              "      <td>0.671571</td>\n",
              "      <td>0.561574</td>\n",
              "      <td>0.117074</td>\n",
              "      <td>0.641263</td>\n",
              "      <td>0.028056</td>\n",
              "      <td>0.002703</td>\n",
              "    </tr>\n",
              "    <tr>\n",
              "      <th>12302</th>\n",
              "      <td>1</td>\n",
              "      <td>0.501664</td>\n",
              "      <td>0.589665</td>\n",
              "      <td>0.999039</td>\n",
              "      <td>0.797475</td>\n",
              "      <td>2.865673e-04</td>\n",
              "      <td>9.817481e+07</td>\n",
              "      <td>0.458795</td>\n",
              "      <td>0.000436</td>\n",
              "      <td>0.004928</td>\n",
              "      <td>...</td>\n",
              "      <td>0.002025</td>\n",
              "      <td>1.453540e-04</td>\n",
              "      <td>0.593951</td>\n",
              "      <td>1.535244e+08</td>\n",
              "      <td>0.671575</td>\n",
              "      <td>0.308969</td>\n",
              "      <td>0.111978</td>\n",
              "      <td>0.684514</td>\n",
              "      <td>0.037981</td>\n",
              "      <td>0.000553</td>\n",
              "    </tr>\n",
              "    <tr>\n",
              "      <th>12303</th>\n",
              "      <td>1</td>\n",
              "      <td>0.494225</td>\n",
              "      <td>0.609928</td>\n",
              "      <td>0.999021</td>\n",
              "      <td>0.797392</td>\n",
              "      <td>2.094719e-04</td>\n",
              "      <td>6.954546e+09</td>\n",
              "      <td>0.459132</td>\n",
              "      <td>0.000452</td>\n",
              "      <td>0.000000</td>\n",
              "      <td>...</td>\n",
              "      <td>0.002227</td>\n",
              "      <td>3.003751e-04</td>\n",
              "      <td>0.593974</td>\n",
              "      <td>4.122189e+09</td>\n",
              "      <td>0.671561</td>\n",
              "      <td>0.071978</td>\n",
              "      <td>0.114671</td>\n",
              "      <td>0.628287</td>\n",
              "      <td>0.034392</td>\n",
              "      <td>0.000792</td>\n",
              "    </tr>\n",
              "    <tr>\n",
              "      <th>12304</th>\n",
              "      <td>1</td>\n",
              "      <td>0.448366</td>\n",
              "      <td>0.593854</td>\n",
              "      <td>0.999014</td>\n",
              "      <td>0.797435</td>\n",
              "      <td>1.635150e-04</td>\n",
              "      <td>1.523570e+09</td>\n",
              "      <td>0.461226</td>\n",
              "      <td>0.000486</td>\n",
              "      <td>0.000000</td>\n",
              "      <td>...</td>\n",
              "      <td>0.002040</td>\n",
              "      <td>1.656243e-04</td>\n",
              "      <td>0.593915</td>\n",
              "      <td>2.071862e+09</td>\n",
              "      <td>0.671559</td>\n",
              "      <td>0.418729</td>\n",
              "      <td>0.118007</td>\n",
              "      <td>0.632150</td>\n",
              "      <td>0.047299</td>\n",
              "      <td>0.003295</td>\n",
              "    </tr>\n",
              "    <tr>\n",
              "      <th>12305</th>\n",
              "      <td>1</td>\n",
              "      <td>0.460982</td>\n",
              "      <td>0.596221</td>\n",
              "      <td>0.998924</td>\n",
              "      <td>0.797196</td>\n",
              "      <td>8.647769e+09</td>\n",
              "      <td>1.219352e+09</td>\n",
              "      <td>0.464714</td>\n",
              "      <td>0.000757</td>\n",
              "      <td>0.000000</td>\n",
              "      <td>...</td>\n",
              "      <td>0.002039</td>\n",
              "      <td>7.145439e+09</td>\n",
              "      <td>0.593883</td>\n",
              "      <td>9.625860e+08</td>\n",
              "      <td>0.671572</td>\n",
              "      <td>0.559091</td>\n",
              "      <td>0.122757</td>\n",
              "      <td>0.642068</td>\n",
              "      <td>0.028980</td>\n",
              "      <td>0.003961</td>\n",
              "    </tr>\n",
              "  </tbody>\n",
              "</table>\n",
              "<p>5 rows × 47 columns</p>\n",
              "</div>\n",
              "      <button class=\"colab-df-convert\" onclick=\"convertToInteractive('df-8b2b9e94-ebb9-4b34-85a1-3ad4ac0540ce')\"\n",
              "              title=\"Convert this dataframe to an interactive table.\"\n",
              "              style=\"display:none;\">\n",
              "        \n",
              "  <svg xmlns=\"http://www.w3.org/2000/svg\" height=\"24px\"viewBox=\"0 0 24 24\"\n",
              "       width=\"24px\">\n",
              "    <path d=\"M0 0h24v24H0V0z\" fill=\"none\"/>\n",
              "    <path d=\"M18.56 5.44l.94 2.06.94-2.06 2.06-.94-2.06-.94-.94-2.06-.94 2.06-2.06.94zm-11 1L8.5 8.5l.94-2.06 2.06-.94-2.06-.94L8.5 2.5l-.94 2.06-2.06.94zm10 10l.94 2.06.94-2.06 2.06-.94-2.06-.94-.94-2.06-.94 2.06-2.06.94z\"/><path d=\"M17.41 7.96l-1.37-1.37c-.4-.4-.92-.59-1.43-.59-.52 0-1.04.2-1.43.59L10.3 9.45l-7.72 7.72c-.78.78-.78 2.05 0 2.83L4 21.41c.39.39.9.59 1.41.59.51 0 1.02-.2 1.41-.59l7.78-7.78 2.81-2.81c.8-.78.8-2.07 0-2.86zM5.41 20L4 18.59l7.72-7.72 1.47 1.35L5.41 20z\"/>\n",
              "  </svg>\n",
              "      </button>\n",
              "      \n",
              "  <style>\n",
              "    .colab-df-container {\n",
              "      display:flex;\n",
              "      flex-wrap:wrap;\n",
              "      gap: 12px;\n",
              "    }\n",
              "\n",
              "    .colab-df-convert {\n",
              "      background-color: #E8F0FE;\n",
              "      border: none;\n",
              "      border-radius: 50%;\n",
              "      cursor: pointer;\n",
              "      display: none;\n",
              "      fill: #1967D2;\n",
              "      height: 32px;\n",
              "      padding: 0 0 0 0;\n",
              "      width: 32px;\n",
              "    }\n",
              "\n",
              "    .colab-df-convert:hover {\n",
              "      background-color: #E2EBFA;\n",
              "      box-shadow: 0px 1px 2px rgba(60, 64, 67, 0.3), 0px 1px 3px 1px rgba(60, 64, 67, 0.15);\n",
              "      fill: #174EA6;\n",
              "    }\n",
              "\n",
              "    [theme=dark] .colab-df-convert {\n",
              "      background-color: #3B4455;\n",
              "      fill: #D2E3FC;\n",
              "    }\n",
              "\n",
              "    [theme=dark] .colab-df-convert:hover {\n",
              "      background-color: #434B5C;\n",
              "      box-shadow: 0px 1px 3px 1px rgba(0, 0, 0, 0.15);\n",
              "      filter: drop-shadow(0px 1px 2px rgba(0, 0, 0, 0.3));\n",
              "      fill: #FFFFFF;\n",
              "    }\n",
              "  </style>\n",
              "\n",
              "      <script>\n",
              "        const buttonEl =\n",
              "          document.querySelector('#df-8b2b9e94-ebb9-4b34-85a1-3ad4ac0540ce button.colab-df-convert');\n",
              "        buttonEl.style.display =\n",
              "          google.colab.kernel.accessAllowed ? 'block' : 'none';\n",
              "\n",
              "        async function convertToInteractive(key) {\n",
              "          const element = document.querySelector('#df-8b2b9e94-ebb9-4b34-85a1-3ad4ac0540ce');\n",
              "          const dataTable =\n",
              "            await google.colab.kernel.invokeFunction('convertToInteractive',\n",
              "                                                     [key], {});\n",
              "          if (!dataTable) return;\n",
              "\n",
              "          const docLinkHtml = 'Like what you see? Visit the ' +\n",
              "            '<a target=\"_blank\" href=https://colab.research.google.com/notebooks/data_table.ipynb>data table notebook</a>'\n",
              "            + ' to learn more about interactive tables.';\n",
              "          element.innerHTML = '';\n",
              "          dataTable['output_type'] = 'display_data';\n",
              "          await google.colab.output.renderOutput(dataTable, element);\n",
              "          const docLink = document.createElement('div');\n",
              "          docLink.innerHTML = docLinkHtml;\n",
              "          element.appendChild(docLink);\n",
              "        }\n",
              "      </script>\n",
              "    </div>\n",
              "  </div>\n",
              "  "
            ]
          },
          "metadata": {},
          "execution_count": 55
        }
      ]
    },
    {
      "cell_type": "code",
      "source": [
        "df.info()"
      ],
      "metadata": {
        "colab": {
          "base_uri": "https://localhost:8080/"
        },
        "id": "u3l7QA2phRlu",
        "outputId": "1eafa294-d06d-4522-f206-ca4c29d0fd69"
      },
      "id": "u3l7QA2phRlu",
      "execution_count": 56,
      "outputs": [
        {
          "output_type": "stream",
          "name": "stdout",
          "text": [
            "<class 'pandas.core.frame.DataFrame'>\n",
            "RangeIndex: 12306 entries, 0 to 12305\n",
            "Data columns (total 47 columns):\n",
            " #   Column    Non-Null Count  Dtype  \n",
            "---  ------    --------------  -----  \n",
            " 0   Bankrupt  12306 non-null  int64  \n",
            " 1   X1        12306 non-null  float64\n",
            " 2   X4        12306 non-null  float64\n",
            " 3   X6        12306 non-null  float64\n",
            " 4   X7        12306 non-null  float64\n",
            " 5   X11       12306 non-null  float64\n",
            " 6   X12       12306 non-null  float64\n",
            " 7   X13       12306 non-null  float64\n",
            " 8   X14       12306 non-null  float64\n",
            " 9   X15       12306 non-null  float64\n",
            " 10  X16       12306 non-null  float64\n",
            " 11  X19       12306 non-null  float64\n",
            " 12  X20       12306 non-null  float64\n",
            " 13  X21       12306 non-null  float64\n",
            " 14  X30       12306 non-null  float64\n",
            " 15  X31       12306 non-null  float64\n",
            " 16  X32       12306 non-null  float64\n",
            " 17  X33       12306 non-null  float64\n",
            " 18  X34       12306 non-null  float64\n",
            " 19  X36       12306 non-null  float64\n",
            " 20  X39       12306 non-null  float64\n",
            " 21  X40       12306 non-null  float64\n",
            " 22  X44       12306 non-null  float64\n",
            " 23  X45       12306 non-null  float64\n",
            " 24  X46       12306 non-null  float64\n",
            " 25  X48       12306 non-null  float64\n",
            " 26  X50       12306 non-null  float64\n",
            " 27  X51       12306 non-null  float64\n",
            " 28  X52       12306 non-null  float64\n",
            " 29  X53       12306 non-null  float64\n",
            " 30  X54       12306 non-null  float64\n",
            " 31  X57       12306 non-null  float64\n",
            " 32  X59       12306 non-null  float64\n",
            " 33  X63       12306 non-null  float64\n",
            " 34  X64       12306 non-null  float64\n",
            " 35  X67       12306 non-null  float64\n",
            " 36  X68       12306 non-null  float64\n",
            " 37  X69       12306 non-null  float64\n",
            " 38  X72       12306 non-null  float64\n",
            " 39  X73       12306 non-null  float64\n",
            " 40  X74       12306 non-null  float64\n",
            " 41  X75       12306 non-null  float64\n",
            " 42  X76       12306 non-null  float64\n",
            " 43  X79       12306 non-null  float64\n",
            " 44  X80       12306 non-null  float64\n",
            " 45  X84       12306 non-null  float64\n",
            " 46  X87       12306 non-null  float64\n",
            "dtypes: float64(46), int64(1)\n",
            "memory usage: 4.4 MB\n"
          ]
        }
      ]
    },
    {
      "cell_type": "code",
      "source": [],
      "metadata": {
        "id": "s3VnPqQWhRpo"
      },
      "id": "s3VnPqQWhRpo",
      "execution_count": null,
      "outputs": []
    },
    {
      "cell_type": "code",
      "source": [],
      "metadata": {
        "id": "YxE7Nr8Ep7ag"
      },
      "id": "YxE7Nr8Ep7ag",
      "execution_count": null,
      "outputs": []
    },
    {
      "cell_type": "code",
      "source": [],
      "metadata": {
        "id": "DhdPslu5p7c_"
      },
      "id": "DhdPslu5p7c_",
      "execution_count": null,
      "outputs": []
    },
    {
      "cell_type": "code",
      "source": [],
      "metadata": {
        "id": "2nhiV1top7fm"
      },
      "id": "2nhiV1top7fm",
      "execution_count": null,
      "outputs": []
    },
    {
      "cell_type": "code",
      "source": [],
      "metadata": {
        "id": "4Y4xh-xgp7iM"
      },
      "id": "4Y4xh-xgp7iM",
      "execution_count": null,
      "outputs": []
    }
  ],
  "metadata": {
    "kernelspec": {
      "display_name": "Python 3",
      "language": "python",
      "name": "python3"
    },
    "language_info": {
      "codemirror_mode": {
        "name": "ipython",
        "version": 3
      },
      "file_extension": ".py",
      "mimetype": "text/x-python",
      "name": "python",
      "nbconvert_exporter": "python",
      "pygments_lexer": "ipython3",
      "version": "3.8.8"
    },
    "colab": {
      "provenance": []
    }
  },
  "nbformat": 4,
  "nbformat_minor": 5
}
